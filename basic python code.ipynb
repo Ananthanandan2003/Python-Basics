{
 "cells": [
  {
   "cell_type": "markdown",
   "id": "bc629c7c-465d-49b8-9c0e-fd60c53f299f",
   "metadata": {},
   "source": [
    "# Number system conversion"
   ]
  },
  {
   "cell_type": "code",
   "execution_count": 4,
   "id": "3d269f0d-56ce-4572-b680-ae5437e539f5",
   "metadata": {},
   "outputs": [
    {
     "data": {
      "text/plain": [
       "25"
      ]
     },
     "execution_count": 4,
     "metadata": {},
     "output_type": "execute_result"
    }
   ],
   "source": [
    "25"
   ]
  },
  {
   "cell_type": "code",
   "execution_count": 6,
   "id": "c90e968b-f408-4d9b-96dd-861e8af23062",
   "metadata": {},
   "outputs": [
    {
     "data": {
      "text/plain": [
       "'0b11001'"
      ]
     },
     "execution_count": 6,
     "metadata": {},
     "output_type": "execute_result"
    }
   ],
   "source": [
    "bin(25)"
   ]
  },
  {
   "cell_type": "code",
   "execution_count": 8,
   "id": "6294e80e-63f4-4f8e-9095-524d80f8fce0",
   "metadata": {},
   "outputs": [
    {
     "data": {
      "text/plain": [
       "'0x19'"
      ]
     },
     "execution_count": 8,
     "metadata": {},
     "output_type": "execute_result"
    }
   ],
   "source": [
    "hex(25)"
   ]
  },
  {
   "cell_type": "code",
   "execution_count": 10,
   "id": "97111fed-4a7e-4f30-80ae-233c934df716",
   "metadata": {},
   "outputs": [
    {
     "data": {
      "text/plain": [
       "'0o31'"
      ]
     },
     "execution_count": 10,
     "metadata": {},
     "output_type": "execute_result"
    }
   ],
   "source": [
    "oct(25)"
   ]
  },
  {
   "cell_type": "code",
   "execution_count": 12,
   "id": "752a6a79-9d2e-4c10-9f54-e991ae6233b6",
   "metadata": {},
   "outputs": [
    {
     "data": {
      "text/plain": [
       "17"
      ]
     },
     "execution_count": 12,
     "metadata": {},
     "output_type": "execute_result"
    }
   ],
   "source": [
    "int(0b10001)"
   ]
  },
  {
   "cell_type": "code",
   "execution_count": 16,
   "id": "e2e9a1f9-b4ee-4af9-9497-dc85eb4b5c09",
   "metadata": {},
   "outputs": [
    {
     "data": {
      "text/plain": [
       "520"
      ]
     },
     "execution_count": 16,
     "metadata": {},
     "output_type": "execute_result"
    }
   ],
   "source": [
    "int(0o1010)"
   ]
  },
  {
   "cell_type": "code",
   "execution_count": 22,
   "id": "538369cb-ba14-4ffb-88c6-3d6d63fa1fbf",
   "metadata": {},
   "outputs": [
    {
     "data": {
      "text/plain": [
       "10"
      ]
     },
     "execution_count": 22,
     "metadata": {},
     "output_type": "execute_result"
    }
   ],
   "source": [
    "int(0xa)"
   ]
  },
  {
   "cell_type": "markdown",
   "id": "b162d726-1075-4026-9090-df834372b7a3",
   "metadata": {},
   "source": [
    "# swap variable"
   ]
  },
  {
   "cell_type": "code",
   "execution_count": 27,
   "id": "c36d3cdd-5631-4807-8c66-df7f5b2e9ae1",
   "metadata": {},
   "outputs": [],
   "source": [
    "a=10\n",
    "b=20"
   ]
  },
  {
   "cell_type": "code",
   "execution_count": 29,
   "id": "d0ac5d90-1bb5-4551-b12f-329e2a376735",
   "metadata": {},
   "outputs": [
    {
     "name": "stdout",
     "output_type": "stream",
     "text": [
      "20\n",
      "20\n"
     ]
    }
   ],
   "source": [
    "a=b\n",
    "b=a\n",
    "print(a)\n",
    "print(b)"
   ]
  },
  {
   "cell_type": "code",
   "execution_count": 31,
   "id": "44f3fea9-9b0f-428b-a3c5-b816cc0cbb3e",
   "metadata": {},
   "outputs": [
    {
     "name": "stdout",
     "output_type": "stream",
     "text": [
      "41\n",
      "21\n"
     ]
    }
   ],
   "source": [
    "a1=21\n",
    "b1=41\n",
    "c=a1\n",
    "a1=b1\n",
    "b1=c\n",
    "print(a1)\n",
    "print(b1)"
   ]
  },
  {
   "cell_type": "code",
   "execution_count": 33,
   "id": "6465eb3f-15e1-4c10-89fb-70ff974a0151",
   "metadata": {},
   "outputs": [
    {
     "name": "stdout",
     "output_type": "stream",
     "text": [
      "41\n",
      "21\n"
     ]
    }
   ],
   "source": [
    "a1=21\n",
    "b1=41\n",
    "a1=a1+b1\n",
    "b1=a1-b1\n",
    "a1=a1-b1\n",
    "print(a1)\n",
    "print(b1)"
   ]
  },
  {
   "cell_type": "code",
   "execution_count": 35,
   "id": "1ba8fb5b-71ef-4dae-864a-f520ac954072",
   "metadata": {},
   "outputs": [
    {
     "name": "stdout",
     "output_type": "stream",
     "text": [
      "5\n",
      "6\n"
     ]
    }
   ],
   "source": [
    "print(0b101)\n",
    "print(0b110)"
   ]
  },
  {
   "cell_type": "code",
   "execution_count": 43,
   "id": "c5ea54ea-9702-4734-aeac-9be268135958",
   "metadata": {},
   "outputs": [
    {
     "name": "stdout",
     "output_type": "stream",
     "text": [
      "21\n",
      "41\n"
     ]
    }
   ],
   "source": [
    "print(a1)\n",
    "print(b1)"
   ]
  },
  {
   "cell_type": "code",
   "execution_count": 45,
   "id": "8744a65b-c3ff-4b22-990a-e7e262ea4484",
   "metadata": {},
   "outputs": [],
   "source": [
    "a1,b1=b1,a1"
   ]
  },
  {
   "cell_type": "code",
   "execution_count": 47,
   "id": "775947bd-1056-4d80-ad6f-53710bab6e57",
   "metadata": {},
   "outputs": [
    {
     "name": "stdout",
     "output_type": "stream",
     "text": [
      "41\n",
      "21\n"
     ]
    }
   ],
   "source": [
    "print(a1)\n",
    "print(b1)"
   ]
  },
  {
   "cell_type": "markdown",
   "id": "5226f434-04ac-409f-8880-c84c37e83fa1",
   "metadata": {},
   "source": [
    "# bitwise operators\n",
    "## 1.compliment(~)\n",
    "## 2.AND(&)\n",
    "## 3.OR(|)\n",
    "## 4.XOR(^)\n",
    "## 5.shift operators(right,left)"
   ]
  },
  {
   "cell_type": "code",
   "execution_count": 52,
   "id": "adb16420-cee5-41e4-8884-9d6e784ddf27",
   "metadata": {},
   "outputs": [
    {
     "data": {
      "text/plain": [
       "-13"
      ]
     },
     "execution_count": 52,
     "metadata": {},
     "output_type": "execute_result"
    }
   ],
   "source": [
    "~12"
   ]
  },
  {
   "cell_type": "code",
   "execution_count": 54,
   "id": "e315312d-ba4a-4aae-9070-9601c9dc9e42",
   "metadata": {},
   "outputs": [
    {
     "data": {
      "text/plain": [
       "-14"
      ]
     },
     "execution_count": 54,
     "metadata": {},
     "output_type": "execute_result"
    }
   ],
   "source": [
    "~13"
   ]
  },
  {
   "cell_type": "code",
   "execution_count": 56,
   "id": "8e64ec54-55c5-4baf-a467-e8d7ee0c7223",
   "metadata": {},
   "outputs": [
    {
     "data": {
      "text/plain": [
       "5"
      ]
     },
     "execution_count": 56,
     "metadata": {},
     "output_type": "execute_result"
    }
   ],
   "source": [
    "~-6"
   ]
  },
  {
   "cell_type": "code",
   "execution_count": 58,
   "id": "1bb3b7c1-dbdd-43b8-9a0e-18c52af8e927",
   "metadata": {},
   "outputs": [
    {
     "data": {
      "text/plain": [
       "4"
      ]
     },
     "execution_count": 58,
     "metadata": {},
     "output_type": "execute_result"
    }
   ],
   "source": [
    "5 & 6"
   ]
  },
  {
   "cell_type": "code",
   "execution_count": 60,
   "id": "941d35fe-8378-46a8-85e6-bf3858b2ffb7",
   "metadata": {},
   "outputs": [
    {
     "data": {
      "text/plain": [
       "0"
      ]
     },
     "execution_count": 60,
     "metadata": {},
     "output_type": "execute_result"
    }
   ],
   "source": [
    "0&1"
   ]
  },
  {
   "cell_type": "code",
   "execution_count": 64,
   "id": "a4242315-98ef-47ca-816c-1f16776a69ca",
   "metadata": {},
   "outputs": [
    {
     "data": {
      "text/plain": [
       "1"
      ]
     },
     "execution_count": 64,
     "metadata": {},
     "output_type": "execute_result"
    }
   ],
   "source": [
    "0|1"
   ]
  },
  {
   "cell_type": "code",
   "execution_count": 66,
   "id": "8c40e657-3382-4d8e-a620-3c4bda52808a",
   "metadata": {},
   "outputs": [
    {
     "data": {
      "text/plain": [
       "15"
      ]
     },
     "execution_count": 66,
     "metadata": {},
     "output_type": "execute_result"
    }
   ],
   "source": [
    "11|12 "
   ]
  },
  {
   "cell_type": "code",
   "execution_count": 68,
   "id": "285553cf-7600-4e03-8642-b86c45ba86dd",
   "metadata": {},
   "outputs": [
    {
     "data": {
      "text/plain": [
       "7"
      ]
     },
     "execution_count": 68,
     "metadata": {},
     "output_type": "execute_result"
    }
   ],
   "source": [
    "11^12"
   ]
  },
  {
   "cell_type": "code",
   "execution_count": 72,
   "id": "af4397b2-3dde-4da0-abaf-8c8c0f2c9c8e",
   "metadata": {},
   "outputs": [
    {
     "data": {
      "text/plain": [
       "48"
      ]
     },
     "execution_count": 72,
     "metadata": {},
     "output_type": "execute_result"
    }
   ],
   "source": [
    "12<<2"
   ]
  },
  {
   "cell_type": "code",
   "execution_count": 74,
   "id": "2d7bbb01-032b-4501-b5f5-1dc557fe67fe",
   "metadata": {},
   "outputs": [
    {
     "data": {
      "text/plain": [
       "3"
      ]
     },
     "execution_count": 74,
     "metadata": {},
     "output_type": "execute_result"
    }
   ],
   "source": [
    "12>>2"
   ]
  },
  {
   "cell_type": "code",
   "execution_count": 76,
   "id": "f38c670d-0257-4287-b05e-0635726c629d",
   "metadata": {},
   "outputs": [
    {
     "data": {
      "text/plain": [
       "416"
      ]
     },
     "execution_count": 76,
     "metadata": {},
     "output_type": "execute_result"
    }
   ],
   "source": [
    "13<<5"
   ]
  },
  {
   "cell_type": "markdown",
   "id": "5e5db04f-5b34-4ebb-9e06-44794df70d6f",
   "metadata": {},
   "source": [
    "## import math module"
   ]
  },
  {
   "cell_type": "code",
   "execution_count": 81,
   "id": "ab35b159-1b8d-4909-873c-9451271d046d",
   "metadata": {},
   "outputs": [
    {
     "ename": "NameError",
     "evalue": "name 'sqrt' is not defined",
     "output_type": "error",
     "traceback": [
      "\u001b[1;31m---------------------------------------------------------------------------\u001b[0m",
      "\u001b[1;31mNameError\u001b[0m                                 Traceback (most recent call last)",
      "Cell \u001b[1;32mIn[81], line 1\u001b[0m\n\u001b[1;32m----> 1\u001b[0m sqrt(\u001b[38;5;241m343\u001b[39m)\n",
      "\u001b[1;31mNameError\u001b[0m: name 'sqrt' is not defined"
     ]
    }
   ],
   "source": [
    "sqrt(343)"
   ]
  },
  {
   "cell_type": "code",
   "execution_count": 85,
   "id": "aa0344b8-5f01-4e09-b6f9-cb09d9c10b5b",
   "metadata": {},
   "outputs": [
    {
     "data": {
      "text/plain": [
       "18.520259177452136"
      ]
     },
     "execution_count": 85,
     "metadata": {},
     "output_type": "execute_result"
    }
   ],
   "source": [
    "import math\n",
    "math.sqrt(343)"
   ]
  },
  {
   "cell_type": "code",
   "execution_count": 87,
   "id": "a7c2fee4-f459-45a2-a4b6-da060119c00e",
   "metadata": {},
   "outputs": [
    {
     "data": {
      "text/plain": [
       "33"
      ]
     },
     "execution_count": 87,
     "metadata": {},
     "output_type": "execute_result"
    }
   ],
   "source": [
    "math.ceil(32.34)"
   ]
  },
  {
   "cell_type": "code",
   "execution_count": 89,
   "id": "0d1cacc1-2b94-4583-b979-66a9d9e1e73a",
   "metadata": {},
   "outputs": [
    {
     "data": {
      "text/plain": [
       "32"
      ]
     },
     "execution_count": 89,
     "metadata": {},
     "output_type": "execute_result"
    }
   ],
   "source": [
    "math.floor(32.34)"
   ]
  },
  {
   "cell_type": "code",
   "execution_count": 91,
   "id": "9427de5c-17e2-4552-9501-343e5ffd1eba",
   "metadata": {},
   "outputs": [
    {
     "data": {
      "text/plain": [
       "243.0"
      ]
     },
     "execution_count": 91,
     "metadata": {},
     "output_type": "execute_result"
    }
   ],
   "source": [
    "math.pow(3,5)"
   ]
  },
  {
   "cell_type": "code",
   "execution_count": 93,
   "id": "727afc1e-f8fd-45b5-8c9f-d5f7b24ec188",
   "metadata": {},
   "outputs": [],
   "source": [
    "import math as m"
   ]
  },
  {
   "cell_type": "code",
   "execution_count": 95,
   "id": "bc39fbcc-5868-4758-8fc2-e33e81ec4682",
   "metadata": {},
   "outputs": [
    {
     "data": {
      "text/plain": [
       "13"
      ]
     },
     "execution_count": 95,
     "metadata": {},
     "output_type": "execute_result"
    }
   ],
   "source": [
    "m.ceil(12.11)"
   ]
  },
  {
   "cell_type": "code",
   "execution_count": 97,
   "id": "d70f02a1-3659-4ee4-8975-520af5867845",
   "metadata": {},
   "outputs": [
    {
     "data": {
      "text/plain": [
       "36.0"
      ]
     },
     "execution_count": 97,
     "metadata": {},
     "output_type": "execute_result"
    }
   ],
   "source": [
    "m.sqrt(1296)"
   ]
  },
  {
   "cell_type": "code",
   "execution_count": 99,
   "id": "b536852c-a94d-4a9b-b726-e5a5950b2666",
   "metadata": {},
   "outputs": [],
   "source": [
    "from math import sqrt"
   ]
  },
  {
   "cell_type": "code",
   "execution_count": 101,
   "id": "5cd73bf5-f187-4091-99cf-80a617b991d4",
   "metadata": {},
   "outputs": [
    {
     "data": {
      "text/plain": [
       "4.898979485566356"
      ]
     },
     "execution_count": 101,
     "metadata": {},
     "output_type": "execute_result"
    }
   ],
   "source": [
    "sqrt(24)"
   ]
  },
  {
   "cell_type": "code",
   "execution_count": 103,
   "id": "835651f9-fb81-4471-8fb7-2f261f04630b",
   "metadata": {},
   "outputs": [
    {
     "ename": "NameError",
     "evalue": "name 'ceil' is not defined",
     "output_type": "error",
     "traceback": [
      "\u001b[1;31m---------------------------------------------------------------------------\u001b[0m",
      "\u001b[1;31mNameError\u001b[0m                                 Traceback (most recent call last)",
      "Cell \u001b[1;32mIn[103], line 1\u001b[0m\n\u001b[1;32m----> 1\u001b[0m ceil(\u001b[38;5;241m2.3\u001b[39m)\n",
      "\u001b[1;31mNameError\u001b[0m: name 'ceil' is not defined"
     ]
    }
   ],
   "source": [
    "ceil(2.3)"
   ]
  },
  {
   "cell_type": "code",
   "execution_count": 107,
   "id": "5224c548-a85a-4d69-960a-e80646d7f1c4",
   "metadata": {},
   "outputs": [
    {
     "data": {
      "text/plain": [
       "3"
      ]
     },
     "execution_count": 107,
     "metadata": {},
     "output_type": "execute_result"
    }
   ],
   "source": [
    "from math import sqrt,ceil\n",
    "ceil(2.3)"
   ]
  },
  {
   "cell_type": "code",
   "execution_count": 109,
   "id": "585bbe27-46b2-4f69-b78c-0a4a2b49cb06",
   "metadata": {},
   "outputs": [
    {
     "data": {
      "text/plain": [
       "8.0"
      ]
     },
     "execution_count": 109,
     "metadata": {},
     "output_type": "execute_result"
    }
   ],
   "source": [
    "from math import *\n",
    "pow(2,3)"
   ]
  },
  {
   "cell_type": "markdown",
   "id": "9ef4bd28-f48d-47d7-956e-5839e43d95b5",
   "metadata": {},
   "source": [
    "## user input function"
   ]
  },
  {
   "cell_type": "code",
   "execution_count": 112,
   "id": "33f46afd-38d7-4db0-b755-c94d6320a7b1",
   "metadata": {},
   "outputs": [
    {
     "name": "stdin",
     "output_type": "stream",
     "text": [
      " 3\n",
      " 5\n"
     ]
    },
    {
     "name": "stdout",
     "output_type": "stream",
     "text": [
      "35\n"
     ]
    }
   ],
   "source": [
    "a=input()\n",
    "b=input()\n",
    "print(a+b)"
   ]
  },
  {
   "cell_type": "code",
   "execution_count": 114,
   "id": "12d37f15-fcb1-494f-94c7-315a7224d3d8",
   "metadata": {},
   "outputs": [
    {
     "name": "stdin",
     "output_type": "stream",
     "text": [
      "enter a num1 4\n",
      "enter a num2 5\n"
     ]
    },
    {
     "name": "stdout",
     "output_type": "stream",
     "text": [
      "9\n"
     ]
    }
   ],
   "source": [
    "a=int(input('enter a num1'))\n",
    "b=int(input('enter a num2'))\n",
    "print(a+b)"
   ]
  },
  {
   "cell_type": "code",
   "execution_count": 116,
   "id": "eeede6ce-e112-4371-b0f8-81c17b089dac",
   "metadata": {},
   "outputs": [
    {
     "name": "stdin",
     "output_type": "stream",
     "text": [
      "enter a string hello\n"
     ]
    },
    {
     "data": {
      "text/plain": [
       "'hello'"
      ]
     },
     "execution_count": 116,
     "metadata": {},
     "output_type": "execute_result"
    }
   ],
   "source": [
    "a=input(\"enter a string\")\n",
    "a"
   ]
  },
  {
   "cell_type": "code",
   "execution_count": 118,
   "id": "6c534776-7aa5-485a-a9d4-35ba70b812c7",
   "metadata": {},
   "outputs": [
    {
     "data": {
      "text/plain": [
       "'h'"
      ]
     },
     "execution_count": 118,
     "metadata": {},
     "output_type": "execute_result"
    }
   ],
   "source": [
    "a[0]"
   ]
  },
  {
   "cell_type": "code",
   "execution_count": 120,
   "id": "e3af00c2-250d-4626-9301-4bb3237bfafd",
   "metadata": {},
   "outputs": [
    {
     "data": {
      "text/plain": [
       "'e'"
      ]
     },
     "execution_count": 120,
     "metadata": {},
     "output_type": "execute_result"
    }
   ],
   "source": [
    "a[1]"
   ]
  },
  {
   "cell_type": "code",
   "execution_count": 122,
   "id": "3048785f-3cdd-40d1-b2f0-1fefc6ad9862",
   "metadata": {},
   "outputs": [
    {
     "data": {
      "text/plain": [
       "'o'"
      ]
     },
     "execution_count": 122,
     "metadata": {},
     "output_type": "execute_result"
    }
   ],
   "source": [
    "a[-1]"
   ]
  },
  {
   "cell_type": "code",
   "execution_count": 124,
   "id": "958ffe38-007f-4ad9-9c5f-c96a828a9716",
   "metadata": {},
   "outputs": [
    {
     "data": {
      "text/plain": [
       "'el'"
      ]
     },
     "execution_count": 124,
     "metadata": {},
     "output_type": "execute_result"
    }
   ],
   "source": [
    "a[1:3]"
   ]
  },
  {
   "cell_type": "code",
   "execution_count": 126,
   "id": "31cb0ce3-14ee-4c23-b304-ed10852c6075",
   "metadata": {},
   "outputs": [
    {
     "name": "stdin",
     "output_type": "stream",
     "text": [
      "enter a string hello\n"
     ]
    },
    {
     "data": {
      "text/plain": [
       "'h'"
      ]
     },
     "execution_count": 126,
     "metadata": {},
     "output_type": "execute_result"
    }
   ],
   "source": [
    "a=input(\"enter a string\")[0]\n",
    "a"
   ]
  },
  {
   "cell_type": "code",
   "execution_count": 128,
   "id": "28916155-c81e-4bc1-8770-698f7a736382",
   "metadata": {},
   "outputs": [
    {
     "name": "stdin",
     "output_type": "stream",
     "text": [
      "enter a string hello\n"
     ]
    },
    {
     "data": {
      "text/plain": [
       "'ello'"
      ]
     },
     "execution_count": 128,
     "metadata": {},
     "output_type": "execute_result"
    }
   ],
   "source": [
    "a=input(\"enter a string\")[1:8]\n",
    "a"
   ]
  },
  {
   "cell_type": "code",
   "execution_count": null,
   "id": "bd201beb-cb6a-41a9-ba15-c6e8701ce2da",
   "metadata": {},
   "outputs": [],
   "source": []
  }
 ],
 "metadata": {
  "kernelspec": {
   "display_name": "Python 3 (ipykernel)",
   "language": "python",
   "name": "python3"
  },
  "language_info": {
   "codemirror_mode": {
    "name": "ipython",
    "version": 3
   },
   "file_extension": ".py",
   "mimetype": "text/x-python",
   "name": "python",
   "nbconvert_exporter": "python",
   "pygments_lexer": "ipython3",
   "version": "3.12.7"
  }
 },
 "nbformat": 4,
 "nbformat_minor": 5
}

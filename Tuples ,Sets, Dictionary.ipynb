{
 "cells": [
  {
   "cell_type": "markdown",
   "id": "1b16ff80-ae33-4b5a-8d36-fd97b401efa3",
   "metadata": {},
   "source": [
    "# Tuple "
   ]
  },
  {
   "cell_type": "markdown",
   "id": "67b64a94-d4ad-429f-977d-bcc49a8a3e44",
   "metadata": {},
   "source": [
    "## creation,Indexing and Slicing"
   ]
  },
  {
   "cell_type": "code",
   "execution_count": 2,
   "id": "46c172a4-cdbb-413e-9964-7cb96b87a200",
   "metadata": {},
   "outputs": [
    {
     "data": {
      "text/plain": [
       "()"
      ]
     },
     "execution_count": 2,
     "metadata": {},
     "output_type": "execute_result"
    }
   ],
   "source": [
    "t=()\n",
    "t"
   ]
  },
  {
   "cell_type": "code",
   "execution_count": 4,
   "id": "18f2cbd1-ed06-41aa-9f54-9e7753d31310",
   "metadata": {},
   "outputs": [
    {
     "data": {
      "text/plain": [
       "tuple"
      ]
     },
     "execution_count": 4,
     "metadata": {},
     "output_type": "execute_result"
    }
   ],
   "source": [
    "type(t)"
   ]
  },
  {
   "cell_type": "code",
   "execution_count": 6,
   "id": "488c8b6c-410d-4cb8-939d-8cbda4cd95fb",
   "metadata": {},
   "outputs": [
    {
     "data": {
      "text/plain": [
       "(1, 2, 3, 4, 4)"
      ]
     },
     "execution_count": 6,
     "metadata": {},
     "output_type": "execute_result"
    }
   ],
   "source": [
    "t=(1,2,3,4,4)\n",
    "t"
   ]
  },
  {
   "cell_type": "code",
   "execution_count": 8,
   "id": "60e0a289-5eea-4726-814f-b979ec41863d",
   "metadata": {},
   "outputs": [
    {
     "data": {
      "text/plain": [
       "(1, 2.3, 'abc', [33, 44], (10, 20), (1+2j), {'ab', 'bc'})"
      ]
     },
     "execution_count": 8,
     "metadata": {},
     "output_type": "execute_result"
    }
   ],
   "source": [
    "t=(1,2.3,'abc',[33,44],(10,20),1+2j,{'ab','bc'})\n",
    "t"
   ]
  },
  {
   "cell_type": "code",
   "execution_count": 10,
   "id": "2bfbd549-4848-4b38-a8cb-5487d40b412e",
   "metadata": {},
   "outputs": [
    {
     "data": {
      "text/plain": [
       "7"
      ]
     },
     "execution_count": 10,
     "metadata": {},
     "output_type": "execute_result"
    }
   ],
   "source": [
    "len(t)"
   ]
  },
  {
   "cell_type": "code",
   "execution_count": 12,
   "id": "858af679-535d-48d9-901e-bdbe7522e73d",
   "metadata": {},
   "outputs": [
    {
     "data": {
      "text/plain": [
       "1"
      ]
     },
     "execution_count": 12,
     "metadata": {},
     "output_type": "execute_result"
    }
   ],
   "source": [
    "t[0]"
   ]
  },
  {
   "cell_type": "code",
   "execution_count": 14,
   "id": "b8864356-2019-4379-b1a2-190173ccebcc",
   "metadata": {},
   "outputs": [
    {
     "data": {
      "text/plain": [
       "'abc'"
      ]
     },
     "execution_count": 14,
     "metadata": {},
     "output_type": "execute_result"
    }
   ],
   "source": [
    "t[2]"
   ]
  },
  {
   "cell_type": "code",
   "execution_count": 16,
   "id": "fd3e5c35-5411-4c53-933c-2d74ad98fbb3",
   "metadata": {},
   "outputs": [
    {
     "data": {
      "text/plain": [
       "{'ab', 'bc'}"
      ]
     },
     "execution_count": 16,
     "metadata": {},
     "output_type": "execute_result"
    }
   ],
   "source": [
    "t[-1]"
   ]
  },
  {
   "cell_type": "code",
   "execution_count": 18,
   "id": "354b5ad0-6de9-41b9-9c7a-cf3c540be7a0",
   "metadata": {},
   "outputs": [
    {
     "data": {
      "text/plain": [
       "(1, 2.3, 'abc', [33, 44], (10, 20), (1+2j), {'ab', 'bc'})"
      ]
     },
     "execution_count": 18,
     "metadata": {},
     "output_type": "execute_result"
    }
   ],
   "source": [
    "t[:]"
   ]
  },
  {
   "cell_type": "markdown",
   "id": "58450779-1923-441a-bd3d-8d04196c9c3b",
   "metadata": {},
   "source": [
    "t[2][2]"
   ]
  },
  {
   "cell_type": "code",
   "execution_count": 24,
   "id": "5f020bf3-6996-4cb8-a793-db91605b0639",
   "metadata": {},
   "outputs": [
    {
     "data": {
      "text/plain": [
       "({'ab', 'bc'}, (1+2j), (10, 20), [33, 44], 'abc', 2.3, 1)"
      ]
     },
     "execution_count": 24,
     "metadata": {},
     "output_type": "execute_result"
    }
   ],
   "source": [
    "t[::-1]"
   ]
  },
  {
   "cell_type": "code",
   "execution_count": 26,
   "id": "3348176f-5efc-4a9e-a980-2acf1c188b27",
   "metadata": {},
   "outputs": [
    {
     "data": {
      "text/plain": [
       "('abc', [33, 44], (10, 20), (1+2j), {'ab', 'bc'})"
      ]
     },
     "execution_count": 26,
     "metadata": {},
     "output_type": "execute_result"
    }
   ],
   "source": [
    "t[2:7]"
   ]
  },
  {
   "cell_type": "code",
   "execution_count": 28,
   "id": "5e446c9f-eda5-4c02-af03-a1fce1ade6a7",
   "metadata": {},
   "outputs": [
    {
     "data": {
      "text/plain": [
       "(2.3, 'abc', [33, 44], (10, 20))"
      ]
     },
     "execution_count": 28,
     "metadata": {},
     "output_type": "execute_result"
    }
   ],
   "source": [
    "t[-6:-2]"
   ]
  },
  {
   "cell_type": "code",
   "execution_count": 30,
   "id": "ab5531af-a6ee-4c0a-b9e0-733efa5527f9",
   "metadata": {},
   "outputs": [
    {
     "data": {
      "text/plain": [
       "(1, 2.3, 'abc', [33, 44])"
      ]
     },
     "execution_count": 30,
     "metadata": {},
     "output_type": "execute_result"
    }
   ],
   "source": [
    "t[:-3]"
   ]
  },
  {
   "cell_type": "code",
   "execution_count": 32,
   "id": "a34ccd85-1f56-4cb0-b072-33eb28b6470b",
   "metadata": {},
   "outputs": [
    {
     "data": {
      "text/plain": [
       "('abc', [33, 44], (10, 20), (1+2j), {'ab', 'bc'})"
      ]
     },
     "execution_count": 32,
     "metadata": {},
     "output_type": "execute_result"
    }
   ],
   "source": [
    "t[2:]"
   ]
  },
  {
   "cell_type": "markdown",
   "id": "914507dc-95f4-49b8-8240-637863723166",
   "metadata": {},
   "source": [
    "## Loop through a tuple"
   ]
  },
  {
   "cell_type": "code",
   "execution_count": 45,
   "id": "c378088d-fcfc-4bf0-9b70-11bc9f291cf1",
   "metadata": {},
   "outputs": [
    {
     "data": {
      "text/plain": [
       "(1, 2.3, 'abc', [33, 44], (10, 20), (1+2j), {'ab', 'bc'})"
      ]
     },
     "execution_count": 45,
     "metadata": {},
     "output_type": "execute_result"
    }
   ],
   "source": [
    "t"
   ]
  },
  {
   "cell_type": "code",
   "execution_count": 47,
   "id": "520da3d8-0a8b-4e17-9da5-eadaa412489a",
   "metadata": {},
   "outputs": [
    {
     "name": "stdout",
     "output_type": "stream",
     "text": [
      "1\n",
      "2.3\n",
      "abc\n",
      "[33, 44]\n",
      "(10, 20)\n",
      "(1+2j)\n",
      "{'bc', 'ab'}\n"
     ]
    }
   ],
   "source": [
    "for i in t:\n",
    "    print(i)"
   ]
  },
  {
   "cell_type": "code",
   "execution_count": 49,
   "id": "01801b08-e1e9-41da-a789-166504f07d3a",
   "metadata": {},
   "outputs": [
    {
     "name": "stdout",
     "output_type": "stream",
     "text": [
      "(0, 1)\n",
      "(1, 2.3)\n",
      "(2, 'abc')\n",
      "(3, [33, 44])\n",
      "(4, (10, 20))\n",
      "(5, (1+2j))\n",
      "(6, {'bc', 'ab'})\n"
     ]
    }
   ],
   "source": [
    "for i in enumerate(t):\n",
    "    print(i)"
   ]
  },
  {
   "cell_type": "markdown",
   "id": "5760dbf3-8b18-474f-8c67-88126093674f",
   "metadata": {},
   "source": [
    "## Membership, Index position and sorting"
   ]
  },
  {
   "cell_type": "code",
   "execution_count": 54,
   "id": "c4314fa7-c439-4418-a47c-0a5db89b955d",
   "metadata": {},
   "outputs": [
    {
     "data": {
      "text/plain": [
       "(1, 2.3, 'abc', [33, 44], (10, 20), (1+2j), {'ab', 'bc'})"
      ]
     },
     "execution_count": 54,
     "metadata": {},
     "output_type": "execute_result"
    }
   ],
   "source": [
    "t"
   ]
  },
  {
   "cell_type": "code",
   "execution_count": 60,
   "id": "2f0452ac-840e-4e92-84a9-f93b0feb105a",
   "metadata": {},
   "outputs": [
    {
     "data": {
      "text/plain": [
       "True"
      ]
     },
     "execution_count": 60,
     "metadata": {},
     "output_type": "execute_result"
    }
   ],
   "source": [
    "'abc' in t"
   ]
  },
  {
   "cell_type": "code",
   "execution_count": 62,
   "id": "18771cac-00f5-4be2-9bb9-aa417faf9e21",
   "metadata": {},
   "outputs": [
    {
     "data": {
      "text/plain": [
       "False"
      ]
     },
     "execution_count": 62,
     "metadata": {},
     "output_type": "execute_result"
    }
   ],
   "source": [
    "'bcd' in t"
   ]
  },
  {
   "cell_type": "code",
   "execution_count": 72,
   "id": "c90e0697-8b6d-4aa7-8533-64ca4d90b307",
   "metadata": {},
   "outputs": [
    {
     "name": "stdout",
     "output_type": "stream",
     "text": [
      "True\n"
     ]
    }
   ],
   "source": [
    "if 1 in t:\n",
    "    print(\"True\")\n",
    "else:\n",
    "    print(\"False\")   "
   ]
  },
  {
   "cell_type": "code",
   "execution_count": 66,
   "id": "c6b6b773-ed86-497e-8b25-d5d737429efb",
   "metadata": {},
   "outputs": [
    {
     "data": {
      "text/plain": [
       "0"
      ]
     },
     "execution_count": 66,
     "metadata": {},
     "output_type": "execute_result"
    }
   ],
   "source": [
    "t.index(1)"
   ]
  },
  {
   "cell_type": "code",
   "execution_count": 68,
   "id": "219dda91-e767-4ab0-9970-4b47ac0fb0d4",
   "metadata": {},
   "outputs": [
    {
     "data": {
      "text/plain": [
       "2"
      ]
     },
     "execution_count": 68,
     "metadata": {},
     "output_type": "execute_result"
    }
   ],
   "source": [
    "t.index('abc')"
   ]
  },
  {
   "cell_type": "code",
   "execution_count": 75,
   "id": "4c57460a-f8d0-487f-970d-4600989e6602",
   "metadata": {},
   "outputs": [
    {
     "data": {
      "text/plain": [
       "(1, 2.3, 'abc', [33, 44], (10, 20), (1+2j), {'ab', 'bc'})"
      ]
     },
     "execution_count": 75,
     "metadata": {},
     "output_type": "execute_result"
    }
   ],
   "source": [
    "t"
   ]
  },
  {
   "cell_type": "code",
   "execution_count": 79,
   "id": "293191cf-519a-4b58-8640-42eb26e6de34",
   "metadata": {},
   "outputs": [
    {
     "data": {
      "text/plain": [
       "[1, 2, 3, 4, 4, 5, 7]"
      ]
     },
     "execution_count": 79,
     "metadata": {},
     "output_type": "execute_result"
    }
   ],
   "source": [
    "t1=(1,3,4,5,7,4,2)\n",
    "sorted(t1)"
   ]
  },
  {
   "cell_type": "code",
   "execution_count": 81,
   "id": "dec3a44c-a7ee-434f-8c55-2224c2dba291",
   "metadata": {},
   "outputs": [
    {
     "data": {
      "text/plain": [
       "[7, 5, 4, 4, 3, 2, 1]"
      ]
     },
     "execution_count": 81,
     "metadata": {},
     "output_type": "execute_result"
    }
   ],
   "source": [
    "sorted(t1, reverse=True)"
   ]
  },
  {
   "cell_type": "markdown",
   "id": "20c399e2-43b9-48a4-b857-21499ca54207",
   "metadata": {},
   "source": [
    "### if we wanna perform list methods with tuple , we need to convert tuple to list"
   ]
  },
  {
   "cell_type": "code",
   "execution_count": 85,
   "id": "2e7532fc-b061-4c6f-bc2e-d9cd640d5130",
   "metadata": {},
   "outputs": [
    {
     "data": {
      "text/plain": [
       "(1, 2.3, 'abc', [33, 44], (10, 20), (1+2j), {'ab', 'bc'})"
      ]
     },
     "execution_count": 85,
     "metadata": {},
     "output_type": "execute_result"
    }
   ],
   "source": [
    "t"
   ]
  },
  {
   "cell_type": "code",
   "execution_count": 87,
   "id": "af841777-0319-41a8-9b78-f453723045b1",
   "metadata": {},
   "outputs": [],
   "source": [
    "l=list(t)"
   ]
  },
  {
   "cell_type": "code",
   "execution_count": 89,
   "id": "6b7d4966-ec11-4a81-a49e-1229d9bf9f67",
   "metadata": {},
   "outputs": [
    {
     "data": {
      "text/plain": [
       "[1, 2.3, 'abc', [33, 44], (10, 20), (1+2j), {'ab', 'bc'}]"
      ]
     },
     "execution_count": 89,
     "metadata": {},
     "output_type": "execute_result"
    }
   ],
   "source": [
    "l"
   ]
  },
  {
   "cell_type": "code",
   "execution_count": 92,
   "id": "4a40f5ab-39de-457a-8e3d-ec24217c1902",
   "metadata": {},
   "outputs": [],
   "source": [
    "# Now we can perform list opeartions"
   ]
  },
  {
   "cell_type": "code",
   "execution_count": 94,
   "id": "466ba36d-21fe-424e-9463-998c6a131bb1",
   "metadata": {},
   "outputs": [
    {
     "data": {
      "text/plain": [
       "[1, 2.3, 'abc', [33, 44], (10, 20), (1+2j), {'ab', 'bc'}, 2]"
      ]
     },
     "execution_count": 94,
     "metadata": {},
     "output_type": "execute_result"
    }
   ],
   "source": [
    "l.append(2)\n",
    "l"
   ]
  },
  {
   "cell_type": "markdown",
   "id": "a4a45ed5-6763-41b8-9129-a3a49ff25aea",
   "metadata": {},
   "source": [
    "# SETS"
   ]
  },
  {
   "cell_type": "code",
   "execution_count": 100,
   "id": "8622de98-93b6-4718-8716-bbec7b105add",
   "metadata": {},
   "outputs": [
    {
     "data": {
      "text/plain": [
       "{}"
      ]
     },
     "execution_count": 100,
     "metadata": {},
     "output_type": "execute_result"
    }
   ],
   "source": [
    "s={}\n",
    "s"
   ]
  },
  {
   "cell_type": "code",
   "execution_count": 102,
   "id": "fc4a5bac-a29c-413c-b0ac-83321e8abdaa",
   "metadata": {},
   "outputs": [
    {
     "data": {
      "text/plain": [
       "dict"
      ]
     },
     "execution_count": 102,
     "metadata": {},
     "output_type": "execute_result"
    }
   ],
   "source": [
    "type(s)"
   ]
  },
  {
   "cell_type": "code",
   "execution_count": 122,
   "id": "1fbde800-a274-4e51-9ec3-a83684bb5a7f",
   "metadata": {},
   "outputs": [
    {
     "data": {
      "text/plain": [
       "set()"
      ]
     },
     "execution_count": 122,
     "metadata": {},
     "output_type": "execute_result"
    }
   ],
   "source": [
    "s_=set()\n",
    "s_"
   ]
  },
  {
   "cell_type": "code",
   "execution_count": 124,
   "id": "188912e8-1a87-4ffe-8b77-0cdafe121764",
   "metadata": {},
   "outputs": [
    {
     "data": {
      "text/plain": [
       "set"
      ]
     },
     "execution_count": 124,
     "metadata": {},
     "output_type": "execute_result"
    }
   ],
   "source": [
    "type(s_)"
   ]
  },
  {
   "cell_type": "code",
   "execution_count": 104,
   "id": "f4b96c57-7ba1-4b4e-ba4b-1c53a6f3594d",
   "metadata": {},
   "outputs": [
    {
     "data": {
      "text/plain": [
       "set"
      ]
     },
     "execution_count": 104,
     "metadata": {},
     "output_type": "execute_result"
    }
   ],
   "source": [
    "s={1,2,3,4,5}\n",
    "type(s)"
   ]
  },
  {
   "cell_type": "code",
   "execution_count": 106,
   "id": "14a02c88-0b0e-481e-a1ae-6b86c99c6088",
   "metadata": {},
   "outputs": [
    {
     "data": {
      "text/plain": [
       "{1, 2, 3}"
      ]
     },
     "execution_count": 106,
     "metadata": {},
     "output_type": "execute_result"
    }
   ],
   "source": [
    "s1={1,2,3,1}\n",
    "s1"
   ]
  },
  {
   "cell_type": "code",
   "execution_count": 108,
   "id": "72818f7e-e3d6-46d0-a1d4-22722825e8a0",
   "metadata": {},
   "outputs": [
    {
     "data": {
      "text/plain": [
       "{(1+3j), (10, 20), 1, 2.5, 'abc'}"
      ]
     },
     "execution_count": 108,
     "metadata": {},
     "output_type": "execute_result"
    }
   ],
   "source": [
    "s2={1,2.5,'abc',(10,20),1+3j}\n",
    "s2"
   ]
  },
  {
   "cell_type": "code",
   "execution_count": 110,
   "id": "5ebf8f9f-5cb5-4bd0-8e86-bb82d2b8a282",
   "metadata": {},
   "outputs": [
    {
     "data": {
      "text/plain": [
       "{1, 2, 3, 4}"
      ]
     },
     "execution_count": 110,
     "metadata": {},
     "output_type": "execute_result"
    }
   ],
   "source": [
    "s1.add(4)\n",
    "s1"
   ]
  },
  {
   "cell_type": "code",
   "execution_count": 112,
   "id": "652089cc-f475-4a21-95cf-7222ae659755",
   "metadata": {},
   "outputs": [
    {
     "data": {
      "text/plain": [
       "{1, 2, 3, 4}"
      ]
     },
     "execution_count": 112,
     "metadata": {},
     "output_type": "execute_result"
    }
   ],
   "source": [
    "s3=s1.copy()\n",
    "s3"
   ]
  },
  {
   "cell_type": "code",
   "execution_count": 114,
   "id": "252eea3f-068f-4318-8a6b-b961cedaade2",
   "metadata": {},
   "outputs": [
    {
     "ename": "TypeError",
     "evalue": "'set' object is not subscriptable",
     "output_type": "error",
     "traceback": [
      "\u001b[1;31m---------------------------------------------------------------------------\u001b[0m",
      "\u001b[1;31mTypeError\u001b[0m                                 Traceback (most recent call last)",
      "Cell \u001b[1;32mIn[114], line 1\u001b[0m\n\u001b[1;32m----> 1\u001b[0m s1[\u001b[38;5;241m0\u001b[39m]\n",
      "\u001b[1;31mTypeError\u001b[0m: 'set' object is not subscriptable"
     ]
    }
   ],
   "source": [
    "s1[0]"
   ]
  },
  {
   "cell_type": "code",
   "execution_count": 116,
   "id": "981ae9c7-ea90-451e-9593-fe0b84b1a18b",
   "metadata": {},
   "outputs": [
    {
     "ename": "TypeError",
     "evalue": "'set' object is not subscriptable",
     "output_type": "error",
     "traceback": [
      "\u001b[1;31m---------------------------------------------------------------------------\u001b[0m",
      "\u001b[1;31mTypeError\u001b[0m                                 Traceback (most recent call last)",
      "Cell \u001b[1;32mIn[116], line 1\u001b[0m\n\u001b[1;32m----> 1\u001b[0m s1[:]\n",
      "\u001b[1;31mTypeError\u001b[0m: 'set' object is not subscriptable"
     ]
    }
   ],
   "source": [
    "s1[:]"
   ]
  },
  {
   "cell_type": "code",
   "execution_count": 130,
   "id": "75a724c6-d937-48bb-bce9-f292f047c26c",
   "metadata": {},
   "outputs": [
    {
     "data": {
      "text/plain": [
       "2958193012608"
      ]
     },
     "execution_count": 130,
     "metadata": {},
     "output_type": "execute_result"
    }
   ],
   "source": [
    "id(s3)"
   ]
  },
  {
   "cell_type": "code",
   "execution_count": 118,
   "id": "629dd204-df7f-441c-bd92-6abf4d5a4b31",
   "metadata": {},
   "outputs": [],
   "source": [
    "s3.clear()"
   ]
  },
  {
   "cell_type": "code",
   "execution_count": 120,
   "id": "a2703a09-7c98-4664-820f-923fb78039fd",
   "metadata": {},
   "outputs": [
    {
     "data": {
      "text/plain": [
       "set()"
      ]
     },
     "execution_count": 120,
     "metadata": {},
     "output_type": "execute_result"
    }
   ],
   "source": [
    "s3"
   ]
  },
  {
   "cell_type": "code",
   "execution_count": 126,
   "id": "011206b3-a836-4388-9441-7e73ca300666",
   "metadata": {},
   "outputs": [
    {
     "data": {
      "text/plain": [
       "5"
      ]
     },
     "execution_count": 126,
     "metadata": {},
     "output_type": "execute_result"
    }
   ],
   "source": [
    "len(s2)"
   ]
  },
  {
   "cell_type": "code",
   "execution_count": 128,
   "id": "ba959c0f-0516-4b52-ab35-46d0113f2d13",
   "metadata": {},
   "outputs": [
    {
     "data": {
      "text/plain": [
       "2958193012608"
      ]
     },
     "execution_count": 128,
     "metadata": {},
     "output_type": "execute_result"
    }
   ],
   "source": [
    "id(s3)"
   ]
  },
  {
   "cell_type": "code",
   "execution_count": 132,
   "id": "1f1ac773-7add-4c5c-8adb-17c162655a98",
   "metadata": {},
   "outputs": [],
   "source": [
    "del s3"
   ]
  },
  {
   "cell_type": "code",
   "execution_count": 134,
   "id": "55327603-a057-4b67-8f10-51316ffbea9b",
   "metadata": {},
   "outputs": [
    {
     "ename": "NameError",
     "evalue": "name 's3' is not defined",
     "output_type": "error",
     "traceback": [
      "\u001b[1;31m---------------------------------------------------------------------------\u001b[0m",
      "\u001b[1;31mNameError\u001b[0m                                 Traceback (most recent call last)",
      "Cell \u001b[1;32mIn[134], line 1\u001b[0m\n\u001b[1;32m----> 1\u001b[0m s3\n",
      "\u001b[1;31mNameError\u001b[0m: name 's3' is not defined"
     ]
    }
   ],
   "source": [
    "s3"
   ]
  },
  {
   "cell_type": "code",
   "execution_count": 3,
   "id": "22a49e13-2da0-4725-8ff5-4b3bc045444f",
   "metadata": {},
   "outputs": [
    {
     "data": {
      "text/plain": [
       "2841674339200"
      ]
     },
     "execution_count": 3,
     "metadata": {},
     "output_type": "execute_result"
    }
   ],
   "source": [
    "s3={1,2,3,4}\n",
    "id(s3)"
   ]
  },
  {
   "cell_type": "code",
   "execution_count": 7,
   "id": "78219cef-08d5-426c-a8a0-2e7c48bba1f1",
   "metadata": {},
   "outputs": [
    {
     "data": {
      "text/plain": [
       "{1, 3, 4}"
      ]
     },
     "execution_count": 7,
     "metadata": {},
     "output_type": "execute_result"
    }
   ],
   "source": [
    "s3.remove(2)\n",
    "s3"
   ]
  },
  {
   "cell_type": "code",
   "execution_count": 142,
   "id": "536d113b-0f54-4e1d-88c5-578c41272d16",
   "metadata": {},
   "outputs": [
    {
     "data": {
      "text/plain": [
       "{3, 4}"
      ]
     },
     "execution_count": 142,
     "metadata": {},
     "output_type": "execute_result"
    }
   ],
   "source": [
    "s3.pop()\n",
    "s3"
   ]
  },
  {
   "cell_type": "code",
   "execution_count": 144,
   "id": "51dd6333-e926-4a84-935f-e933bed2f648",
   "metadata": {},
   "outputs": [
    {
     "data": {
      "text/plain": [
       "{(1+3j), (10, 20), 1, 2.5, 'abc'}"
      ]
     },
     "execution_count": 144,
     "metadata": {},
     "output_type": "execute_result"
    }
   ],
   "source": [
    "s2"
   ]
  },
  {
   "cell_type": "code",
   "execution_count": 146,
   "id": "6a176675-38fc-45e8-99c4-d7176919f18b",
   "metadata": {},
   "outputs": [
    {
     "data": {
      "text/plain": [
       "1"
      ]
     },
     "execution_count": 146,
     "metadata": {},
     "output_type": "execute_result"
    }
   ],
   "source": [
    "s2.pop()"
   ]
  },
  {
   "cell_type": "code",
   "execution_count": 148,
   "id": "adae51bc-0fe1-488e-8e4d-05656a39e184",
   "metadata": {},
   "outputs": [
    {
     "data": {
      "text/plain": [
       "{(1+3j), (10, 20), 2.5, 'abc'}"
      ]
     },
     "execution_count": 148,
     "metadata": {},
     "output_type": "execute_result"
    }
   ],
   "source": [
    "s2"
   ]
  },
  {
   "cell_type": "code",
   "execution_count": 150,
   "id": "ace1977f-6c37-4cdd-9009-915421de9907",
   "metadata": {},
   "outputs": [
    {
     "ename": "TypeError",
     "evalue": "set.pop() takes no arguments (1 given)",
     "output_type": "error",
     "traceback": [
      "\u001b[1;31m---------------------------------------------------------------------------\u001b[0m",
      "\u001b[1;31mTypeError\u001b[0m                                 Traceback (most recent call last)",
      "Cell \u001b[1;32mIn[150], line 1\u001b[0m\n\u001b[1;32m----> 1\u001b[0m s2\u001b[38;5;241m.\u001b[39mpop(\u001b[38;5;241m0\u001b[39m)\n\u001b[0;32m      2\u001b[0m s2\n",
      "\u001b[1;31mTypeError\u001b[0m: set.pop() takes no arguments (1 given)"
     ]
    }
   ],
   "source": [
    "s2.pop(0)\n",
    "s2"
   ]
  },
  {
   "cell_type": "markdown",
   "id": "220b13ee-f1af-4056-a5b9-c4e90cb39e65",
   "metadata": {},
   "source": [
    "## union,intersection,difference,symmetric difference"
   ]
  },
  {
   "cell_type": "code",
   "execution_count": 14,
   "id": "1194e987-58d9-4607-92d1-0ae7618b8352",
   "metadata": {},
   "outputs": [
    {
     "data": {
      "text/plain": [
       "{1, 2, 3, 'a', 'b', 'e', 'f', 'g', 'h'}"
      ]
     },
     "execution_count": 14,
     "metadata": {},
     "output_type": "execute_result"
    }
   ],
   "source": [
    "a={1,2,3,'a','b'}\n",
    "b={2,3,'e','f','g','h'}\n",
    "a|b"
   ]
  },
  {
   "cell_type": "code",
   "execution_count": 16,
   "id": "de6c4ff1-7c1f-4a09-a784-4a1ae15d6b24",
   "metadata": {},
   "outputs": [
    {
     "data": {
      "text/plain": [
       "{1, 2, 3, 'a', 'b', 'e', 'f', 'g', 'h'}"
      ]
     },
     "execution_count": 16,
     "metadata": {},
     "output_type": "execute_result"
    }
   ],
   "source": [
    "a.union(b)"
   ]
  },
  {
   "cell_type": "code",
   "execution_count": 18,
   "id": "a278a3d3-38bc-420a-af91-b7ba5a693823",
   "metadata": {},
   "outputs": [
    {
     "data": {
      "text/plain": [
       "{1, 2, 3, 'a', 'b', 'e', 'f', 'g', 'h'}"
      ]
     },
     "execution_count": 18,
     "metadata": {},
     "output_type": "execute_result"
    }
   ],
   "source": [
    "b.union(a)"
   ]
  },
  {
   "cell_type": "code",
   "execution_count": 20,
   "id": "add5e354-7869-4f0c-a623-6dc735414e9a",
   "metadata": {},
   "outputs": [],
   "source": [
    "c={1,2,3,4}"
   ]
  },
  {
   "cell_type": "code",
   "execution_count": 22,
   "id": "d341b951-9cb8-4153-bcf2-e023947291d1",
   "metadata": {},
   "outputs": [
    {
     "data": {
      "text/plain": [
       "{1, 2, 3, 4, 'a', 'b', 'e', 'f', 'g', 'h'}"
      ]
     },
     "execution_count": 22,
     "metadata": {},
     "output_type": "execute_result"
    }
   ],
   "source": [
    "a.union(b,c)"
   ]
  },
  {
   "cell_type": "code",
   "execution_count": 24,
   "id": "1778bde3-fd83-4a83-9b14-173a04a7dc4b",
   "metadata": {},
   "outputs": [],
   "source": [
    "a.update(b,c)"
   ]
  },
  {
   "cell_type": "code",
   "execution_count": 26,
   "id": "ca669a53-53c0-4da1-8f2c-60bddb7922ff",
   "metadata": {},
   "outputs": [
    {
     "data": {
      "text/plain": [
       "{1, 2, 3, 4, 'a', 'b', 'e', 'f', 'g', 'h'}"
      ]
     },
     "execution_count": 26,
     "metadata": {},
     "output_type": "execute_result"
    }
   ],
   "source": [
    "a"
   ]
  },
  {
   "cell_type": "code",
   "execution_count": 28,
   "id": "96464f29-f271-4652-9f6e-f0a68ff1cedd",
   "metadata": {},
   "outputs": [
    {
     "data": {
      "text/plain": [
       "{2, 3}"
      ]
     },
     "execution_count": 28,
     "metadata": {},
     "output_type": "execute_result"
    }
   ],
   "source": [
    "a={1,2,3,'a','b'}\n",
    "b={2,3,'e','f','g','h'}\n",
    "a&b"
   ]
  },
  {
   "cell_type": "code",
   "execution_count": 30,
   "id": "c9e68b5a-cf51-4920-ad5e-d97fdfd58fb9",
   "metadata": {},
   "outputs": [
    {
     "data": {
      "text/plain": [
       "{2, 3}"
      ]
     },
     "execution_count": 30,
     "metadata": {},
     "output_type": "execute_result"
    }
   ],
   "source": [
    "a.intersection(b)"
   ]
  },
  {
   "cell_type": "code",
   "execution_count": 34,
   "id": "4c383ccd-1fa3-48a7-bba4-fb08466a7675",
   "metadata": {},
   "outputs": [
    {
     "data": {
      "text/plain": [
       "{2, 3}"
      ]
     },
     "execution_count": 34,
     "metadata": {},
     "output_type": "execute_result"
    }
   ],
   "source": [
    "a.intersection_update(b)\n",
    "a"
   ]
  },
  {
   "cell_type": "code",
   "execution_count": 36,
   "id": "1bcadc7c-abcd-4d38-90af-0d555233de29",
   "metadata": {},
   "outputs": [
    {
     "data": {
      "text/plain": [
       "{2, 3}"
      ]
     },
     "execution_count": 36,
     "metadata": {},
     "output_type": "execute_result"
    }
   ],
   "source": [
    "a"
   ]
  },
  {
   "cell_type": "code",
   "execution_count": 38,
   "id": "0ae67a4f-085a-4d7e-a584-8181764844ba",
   "metadata": {},
   "outputs": [
    {
     "data": {
      "text/plain": [
       "{1, 'a', 'b'}"
      ]
     },
     "execution_count": 38,
     "metadata": {},
     "output_type": "execute_result"
    }
   ],
   "source": [
    "a={1,2,3,'a','b'}\n",
    "b={2,3,'e','f','g','h'}\n",
    "a-b"
   ]
  },
  {
   "cell_type": "code",
   "execution_count": 40,
   "id": "d350c071-349a-49cb-a079-a3a008e4fe45",
   "metadata": {},
   "outputs": [
    {
     "data": {
      "text/plain": [
       "{'e', 'f', 'g', 'h'}"
      ]
     },
     "execution_count": 40,
     "metadata": {},
     "output_type": "execute_result"
    }
   ],
   "source": [
    "b-a"
   ]
  },
  {
   "cell_type": "code",
   "execution_count": 44,
   "id": "c1fd87ff-5261-46f0-b7ad-7acfda499124",
   "metadata": {},
   "outputs": [
    {
     "data": {
      "text/plain": [
       "{1, 'a', 'b'}"
      ]
     },
     "execution_count": 44,
     "metadata": {},
     "output_type": "execute_result"
    }
   ],
   "source": [
    "a.difference(b)"
   ]
  },
  {
   "cell_type": "code",
   "execution_count": 46,
   "id": "cb64f0a9-9b93-4940-b7b3-4d909d0324aa",
   "metadata": {},
   "outputs": [
    {
     "data": {
      "text/plain": [
       "{1, 'a', 'b'}"
      ]
     },
     "execution_count": 46,
     "metadata": {},
     "output_type": "execute_result"
    }
   ],
   "source": [
    "a.difference_update(b)\n",
    "a"
   ]
  },
  {
   "cell_type": "code",
   "execution_count": 48,
   "id": "96e4e994-f9ad-494f-b552-5daaab5cb912",
   "metadata": {},
   "outputs": [
    {
     "data": {
      "text/plain": [
       "{1, 'a', 'b'}"
      ]
     },
     "execution_count": 48,
     "metadata": {},
     "output_type": "execute_result"
    }
   ],
   "source": [
    "a"
   ]
  },
  {
   "cell_type": "code",
   "execution_count": 66,
   "id": "46a2881c-d03e-4241-b168-7a9ea1ba58db",
   "metadata": {},
   "outputs": [
    {
     "data": {
      "text/plain": [
       "{1, 'a', 'b', 'e', 'f', 'g', 'h'}"
      ]
     },
     "execution_count": 66,
     "metadata": {},
     "output_type": "execute_result"
    }
   ],
   "source": [
    "a={1,2,3,'a','b'}\n",
    "b={2,3,'e','f','g','h'}\n",
    "a^b"
   ]
  },
  {
   "cell_type": "code",
   "execution_count": 68,
   "id": "3ac00516-ff18-44c7-8c95-dcd7e369c850",
   "metadata": {},
   "outputs": [
    {
     "data": {
      "text/plain": [
       "{1, 'a', 'b', 'e', 'f', 'g', 'h'}"
      ]
     },
     "execution_count": 68,
     "metadata": {},
     "output_type": "execute_result"
    }
   ],
   "source": [
    "a.symmetric_difference(b)"
   ]
  },
  {
   "cell_type": "code",
   "execution_count": 70,
   "id": "adcdd727-4933-4fde-aaf8-b42d3365b74a",
   "metadata": {},
   "outputs": [
    {
     "data": {
      "text/plain": [
       "{1, 'a', 'b', 'e', 'f', 'g', 'h'}"
      ]
     },
     "execution_count": 70,
     "metadata": {},
     "output_type": "execute_result"
    }
   ],
   "source": [
    "b.symmetric_difference(a)"
   ]
  },
  {
   "cell_type": "code",
   "execution_count": 72,
   "id": "865b5cce-372f-4847-8798-68276a99e7e3",
   "metadata": {},
   "outputs": [
    {
     "data": {
      "text/plain": [
       "{1, 'a', 'b', 'e', 'f', 'g', 'h'}"
      ]
     },
     "execution_count": 72,
     "metadata": {},
     "output_type": "execute_result"
    }
   ],
   "source": [
    "a.symmetric_difference_update(b)\n",
    "a"
   ]
  },
  {
   "cell_type": "code",
   "execution_count": 74,
   "id": "577151be-f7f0-46a1-98aa-994716358d71",
   "metadata": {},
   "outputs": [
    {
     "data": {
      "text/plain": [
       "{1, 'a', 'b', 'e', 'f', 'g', 'h'}"
      ]
     },
     "execution_count": 74,
     "metadata": {},
     "output_type": "execute_result"
    }
   ],
   "source": [
    "a"
   ]
  },
  {
   "cell_type": "code",
   "execution_count": 86,
   "id": "3978d05b-1386-4019-aea3-3a9f33f73461",
   "metadata": {},
   "outputs": [],
   "source": [
    "a={1,2,3,4,5,6,7}\n",
    "b={4,5,6,7}\n",
    "c={9,8}"
   ]
  },
  {
   "cell_type": "code",
   "execution_count": 88,
   "id": "539257f1-7f77-4075-a4bb-eb53d8a96115",
   "metadata": {},
   "outputs": [
    {
     "data": {
      "text/plain": [
       "True"
      ]
     },
     "execution_count": 88,
     "metadata": {},
     "output_type": "execute_result"
    }
   ],
   "source": [
    "a.issuperset(b)"
   ]
  },
  {
   "cell_type": "code",
   "execution_count": 90,
   "id": "ebfe96e8-0848-40fc-8dac-cd86f05a7712",
   "metadata": {},
   "outputs": [
    {
     "data": {
      "text/plain": [
       "True"
      ]
     },
     "execution_count": 90,
     "metadata": {},
     "output_type": "execute_result"
    }
   ],
   "source": [
    "b.issubset(a)"
   ]
  },
  {
   "cell_type": "code",
   "execution_count": 92,
   "id": "c97f8408-7143-4983-86c9-ddcfd00bfbd3",
   "metadata": {},
   "outputs": [
    {
     "data": {
      "text/plain": [
       "True"
      ]
     },
     "execution_count": 92,
     "metadata": {},
     "output_type": "execute_result"
    }
   ],
   "source": [
    "c.isdisjoint(a)"
   ]
  },
  {
   "cell_type": "code",
   "execution_count": 94,
   "id": "1da48f85-2006-4978-a956-ef109b16d5a2",
   "metadata": {},
   "outputs": [
    {
     "data": {
      "text/plain": [
       "True"
      ]
     },
     "execution_count": 94,
     "metadata": {},
     "output_type": "execute_result"
    }
   ],
   "source": [
    "a.isdisjoint(c)"
   ]
  },
  {
   "cell_type": "code",
   "execution_count": 108,
   "id": "06a4befc-9fb2-4a9c-9f11-34ebc3a6ba24",
   "metadata": {},
   "outputs": [],
   "source": [
    "a1={1,2,3,4,5,6,7}\n",
    "b1={4,5,7,8}\n",
    "c1={9,8}"
   ]
  },
  {
   "cell_type": "code",
   "execution_count": 110,
   "id": "67c75e71-681d-46fb-9cc1-0254c4ffe06d",
   "metadata": {},
   "outputs": [
    {
     "data": {
      "text/plain": [
       "False"
      ]
     },
     "execution_count": 110,
     "metadata": {},
     "output_type": "execute_result"
    }
   ],
   "source": [
    "a1.issuperset(b1)"
   ]
  },
  {
   "cell_type": "code",
   "execution_count": 112,
   "id": "875026f4-30cf-47d0-95d3-755031e5b99d",
   "metadata": {},
   "outputs": [
    {
     "data": {
      "text/plain": [
       "False"
      ]
     },
     "execution_count": 112,
     "metadata": {},
     "output_type": "execute_result"
    }
   ],
   "source": [
    "b1.issubset(a1)"
   ]
  },
  {
   "cell_type": "code",
   "execution_count": 118,
   "id": "486cd5ea-83b0-47ca-8dd7-7e889b19ca43",
   "metadata": {},
   "outputs": [
    {
     "data": {
      "text/plain": [
       "True"
      ]
     },
     "execution_count": 118,
     "metadata": {},
     "output_type": "execute_result"
    }
   ],
   "source": [
    "a1.isdisjoint(c1)"
   ]
  },
  {
   "cell_type": "code",
   "execution_count": 122,
   "id": "51775d72-896f-41d5-a2fd-bc3f28005203",
   "metadata": {},
   "outputs": [
    {
     "data": {
      "text/plain": [
       "False"
      ]
     },
     "execution_count": 122,
     "metadata": {},
     "output_type": "execute_result"
    }
   ],
   "source": [
    "b1.isdisjoint(c1)"
   ]
  },
  {
   "cell_type": "markdown",
   "id": "48ad8217-fbd4-4972-9c9a-0b265a57833b",
   "metadata": {},
   "source": [
    "## other builtin functions"
   ]
  },
  {
   "cell_type": "code",
   "execution_count": 127,
   "id": "30a54193-8f24-4af8-8e8a-d6cf3b3540ef",
   "metadata": {},
   "outputs": [],
   "source": [
    "a={11,3,34,455,24}"
   ]
  },
  {
   "cell_type": "code",
   "execution_count": 129,
   "id": "c5891b66-8eb6-4b6e-a2ca-b006ab45ef6d",
   "metadata": {},
   "outputs": [
    {
     "data": {
      "text/plain": [
       "527"
      ]
     },
     "execution_count": 129,
     "metadata": {},
     "output_type": "execute_result"
    }
   ],
   "source": [
    "sum(a)"
   ]
  },
  {
   "cell_type": "code",
   "execution_count": 131,
   "id": "d3077452-588f-4c02-87ac-e472aa154b35",
   "metadata": {},
   "outputs": [
    {
     "data": {
      "text/plain": [
       "455"
      ]
     },
     "execution_count": 131,
     "metadata": {},
     "output_type": "execute_result"
    }
   ],
   "source": [
    "max(a)"
   ]
  },
  {
   "cell_type": "code",
   "execution_count": 133,
   "id": "3d1d0abf-c219-49ad-adb7-43e81a3e5ed9",
   "metadata": {},
   "outputs": [
    {
     "data": {
      "text/plain": [
       "3"
      ]
     },
     "execution_count": 133,
     "metadata": {},
     "output_type": "execute_result"
    }
   ],
   "source": [
    "min(a)"
   ]
  },
  {
   "cell_type": "code",
   "execution_count": 135,
   "id": "94cc2b52-6c6f-47f7-80c2-5f48da3e5e89",
   "metadata": {},
   "outputs": [
    {
     "data": {
      "text/plain": [
       "5"
      ]
     },
     "execution_count": 135,
     "metadata": {},
     "output_type": "execute_result"
    }
   ],
   "source": [
    "len(a)"
   ]
  },
  {
   "cell_type": "code",
   "execution_count": 137,
   "id": "c942c0d2-5bf5-4214-ac09-5e42ee331138",
   "metadata": {},
   "outputs": [
    {
     "data": {
      "text/plain": [
       "[(0, 34), (1, 3), (2, 455), (3, 24), (4, 11)]"
      ]
     },
     "execution_count": 137,
     "metadata": {},
     "output_type": "execute_result"
    }
   ],
   "source": [
    "list(enumerate(a))"
   ]
  },
  {
   "cell_type": "code",
   "execution_count": 139,
   "id": "ad2af9e6-5ed4-45ce-bf28-093feb5363df",
   "metadata": {},
   "outputs": [
    {
     "data": {
      "text/plain": [
       "[455, 34, 24, 11, 3]"
      ]
     },
     "execution_count": 139,
     "metadata": {},
     "output_type": "execute_result"
    }
   ],
   "source": [
    "b=sorted(a,reverse=True)\n",
    "b"
   ]
  },
  {
   "cell_type": "code",
   "execution_count": 141,
   "id": "326a5deb-3d55-4bc6-bc15-d16d8393fb19",
   "metadata": {},
   "outputs": [
    {
     "data": {
      "text/plain": [
       "[3, 11, 24, 34, 455]"
      ]
     },
     "execution_count": 141,
     "metadata": {},
     "output_type": "execute_result"
    }
   ],
   "source": [
    "sorted(b)"
   ]
  },
  {
   "cell_type": "markdown",
   "id": "79a170c8-631e-4c8e-b7e6-472b08ae0640",
   "metadata": {},
   "source": [
    "# Dictionaries"
   ]
  },
  {
   "cell_type": "code",
   "execution_count": 146,
   "id": "4ba6614e-cd6d-45d7-9a37-168a92100e9f",
   "metadata": {},
   "outputs": [
    {
     "data": {
      "text/plain": [
       "{}"
      ]
     },
     "execution_count": 146,
     "metadata": {},
     "output_type": "execute_result"
    }
   ],
   "source": [
    "a={}\n",
    "a"
   ]
  },
  {
   "cell_type": "code",
   "execution_count": 148,
   "id": "acd679f5-4e1a-4ac8-b328-0b89609d8ff4",
   "metadata": {},
   "outputs": [
    {
     "data": {
      "text/plain": [
       "dict"
      ]
     },
     "execution_count": 148,
     "metadata": {},
     "output_type": "execute_result"
    }
   ],
   "source": [
    "type(a)"
   ]
  },
  {
   "cell_type": "code",
   "execution_count": 150,
   "id": "8e264dfc-7c1c-4f93-a030-ddde724369c6",
   "metadata": {},
   "outputs": [
    {
     "data": {
      "text/plain": [
       "{}"
      ]
     },
     "execution_count": 150,
     "metadata": {},
     "output_type": "execute_result"
    }
   ],
   "source": [
    "a=dict()\n",
    "a"
   ]
  },
  {
   "cell_type": "code",
   "execution_count": 164,
   "id": "168752f0-9fc7-47da-9b94-d94a3e4d2eb1",
   "metadata": {},
   "outputs": [
    {
     "data": {
      "text/plain": [
       "{'a': 'one', 'b': 'two', 'c': 'three'}"
      ]
     },
     "execution_count": 164,
     "metadata": {},
     "output_type": "execute_result"
    }
   ],
   "source": [
    "a={'a':'one','b':'two','c':'three'}\n",
    "a"
   ]
  },
  {
   "cell_type": "code",
   "execution_count": 166,
   "id": "8223bdbb-eb79-4a4b-af9e-c2699576fed5",
   "metadata": {},
   "outputs": [
    {
     "data": {
      "text/plain": [
       "{'a': 'one', 'b': 'two', 'c': 'three'}"
      ]
     },
     "execution_count": 166,
     "metadata": {},
     "output_type": "execute_result"
    }
   ],
   "source": [
    "a=dict({'a':'one','b':'two','c':'three'})\n",
    "a"
   ]
  },
  {
   "cell_type": "code",
   "execution_count": 168,
   "id": "4bc387e4-0929-4265-b2f3-5fbe1ec5aa07",
   "metadata": {},
   "outputs": [
    {
     "data": {
      "text/plain": [
       "{1: 'one', 2: 'two', 3: 'three'}"
      ]
     },
     "execution_count": 168,
     "metadata": {},
     "output_type": "execute_result"
    }
   ],
   "source": [
    "a=dict({1:'one',2:'two',3:'three'})\n",
    "a"
   ]
  },
  {
   "cell_type": "code",
   "execution_count": 172,
   "id": "15ea52dd-b982-4b23-9fda-12ad3487a68d",
   "metadata": {},
   "outputs": [
    {
     "data": {
      "text/plain": [
       "dict_keys([1, 2, 3])"
      ]
     },
     "execution_count": 172,
     "metadata": {},
     "output_type": "execute_result"
    }
   ],
   "source": [
    "a.keys()"
   ]
  },
  {
   "cell_type": "code",
   "execution_count": 174,
   "id": "58e7b6b6-bfe4-4ff8-9ee8-89d143eb78fa",
   "metadata": {},
   "outputs": [
    {
     "data": {
      "text/plain": [
       "dict_values(['one', 'two', 'three'])"
      ]
     },
     "execution_count": 174,
     "metadata": {},
     "output_type": "execute_result"
    }
   ],
   "source": [
    "a.values()"
   ]
  },
  {
   "cell_type": "code",
   "execution_count": 176,
   "id": "9d60d699-db2a-4815-8eb3-0f1122e044b4",
   "metadata": {},
   "outputs": [
    {
     "data": {
      "text/plain": [
       "dict_items([(1, 'one'), (2, 'two'), (3, 'three')])"
      ]
     },
     "execution_count": 176,
     "metadata": {},
     "output_type": "execute_result"
    }
   ],
   "source": [
    "a.items()"
   ]
  },
  {
   "cell_type": "code",
   "execution_count": 178,
   "id": "fd30c3bc-4a00-4c01-80ca-7364b237c810",
   "metadata": {},
   "outputs": [
    {
     "data": {
      "text/plain": [
       "{'a': 'one', 'b': 'two', 'c': ['ab', 'bc', 'ca']}"
      ]
     },
     "execution_count": 178,
     "metadata": {},
     "output_type": "execute_result"
    }
   ],
   "source": [
    "a={'a':'one','b':'two','c':['ab','bc','ca']}\n",
    "a"
   ]
  },
  {
   "cell_type": "code",
   "execution_count": 180,
   "id": "9b436ff3-fae8-4227-8434-bef038640ecc",
   "metadata": {},
   "outputs": [
    {
     "data": {
      "text/plain": [
       "{'a': 'one', 'b': 'two', 'c': ['ab', 'bc', 'ca'], 'd': ('str', 'abc', 'cgd')}"
      ]
     },
     "execution_count": 180,
     "metadata": {},
     "output_type": "execute_result"
    }
   ],
   "source": [
    "a={'a':'one','b':'two','c':['ab','bc','ca'],'d':('str','abc','cgd')}\n",
    "a"
   ]
  },
  {
   "cell_type": "code",
   "execution_count": 182,
   "id": "7aa9135c-d80c-411c-848f-9a23da355d67",
   "metadata": {},
   "outputs": [
    {
     "data": {
      "text/plain": [
       "{'a': 'one',\n",
       " 'b': 'two',\n",
       " 'c': ['ab', 'bc', 'ca'],\n",
       " 'd': {'name': 'anc', 'age': 22}}"
      ]
     },
     "execution_count": 182,
     "metadata": {},
     "output_type": "execute_result"
    }
   ],
   "source": [
    "a={'a':'one','b':'two','c':['ab','bc','ca'],'d':{'name':'anc','age':22}}\n",
    "a"
   ]
  },
  {
   "cell_type": "code",
   "execution_count": 186,
   "id": "2eb732d8-b792-4bf4-a02b-d7806e4b8410",
   "metadata": {},
   "outputs": [
    {
     "data": {
      "text/plain": [
       "{1: None, 2: None, 3: None, 4: None}"
      ]
     },
     "execution_count": 186,
     "metadata": {},
     "output_type": "execute_result"
    }
   ],
   "source": [
    "key={1,2,3,4}\n",
    "bc=dict.fromkeys(key)\n",
    "bc"
   ]
  },
  {
   "cell_type": "code",
   "execution_count": 188,
   "id": "d48441b3-e730-40ff-9092-8754468c58d5",
   "metadata": {},
   "outputs": [
    {
     "data": {
      "text/plain": [
       "{1: 10, 2: 10, 3: 10, 4: 10}"
      ]
     },
     "execution_count": 188,
     "metadata": {},
     "output_type": "execute_result"
    }
   ],
   "source": [
    "key={1,2,3,4}\n",
    "b=10\n",
    "bc=dict.fromkeys(key,b)\n",
    "bc"
   ]
  },
  {
   "cell_type": "code",
   "execution_count": 212,
   "id": "852d0760-4a1c-46a6-b01b-17052ecd5d7c",
   "metadata": {},
   "outputs": [
    {
     "data": {
      "text/plain": [
       "{1: [10, 20], 2: [10, 20], 3: [10, 20], 4: [10, 20]}"
      ]
     },
     "execution_count": 212,
     "metadata": {},
     "output_type": "execute_result"
    }
   ],
   "source": [
    "key={1,2,3,4}\n",
    "b=[10,20]\n",
    "bc=dict.fromkeys(key,b)\n",
    "bc"
   ]
  },
  {
   "cell_type": "code",
   "execution_count": 214,
   "id": "aaaa6f9b-18f8-42e8-ba3a-f01c2c59fa32",
   "metadata": {},
   "outputs": [
    {
     "data": {
      "text/plain": [
       "{1: [10, 20, 40], 2: [10, 20, 40], 3: [10, 20, 40], 4: [10, 20, 40]}"
      ]
     },
     "execution_count": 214,
     "metadata": {},
     "output_type": "execute_result"
    }
   ],
   "source": [
    "b.append(40)\n",
    "bc"
   ]
  },
  {
   "cell_type": "markdown",
   "id": "edbc7020-166f-4518-8209-4913491494c1",
   "metadata": {},
   "source": [
    "## accessing items"
   ]
  },
  {
   "cell_type": "code",
   "execution_count": 223,
   "id": "ccd241f2-c94f-4d89-aabc-820da9b16306",
   "metadata": {},
   "outputs": [
    {
     "data": {
      "text/plain": [
       "{'a': 'one', 2: 'two', 3: 'three'}"
      ]
     },
     "execution_count": 223,
     "metadata": {},
     "output_type": "execute_result"
    }
   ],
   "source": [
    "a=dict({'a':'one',2:'two',3:'three'})\n",
    "a"
   ]
  },
  {
   "cell_type": "code",
   "execution_count": 229,
   "id": "f1e17a6d-a6e6-498b-8c65-73a9f3d31098",
   "metadata": {},
   "outputs": [
    {
     "data": {
      "text/plain": [
       "'one'"
      ]
     },
     "execution_count": 229,
     "metadata": {},
     "output_type": "execute_result"
    }
   ],
   "source": [
    "a['a']"
   ]
  },
  {
   "cell_type": "code",
   "execution_count": 235,
   "id": "b5fba065-2dab-4970-921a-8595b251b630",
   "metadata": {},
   "outputs": [
    {
     "data": {
      "text/plain": [
       "'one'"
      ]
     },
     "execution_count": 235,
     "metadata": {},
     "output_type": "execute_result"
    }
   ],
   "source": [
    "a.get('a')"
   ]
  },
  {
   "cell_type": "code",
   "execution_count": 237,
   "id": "86963174-774b-4e8f-b3e8-8e27a1eb9a02",
   "metadata": {},
   "outputs": [
    {
     "data": {
      "text/plain": [
       "'two'"
      ]
     },
     "execution_count": 237,
     "metadata": {},
     "output_type": "execute_result"
    }
   ],
   "source": [
    "a[2]"
   ]
  },
  {
   "cell_type": "code",
   "execution_count": 239,
   "id": "2f902db3-5883-439b-aefb-36789edfc3a6",
   "metadata": {},
   "outputs": [
    {
     "data": {
      "text/plain": [
       "'three'"
      ]
     },
     "execution_count": 239,
     "metadata": {},
     "output_type": "execute_result"
    }
   ],
   "source": [
    "a.get(3)"
   ]
  },
  {
   "cell_type": "markdown",
   "id": "29db1b32-1374-4af7-b984-e4b0bbde2c37",
   "metadata": {},
   "source": [
    "## add,remove and change items"
   ]
  },
  {
   "cell_type": "code",
   "execution_count": 242,
   "id": "68ded46d-db25-41e0-93f2-719fd20b273d",
   "metadata": {},
   "outputs": [
    {
     "data": {
      "text/plain": [
       "{'name': 'anc', 'age': 22, 'id': 23324, 'DOB': 2003, 'addr': 'Tokyo'}"
      ]
     },
     "execution_count": 242,
     "metadata": {},
     "output_type": "execute_result"
    }
   ],
   "source": [
    "a={'name':'anc','age':22,'id':23324,'DOB':2003,'addr':'Tokyo'}\n",
    "a"
   ]
  },
  {
   "cell_type": "code",
   "execution_count": 244,
   "id": "8a817873-bdef-44d7-893e-fc9100abb1c7",
   "metadata": {},
   "outputs": [
    {
     "data": {
      "text/plain": [
       "{'name': 'anc',\n",
       " 'age': 22,\n",
       " 'id': 23324,\n",
       " 'DOB': 2003,\n",
       " 'addr': 'Tokyo',\n",
       " 'dob': 2002}"
      ]
     },
     "execution_count": 244,
     "metadata": {},
     "output_type": "execute_result"
    }
   ],
   "source": [
    "a['dob']=2002\n",
    "a"
   ]
  },
  {
   "cell_type": "code",
   "execution_count": 246,
   "id": "0adb463f-67ae-424a-8d72-eaf2516ca4c6",
   "metadata": {},
   "outputs": [
    {
     "data": {
      "text/plain": [
       "{'name': 'anc',\n",
       " 'age': 22,\n",
       " 'id': 23324,\n",
       " 'DOB': 2003,\n",
       " 'addr': 'Oslo',\n",
       " 'dob': 2002}"
      ]
     },
     "execution_count": 246,
     "metadata": {},
     "output_type": "execute_result"
    }
   ],
   "source": [
    "a['addr']='Oslo'\n",
    "a"
   ]
  },
  {
   "cell_type": "code",
   "execution_count": 248,
   "id": "88ae1272-99b9-4cdc-8a9e-5902f18547bb",
   "metadata": {},
   "outputs": [
    {
     "data": {
      "text/plain": [
       "{'name': 'anc',\n",
       " 'age': 22,\n",
       " 'id': 23324,\n",
       " 'DOB': 2003,\n",
       " 'addr': 'Oslo',\n",
       " 'dob': 2002}"
      ]
     },
     "execution_count": 248,
     "metadata": {},
     "output_type": "execute_result"
    }
   ],
   "source": [
    "a"
   ]
  },
  {
   "cell_type": "code",
   "execution_count": 250,
   "id": "2d5a0a6e-dea8-47f8-aa11-94c46ee21869",
   "metadata": {},
   "outputs": [
    {
     "data": {
      "text/plain": [
       "{'name': 'anc',\n",
       " 'age': 22,\n",
       " 'id': 23324,\n",
       " 'DOB': 2003,\n",
       " 'addr': 'Oslo',\n",
       " 'dob': 2003}"
      ]
     },
     "execution_count": 250,
     "metadata": {},
     "output_type": "execute_result"
    }
   ],
   "source": [
    "b={'dob':2003}\n",
    "a.update(b)\n",
    "a"
   ]
  },
  {
   "cell_type": "code",
   "execution_count": 252,
   "id": "b80d1e57-e0b5-4451-8291-6e1e7c6a0b87",
   "metadata": {},
   "outputs": [
    {
     "data": {
      "text/plain": [
       "{'dob': 2003, 'career': 'sportsmen'}"
      ]
     },
     "execution_count": 252,
     "metadata": {},
     "output_type": "execute_result"
    }
   ],
   "source": [
    "b['career']='sportsmen'\n",
    "b"
   ]
  },
  {
   "cell_type": "code",
   "execution_count": 254,
   "id": "b06ccb34-9e02-4ed8-bccf-23212a301729",
   "metadata": {},
   "outputs": [
    {
     "data": {
      "text/plain": [
       "{'dob': 2003}"
      ]
     },
     "execution_count": 254,
     "metadata": {},
     "output_type": "execute_result"
    }
   ],
   "source": [
    "b.pop('career')\n",
    "b"
   ]
  },
  {
   "cell_type": "code",
   "execution_count": 258,
   "id": "22c486aa-5332-4e52-a959-58a12591df41",
   "metadata": {},
   "outputs": [
    {
     "data": {
      "text/plain": [
       "{'name': 'anc', 'age': 22, 'id': 23324, 'DOB': 2003, 'addr': 'Oslo'}"
      ]
     },
     "execution_count": 258,
     "metadata": {},
     "output_type": "execute_result"
    }
   ],
   "source": [
    "a"
   ]
  },
  {
   "cell_type": "code",
   "execution_count": 260,
   "id": "1d8afdbe-4433-4e05-8383-fec8d2ae63e0",
   "metadata": {},
   "outputs": [
    {
     "data": {
      "text/plain": [
       "('addr', 'Oslo')"
      ]
     },
     "execution_count": 260,
     "metadata": {},
     "output_type": "execute_result"
    }
   ],
   "source": [
    "a.popitem()"
   ]
  },
  {
   "cell_type": "code",
   "execution_count": 262,
   "id": "4cb1d3c2-06d4-4dd1-b59b-5c98e8e41b66",
   "metadata": {},
   "outputs": [
    {
     "data": {
      "text/plain": [
       "{'name': 'anc', 'age': 22, 'id': 23324, 'DOB': 2003}"
      ]
     },
     "execution_count": 262,
     "metadata": {},
     "output_type": "execute_result"
    }
   ],
   "source": [
    "a"
   ]
  },
  {
   "cell_type": "code",
   "execution_count": 266,
   "id": "c831db15-3893-444e-82cb-83db40e63495",
   "metadata": {},
   "outputs": [
    {
     "data": {
      "text/plain": [
       "{'name': 'anc', 'age': 22, 'DOB': 2003}"
      ]
     },
     "execution_count": 266,
     "metadata": {},
     "output_type": "execute_result"
    }
   ],
   "source": [
    "del[a['id']]\n",
    "a"
   ]
  },
  {
   "cell_type": "code",
   "execution_count": 268,
   "id": "4b213c16-8904-4402-ab68-b1f1c675c4fc",
   "metadata": {},
   "outputs": [
    {
     "data": {
      "text/plain": [
       "{}"
      ]
     },
     "execution_count": 268,
     "metadata": {},
     "output_type": "execute_result"
    }
   ],
   "source": [
    "a.clear()\n",
    "a"
   ]
  },
  {
   "cell_type": "code",
   "execution_count": 270,
   "id": "a2f200f4-0148-492a-9ea8-69ae4ee453bd",
   "metadata": {},
   "outputs": [
    {
     "ename": "NameError",
     "evalue": "name 'a' is not defined",
     "output_type": "error",
     "traceback": [
      "\u001b[1;31m---------------------------------------------------------------------------\u001b[0m",
      "\u001b[1;31mNameError\u001b[0m                                 Traceback (most recent call last)",
      "Cell \u001b[1;32mIn[270], line 2\u001b[0m\n\u001b[0;32m      1\u001b[0m \u001b[38;5;28;01mdel\u001b[39;00m a\n\u001b[1;32m----> 2\u001b[0m a\n",
      "\u001b[1;31mNameError\u001b[0m: name 'a' is not defined"
     ]
    }
   ],
   "source": [
    "del a\n",
    "a"
   ]
  },
  {
   "cell_type": "markdown",
   "id": "25471e94-d852-424e-bb18-f3d2cdc99750",
   "metadata": {},
   "source": [
    "## copy dict, loop through a dict, dict membership"
   ]
  },
  {
   "cell_type": "code",
   "execution_count": 273,
   "id": "ce8acf3f-dca6-4e33-9ff3-43748d50aa43",
   "metadata": {},
   "outputs": [
    {
     "data": {
      "text/plain": [
       "{'name': 'anc', 'age': 22, 'id': 23324, 'DOB': 2003, 'addr': 'Tokyo'}"
      ]
     },
     "execution_count": 273,
     "metadata": {},
     "output_type": "execute_result"
    }
   ],
   "source": [
    "a={'name':'anc','age':22,'id':23324,'DOB':2003,'addr':'Tokyo'}\n",
    "a"
   ]
  },
  {
   "cell_type": "code",
   "execution_count": 275,
   "id": "79509912-d7b2-4be5-9033-7a224902e84e",
   "metadata": {},
   "outputs": [],
   "source": [
    "a1=a"
   ]
  },
  {
   "cell_type": "code",
   "execution_count": 277,
   "id": "0b28f05e-ef4a-4b16-8414-03a23be8f23c",
   "metadata": {},
   "outputs": [
    {
     "data": {
      "text/plain": [
       "{'name': 'anc', 'age': 22, 'id': 23324, 'DOB': 2003, 'addr': 'Tokyo'}"
      ]
     },
     "execution_count": 277,
     "metadata": {},
     "output_type": "execute_result"
    }
   ],
   "source": [
    "a1"
   ]
  },
  {
   "cell_type": "code",
   "execution_count": 279,
   "id": "0936e9f9-def0-4e40-a26d-2ce10e0dd68f",
   "metadata": {},
   "outputs": [
    {
     "data": {
      "text/plain": [
       "(2841675432064, 2841675432064)"
      ]
     },
     "execution_count": 279,
     "metadata": {},
     "output_type": "execute_result"
    }
   ],
   "source": [
    "id(a),id(a1)"
   ]
  },
  {
   "cell_type": "code",
   "execution_count": 281,
   "id": "9a6a4bd3-931b-47bc-9a31-e3609b008fc0",
   "metadata": {},
   "outputs": [],
   "source": [
    "a2=a.copy()"
   ]
  },
  {
   "cell_type": "code",
   "execution_count": 283,
   "id": "bad6bd9f-f11e-4ddc-bfbc-8b93637e3680",
   "metadata": {},
   "outputs": [
    {
     "data": {
      "text/plain": [
       "{'name': 'anc', 'age': 22, 'id': 23324, 'DOB': 2003, 'addr': 'Tokyo'}"
      ]
     },
     "execution_count": 283,
     "metadata": {},
     "output_type": "execute_result"
    }
   ],
   "source": [
    "a2"
   ]
  },
  {
   "cell_type": "code",
   "execution_count": 285,
   "id": "6802f960-51bb-4bbb-872d-8c8379759bb6",
   "metadata": {},
   "outputs": [
    {
     "data": {
      "text/plain": [
       "2841674501632"
      ]
     },
     "execution_count": 285,
     "metadata": {},
     "output_type": "execute_result"
    }
   ],
   "source": [
    "id(a2)"
   ]
  },
  {
   "cell_type": "code",
   "execution_count": 287,
   "id": "ddbab9f2-8f93-4b1a-adb1-a4a93427e10c",
   "metadata": {},
   "outputs": [
    {
     "data": {
      "text/plain": [
       "{'name': 'anc', 'age': 22, 'id': 23324, 'DOB': 2003, 'addr': 'Norway'}"
      ]
     },
     "execution_count": 287,
     "metadata": {},
     "output_type": "execute_result"
    }
   ],
   "source": [
    "a['addr']='Norway'\n",
    "a"
   ]
  },
  {
   "cell_type": "code",
   "execution_count": 289,
   "id": "d272bf78-048d-453b-9322-e01fb5b637d0",
   "metadata": {},
   "outputs": [
    {
     "data": {
      "text/plain": [
       "{'name': 'anc', 'age': 22, 'id': 23324, 'DOB': 2003, 'addr': 'Norway'}"
      ]
     },
     "execution_count": 289,
     "metadata": {},
     "output_type": "execute_result"
    }
   ],
   "source": [
    "a1"
   ]
  },
  {
   "cell_type": "code",
   "execution_count": 291,
   "id": "dfe06d3d-a54f-423b-be9d-5de49f686b80",
   "metadata": {},
   "outputs": [
    {
     "data": {
      "text/plain": [
       "{'name': 'anc', 'age': 22, 'id': 23324, 'DOB': 2003, 'addr': 'Tokyo'}"
      ]
     },
     "execution_count": 291,
     "metadata": {},
     "output_type": "execute_result"
    }
   ],
   "source": [
    "a2"
   ]
  },
  {
   "cell_type": "code",
   "execution_count": 293,
   "id": "ffd81538-868f-418e-98f4-8501e8626bc0",
   "metadata": {},
   "outputs": [
    {
     "data": {
      "text/plain": [
       "{'name': 'anc', 'age': 22, 'id': 23324, 'DOB': 2003, 'addr': 'Tokyo'}"
      ]
     },
     "execution_count": 293,
     "metadata": {},
     "output_type": "execute_result"
    }
   ],
   "source": [
    "a={'name':'anc','age':22,'id':23324,'DOB':2003,'addr':'Tokyo'}\n",
    "a"
   ]
  },
  {
   "cell_type": "code",
   "execution_count": 295,
   "id": "cefcbd1e-3ab6-4536-b4c2-f5340f16d427",
   "metadata": {},
   "outputs": [
    {
     "name": "stdout",
     "output_type": "stream",
     "text": [
      "name : anc\n",
      "age : 22\n",
      "id : 23324\n",
      "DOB : 2003\n",
      "addr : Tokyo\n"
     ]
    }
   ],
   "source": [
    "for i in a:\n",
    "    print(i,':',a[i])"
   ]
  },
  {
   "cell_type": "code",
   "execution_count": 305,
   "id": "5bb7008f-88a8-4517-ab8b-749b204a1634",
   "metadata": {},
   "outputs": [
    {
     "name": "stdout",
     "output_type": "stream",
     "text": [
      "anc\n",
      "22\n",
      "23324\n",
      "2003\n",
      "Tokyo\n"
     ]
    }
   ],
   "source": [
    "for i in a:\n",
    "    print(a[i])"
   ]
  },
  {
   "cell_type": "code",
   "execution_count": 307,
   "id": "447dbd64-f13d-4707-802c-7c6044b79c99",
   "metadata": {},
   "outputs": [
    {
     "name": "stdout",
     "output_type": "stream",
     "text": [
      "name\n",
      "age\n",
      "id\n",
      "DOB\n",
      "addr\n"
     ]
    }
   ],
   "source": [
    "for i in a:\n",
    "    print(i)"
   ]
  },
  {
   "cell_type": "code",
   "execution_count": 310,
   "id": "cab59555-b91b-499b-a9fe-d9868d1e7f28",
   "metadata": {},
   "outputs": [
    {
     "data": {
      "text/plain": [
       "{'name': 'anc', 'age': 22, 'id': 23324, 'DOB': 2003, 'addr': 'Tokyo'}"
      ]
     },
     "execution_count": 310,
     "metadata": {},
     "output_type": "execute_result"
    }
   ],
   "source": [
    "a"
   ]
  },
  {
   "cell_type": "code",
   "execution_count": 312,
   "id": "6f51d6fc-d7f4-4432-b911-4bc06acb1b31",
   "metadata": {},
   "outputs": [
    {
     "data": {
      "text/plain": [
       "True"
      ]
     },
     "execution_count": 312,
     "metadata": {},
     "output_type": "execute_result"
    }
   ],
   "source": [
    "'name' in a"
   ]
  },
  {
   "cell_type": "code",
   "execution_count": 314,
   "id": "215258ce-bf05-402f-9478-85164f2fd39a",
   "metadata": {},
   "outputs": [
    {
     "data": {
      "text/plain": [
       "False"
      ]
     },
     "execution_count": 314,
     "metadata": {},
     "output_type": "execute_result"
    }
   ],
   "source": [
    "'anc' in a"
   ]
  },
  {
   "cell_type": "code",
   "execution_count": 316,
   "id": "81f67470-26db-4d05-aa6a-19023af1c8db",
   "metadata": {},
   "outputs": [
    {
     "data": {
      "text/plain": [
       "True"
      ]
     },
     "execution_count": 316,
     "metadata": {},
     "output_type": "execute_result"
    }
   ],
   "source": [
    "'id' in a"
   ]
  },
  {
   "cell_type": "markdown",
   "id": "52c3f75a-9230-4068-9ea6-90c81e327bdd",
   "metadata": {},
   "source": [
    "## all/any"
   ]
  },
  {
   "cell_type": "code",
   "execution_count": 319,
   "id": "986056f8-a76d-4be9-a265-5400b2a4b072",
   "metadata": {},
   "outputs": [
    {
     "data": {
      "text/plain": [
       "{'name': 'anc', 'age': 22, 'id': 23324, 'DOB': 2003, 'addr': 'Tokyo'}"
      ]
     },
     "execution_count": 319,
     "metadata": {},
     "output_type": "execute_result"
    }
   ],
   "source": [
    "a"
   ]
  },
  {
   "cell_type": "code",
   "execution_count": 321,
   "id": "c9b26870-8b69-401e-872d-8f09a1c8d209",
   "metadata": {},
   "outputs": [
    {
     "data": {
      "text/plain": [
       "True"
      ]
     },
     "execution_count": 321,
     "metadata": {},
     "output_type": "execute_result"
    }
   ],
   "source": [
    "all(a)"
   ]
  },
  {
   "cell_type": "code",
   "execution_count": 323,
   "id": "5eedf792-db70-4cc8-b01c-af3a38c032ad",
   "metadata": {},
   "outputs": [
    {
     "data": {
      "text/plain": [
       "True"
      ]
     },
     "execution_count": 323,
     "metadata": {},
     "output_type": "execute_result"
    }
   ],
   "source": [
    "any(a)"
   ]
  },
  {
   "cell_type": "code",
   "execution_count": null,
   "id": "bc447489-2d93-40aa-90e9-134936549dac",
   "metadata": {},
   "outputs": [],
   "source": []
  }
 ],
 "metadata": {
  "kernelspec": {
   "display_name": "Python 3 (ipykernel)",
   "language": "python",
   "name": "python3"
  },
  "language_info": {
   "codemirror_mode": {
    "name": "ipython",
    "version": 3
   },
   "file_extension": ".py",
   "mimetype": "text/x-python",
   "name": "python",
   "nbconvert_exporter": "python",
   "pygments_lexer": "ipython3",
   "version": "3.12.7"
  }
 },
 "nbformat": 4,
 "nbformat_minor": 5
}

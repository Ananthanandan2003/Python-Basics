{
 "cells": [
  {
   "cell_type": "markdown",
   "id": "3defaa6b-1fb6-403f-b847-29bbc71749ea",
   "metadata": {},
   "source": [
    "# string manipulation"
   ]
  },
  {
   "cell_type": "code",
   "execution_count": 2,
   "id": "0bef613f-ce96-44af-baff-e564272203c3",
   "metadata": {},
   "outputs": [
    {
     "data": {
      "text/plain": [
       "'anc'"
      ]
     },
     "execution_count": 2,
     "metadata": {},
     "output_type": "execute_result"
    }
   ],
   "source": [
    "a='anc'\n",
    "a"
   ]
  },
  {
   "cell_type": "code",
   "execution_count": 6,
   "id": "ed68a57d-1efb-457a-8a70-0e09307c7bfc",
   "metadata": {},
   "outputs": [
    {
     "data": {
      "text/plain": [
       "'anc'"
      ]
     },
     "execution_count": 6,
     "metadata": {},
     "output_type": "execute_result"
    }
   ],
   "source": [
    "a=\"anc\"\n",
    "a"
   ]
  },
  {
   "cell_type": "code",
   "execution_count": 16,
   "id": "7850d609-f3ad-4e69-8f2b-f587dbb8e2eb",
   "metadata": {},
   "outputs": [
    {
     "ename": "SyntaxError",
     "evalue": "unterminated string literal (detected at line 1) (2856033053.py, line 1)",
     "output_type": "error",
     "traceback": [
      "\u001b[1;36m  Cell \u001b[1;32mIn[16], line 1\u001b[1;36m\u001b[0m\n\u001b[1;33m    a='i'am anc'\u001b[0m\n\u001b[1;37m               ^\u001b[0m\n\u001b[1;31mSyntaxError\u001b[0m\u001b[1;31m:\u001b[0m unterminated string literal (detected at line 1)\n"
     ]
    }
   ],
   "source": [
    "a='i'am anc'\n",
    "a"
   ]
  },
  {
   "cell_type": "code",
   "execution_count": 38,
   "id": "94378e00-9526-4e9b-b1f3-cab7f7e167a7",
   "metadata": {},
   "outputs": [
    {
     "data": {
      "text/plain": [
       "\"i'm anc\""
      ]
     },
     "execution_count": 38,
     "metadata": {},
     "output_type": "execute_result"
    }
   ],
   "source": [
    "a='i\\'m anc'\n",
    "a\n"
   ]
  },
  {
   "cell_type": "code",
   "execution_count": 22,
   "id": "02b7f0cf-3151-4817-ad73-fe3719381397",
   "metadata": {},
   "outputs": [
    {
     "data": {
      "text/plain": [
       "\"i'm anc\""
      ]
     },
     "execution_count": 22,
     "metadata": {},
     "output_type": "execute_result"
    }
   ],
   "source": [
    "a=\"i'm anc\"\n",
    "a"
   ]
  },
  {
   "cell_type": "code",
   "execution_count": 30,
   "id": "fc092122-87ac-41b4-bc81-30e6c33d8884",
   "metadata": {},
   "outputs": [
    {
     "name": "stdout",
     "output_type": "stream",
     "text": [
      "This is year '2024'\n"
     ]
    }
   ],
   "source": [
    "print(\"This is year '2024'\")"
   ]
  },
  {
   "cell_type": "code",
   "execution_count": 48,
   "id": "5402a4b7-fad9-4e4f-92c9-dada3103b269",
   "metadata": {},
   "outputs": [
    {
     "name": "stdout",
     "output_type": "stream",
     "text": [
      "This is year \"2024\"\n"
     ]
    }
   ],
   "source": [
    "print(\"This is year \\\"2024\\\"\" )"
   ]
  },
  {
   "cell_type": "code",
   "execution_count": 72,
   "id": "b3aa51e9-69f3-471b-95e1-8c4e19dd4df2",
   "metadata": {},
   "outputs": [
    {
     "name": "stdout",
     "output_type": "stream",
     "text": [
      "Hello,\n",
      "World\n"
     ]
    }
   ],
   "source": [
    "ab=\"Hello,\\nWorld\"\n",
    "print(ab)"
   ]
  },
  {
   "cell_type": "code",
   "execution_count": 78,
   "id": "f78ad42b-1ab9-4c39-8cb1-1693842cc7af",
   "metadata": {},
   "outputs": [
    {
     "name": "stdout",
     "output_type": "stream",
     "text": [
      "Hello,\tWorld\n"
     ]
    }
   ],
   "source": [
    "ab=\"Hello,\\tWorld\"\n",
    "print(ab)"
   ]
  },
  {
   "cell_type": "code",
   "execution_count": 82,
   "id": "9b4e2a1f-06ef-4f8d-8a61-8661ba42a8de",
   "metadata": {},
   "outputs": [
    {
     "name": "stdout",
     "output_type": "stream",
     "text": [
      "Hello,\t\tWorld\n"
     ]
    }
   ],
   "source": [
    "ab=\"Hello,\\t\\tWorld\"\n",
    "print(ab)"
   ]
  },
  {
   "cell_type": "code",
   "execution_count": 110,
   "id": "00abff84-1706-41bd-a1ab-50378507b6e0",
   "metadata": {},
   "outputs": [
    {
     "name": "stdout",
     "output_type": "stream",
     "text": [
      "Hello,World\n"
     ]
    }
   ],
   "source": [
    "ab=\"Hello, \\bWorld\"\n",
    "print(ab)"
   ]
  },
  {
   "cell_type": "code",
   "execution_count": 132,
   "id": "2dc3e4ab-0f44-4d99-8765-cc6853279f76",
   "metadata": {},
   "outputs": [
    {
     "name": "stdout",
     "output_type": "stream",
     "text": [
      "I am ananth\n"
     ]
    }
   ],
   "source": [
    "ab=\"Hello world\\rI am ananth\"\n",
    "print(ab)"
   ]
  },
  {
   "cell_type": "code",
   "execution_count": 152,
   "id": "2a7ad489-8064-43e7-808f-eb51d6dedec6",
   "metadata": {},
   "outputs": [
    {
     "name": "stdout",
     "output_type": "stream",
     "text": [
      "gold is old\n"
     ]
    }
   ],
   "source": [
    "ab=\"old_is_gold\\rgold is old\"\n",
    "print(ab)"
   ]
  },
  {
   "cell_type": "code",
   "execution_count": 158,
   "id": "c869329a-1d2b-4d1a-991e-3eef975d4718",
   "metadata": {},
   "outputs": [
    {
     "name": "stdout",
     "output_type": "stream",
     "text": [
      "I am anc\\nI am \\tstudying DS\n"
     ]
    }
   ],
   "source": [
    "print(r\"I am anc\\nI am \\tstudying DS\")"
   ]
  },
  {
   "cell_type": "code",
   "execution_count": 168,
   "id": "53be206d-db5a-4c38-9d1e-64151d94c83e",
   "metadata": {},
   "outputs": [
    {
     "name": "stdout",
     "output_type": "stream",
     "text": [
      "hello world\n",
      "    all are welcome\n",
      "    to the show\n"
     ]
    }
   ],
   "source": [
    "print(\n",
    "\"\"\"hello world\n",
    "    all are welcome\n",
    "    to the show\"\"\"\n",
    ")"
   ]
  },
  {
   "cell_type": "markdown",
   "id": "0ea4bec9-d281-4afe-a704-525c9a6f9543",
   "metadata": {},
   "source": [
    "## in and not in operators"
   ]
  },
  {
   "cell_type": "code",
   "execution_count": 171,
   "id": "51748f04-59cc-4e37-ab79-33c88efb6b0c",
   "metadata": {},
   "outputs": [
    {
     "data": {
      "text/plain": [
       "True"
      ]
     },
     "execution_count": 171,
     "metadata": {},
     "output_type": "execute_result"
    }
   ],
   "source": [
    "\"in\" in \"in this world\""
   ]
  },
  {
   "cell_type": "code",
   "execution_count": 173,
   "id": "40846f65-78b2-4c45-8bae-8d1fceee7948",
   "metadata": {},
   "outputs": [
    {
     "data": {
      "text/plain": [
       "False"
      ]
     },
     "execution_count": 173,
     "metadata": {},
     "output_type": "execute_result"
    }
   ],
   "source": [
    "\"int\" in \"in this world\""
   ]
  },
  {
   "cell_type": "code",
   "execution_count": 179,
   "id": "fc64b925-880e-4bd0-9df2-e27d51cbc4ba",
   "metadata": {},
   "outputs": [
    {
     "data": {
      "text/plain": [
       "True"
      ]
     },
     "execution_count": 179,
     "metadata": {},
     "output_type": "execute_result"
    }
   ],
   "source": [
    "'7' in '74'"
   ]
  },
  {
   "cell_type": "markdown",
   "id": "3b3c0ea5-9b5d-4613-b5e1-45e7ae3d9a58",
   "metadata": {},
   "source": [
    "## upper(),lower(),title()"
   ]
  },
  {
   "cell_type": "code",
   "execution_count": 184,
   "id": "d82a0395-25ad-4fab-9fba-ada9398835ba",
   "metadata": {},
   "outputs": [
    {
     "data": {
      "text/plain": [
       "'I AM ANC'"
      ]
     },
     "execution_count": 184,
     "metadata": {},
     "output_type": "execute_result"
    }
   ],
   "source": [
    "st=\"i Am anc\"\n",
    "st.upper()"
   ]
  },
  {
   "cell_type": "code",
   "execution_count": 186,
   "id": "1488e3d0-a40f-4e7a-8bc6-96887ba19ec1",
   "metadata": {},
   "outputs": [
    {
     "data": {
      "text/plain": [
       "'i am anc'"
      ]
     },
     "execution_count": 186,
     "metadata": {},
     "output_type": "execute_result"
    }
   ],
   "source": [
    "st.lower()"
   ]
  },
  {
   "cell_type": "code",
   "execution_count": 188,
   "id": "c4b2d64e-a091-4300-ad8b-fa9b68348ce5",
   "metadata": {},
   "outputs": [
    {
     "data": {
      "text/plain": [
       "'I Am Anc'"
      ]
     },
     "execution_count": 188,
     "metadata": {},
     "output_type": "execute_result"
    }
   ],
   "source": [
    "st.title()"
   ]
  },
  {
   "cell_type": "code",
   "execution_count": 192,
   "id": "02859b64-eed0-49d8-9e78-eaa4a339c21c",
   "metadata": {},
   "outputs": [
    {
     "data": {
      "text/plain": [
       "'This Is Wonderful World '"
      ]
     },
     "execution_count": 192,
     "metadata": {},
     "output_type": "execute_result"
    }
   ],
   "source": [
    "st1=\"This is wonderful world \"\n",
    "st1.title()"
   ]
  },
  {
   "cell_type": "code",
   "execution_count": 210,
   "id": "0645e184-7bf3-43a2-a440-297d3969df85",
   "metadata": {},
   "outputs": [],
   "source": [
    "st1=\"This Is Wonderful World\""
   ]
  },
  {
   "cell_type": "code",
   "execution_count": 212,
   "id": "09606dc3-0eac-43bf-82a4-3fb8d51523a2",
   "metadata": {},
   "outputs": [
    {
     "data": {
      "text/plain": [
       "False"
      ]
     },
     "execution_count": 212,
     "metadata": {},
     "output_type": "execute_result"
    }
   ],
   "source": [
    "st1.islower()"
   ]
  },
  {
   "cell_type": "code",
   "execution_count": 214,
   "id": "66f71fd5-5e8e-4911-b17f-38dab5038e21",
   "metadata": {},
   "outputs": [
    {
     "data": {
      "text/plain": [
       "True"
      ]
     },
     "execution_count": 214,
     "metadata": {},
     "output_type": "execute_result"
    }
   ],
   "source": [
    "st1.istitle()"
   ]
  },
  {
   "cell_type": "code",
   "execution_count": 216,
   "id": "d0722a7b-bc17-48c8-8134-bed434c7f31a",
   "metadata": {},
   "outputs": [
    {
     "data": {
      "text/plain": [
       "False"
      ]
     },
     "execution_count": 216,
     "metadata": {},
     "output_type": "execute_result"
    }
   ],
   "source": [
    "st1.isupper()"
   ]
  },
  {
   "cell_type": "code",
   "execution_count": 218,
   "id": "bc00973c-d956-473a-ac5d-c3f6833aa365",
   "metadata": {},
   "outputs": [
    {
     "data": {
      "text/plain": [
       "'i Am anc'"
      ]
     },
     "execution_count": 218,
     "metadata": {},
     "output_type": "execute_result"
    }
   ],
   "source": [
    "st"
   ]
  },
  {
   "cell_type": "code",
   "execution_count": 222,
   "id": "caf1a70d-de0f-4ff8-abc8-64516fb77db6",
   "metadata": {},
   "outputs": [
    {
     "data": {
      "text/plain": [
       "False"
      ]
     },
     "execution_count": 222,
     "metadata": {},
     "output_type": "execute_result"
    }
   ],
   "source": [
    "st.isupper()"
   ]
  },
  {
   "cell_type": "code",
   "execution_count": 244,
   "id": "3e5d3d2d-9dcc-47bb-bf40-8d4399e1a161",
   "metadata": {},
   "outputs": [
    {
     "data": {
      "text/plain": [
       "False"
      ]
     },
     "execution_count": 244,
     "metadata": {},
     "output_type": "execute_result"
    }
   ],
   "source": [
    "s1=\"12345ab\"\n",
    "s1.isalpha()"
   ]
  },
  {
   "cell_type": "code",
   "execution_count": 246,
   "id": "5b85890a-746b-4528-a1f7-be366f670c77",
   "metadata": {},
   "outputs": [
    {
     "data": {
      "text/plain": [
       "True"
      ]
     },
     "execution_count": 246,
     "metadata": {},
     "output_type": "execute_result"
    }
   ],
   "source": [
    "s1.isalnum()"
   ]
  },
  {
   "cell_type": "code",
   "execution_count": 238,
   "id": "f4f19ae2-ffa4-4925-94f8-b92de7c8312f",
   "metadata": {},
   "outputs": [
    {
     "data": {
      "text/plain": [
       "True"
      ]
     },
     "execution_count": 238,
     "metadata": {},
     "output_type": "execute_result"
    }
   ],
   "source": [
    "s2=\"I Am The King\"\n",
    "s2.istitle()"
   ]
  },
  {
   "cell_type": "code",
   "execution_count": 242,
   "id": "a6ad13fa-8b13-4846-a95f-b0977f2cf0f8",
   "metadata": {},
   "outputs": [
    {
     "data": {
      "text/plain": [
       "False"
      ]
     },
     "execution_count": 242,
     "metadata": {},
     "output_type": "execute_result"
    }
   ],
   "source": [
    "s3=\"we won\"\n",
    "s3.isspace()"
   ]
  },
  {
   "cell_type": "code",
   "execution_count": 248,
   "id": "2547dc25-f0a2-423e-8ed8-2c6446a7b9fd",
   "metadata": {},
   "outputs": [
    {
     "data": {
      "text/plain": [
       "True"
      ]
     },
     "execution_count": 248,
     "metadata": {},
     "output_type": "execute_result"
    }
   ],
   "source": [
    "s3=\"12314\"\n",
    "s3.isdecimal()"
   ]
  },
  {
   "cell_type": "code",
   "execution_count": 250,
   "id": "25e2fb9c-df10-4888-a38b-9f1a7573db1e",
   "metadata": {},
   "outputs": [
    {
     "data": {
      "text/plain": [
       "True"
      ]
     },
     "execution_count": 250,
     "metadata": {},
     "output_type": "execute_result"
    }
   ],
   "source": [
    "s4=\" \"\n",
    "s4.isspace()"
   ]
  },
  {
   "cell_type": "code",
   "execution_count": 252,
   "id": "46f9c1ba-0333-4bd8-a69c-a3906a068c1f",
   "metadata": {},
   "outputs": [
    {
     "data": {
      "text/plain": [
       "True"
      ]
     },
     "execution_count": 252,
     "metadata": {},
     "output_type": "execute_result"
    }
   ],
   "source": [
    "'i am anc'.startswith('i am')"
   ]
  },
  {
   "cell_type": "code",
   "execution_count": 254,
   "id": "3b5eaad7-e816-4c9b-abdb-408a0eca1a58",
   "metadata": {},
   "outputs": [
    {
     "data": {
      "text/plain": [
       "True"
      ]
     },
     "execution_count": 254,
     "metadata": {},
     "output_type": "execute_result"
    }
   ],
   "source": [
    "'i am anc'.endswith('am anc')"
   ]
  },
  {
   "cell_type": "markdown",
   "id": "7aab3204-2dcd-445b-8687-0a59b2116614",
   "metadata": {},
   "source": [
    "## join(),split()"
   ]
  },
  {
   "cell_type": "code",
   "execution_count": 257,
   "id": "c5aa7d5f-0141-48ff-9c0d-d9ba772b2f0b",
   "metadata": {},
   "outputs": [
    {
     "data": {
      "text/plain": [
       "'iamanc'"
      ]
     },
     "execution_count": 257,
     "metadata": {},
     "output_type": "execute_result"
    }
   ],
   "source": [
    "''.join(('i','am','anc'))"
   ]
  },
  {
   "cell_type": "code",
   "execution_count": 259,
   "id": "0c3d9f22-9039-4873-8106-4cbad92a0e94",
   "metadata": {},
   "outputs": [
    {
     "data": {
      "text/plain": [
       "'i am anc'"
      ]
     },
     "execution_count": 259,
     "metadata": {},
     "output_type": "execute_result"
    }
   ],
   "source": [
    "' '.join(('i','am','anc'))"
   ]
  },
  {
   "cell_type": "code",
   "execution_count": 261,
   "id": "d730360e-1c6c-4e64-b7e9-6979239046cb",
   "metadata": {},
   "outputs": [
    {
     "data": {
      "text/plain": [
       "'i,am,anc'"
      ]
     },
     "execution_count": 261,
     "metadata": {},
     "output_type": "execute_result"
    }
   ],
   "source": [
    "','.join(('i','am','anc'))"
   ]
  },
  {
   "cell_type": "code",
   "execution_count": 263,
   "id": "6ef2f1cc-9d0c-4bf6-b686-c7930e2a2a93",
   "metadata": {},
   "outputs": [
    {
     "data": {
      "text/plain": [
       "'i12am12anc'"
      ]
     },
     "execution_count": 263,
     "metadata": {},
     "output_type": "execute_result"
    }
   ],
   "source": [
    "'12'.join(('i','am','anc'))"
   ]
  },
  {
   "cell_type": "code",
   "execution_count": 271,
   "id": "f7d02f95-c0aa-4137-8770-bc52d7e496ad",
   "metadata": {},
   "outputs": [
    {
     "data": {
      "text/plain": [
       "['i', 'am', 'anc']"
      ]
     },
     "execution_count": 271,
     "metadata": {},
     "output_type": "execute_result"
    }
   ],
   "source": [
    "'i am anc'.split()"
   ]
  },
  {
   "cell_type": "code",
   "execution_count": 275,
   "id": "2a5000d2-774a-4c6a-8c67-bd3e7c2f9043",
   "metadata": {},
   "outputs": [
    {
     "data": {
      "text/plain": [
       "['i am anc']"
      ]
     },
     "execution_count": 275,
     "metadata": {},
     "output_type": "execute_result"
    }
   ],
   "source": [
    "'i am anc'.split(',')"
   ]
  },
  {
   "cell_type": "code",
   "execution_count": 281,
   "id": "f4bf5ac4-69f3-4a29-82bd-fdfbd170e3d9",
   "metadata": {},
   "outputs": [
    {
     "data": {
      "text/plain": [
       "['i', 'am', 'anc']"
      ]
     },
     "execution_count": 281,
     "metadata": {},
     "output_type": "execute_result"
    }
   ],
   "source": [
    "'iabamabanc'.split('ab')"
   ]
  },
  {
   "cell_type": "code",
   "execution_count": 283,
   "id": "87f6f177-cec6-4d9d-a452-1afd244cd555",
   "metadata": {},
   "outputs": [
    {
     "data": {
      "text/plain": [
       "['', ' am anc']"
      ]
     },
     "execution_count": 283,
     "metadata": {},
     "output_type": "execute_result"
    }
   ],
   "source": [
    "'i am anc'.split('i')"
   ]
  },
  {
   "cell_type": "code",
   "execution_count": 289,
   "id": "7d07ff8a-9781-413d-b6f0-669f52b59a6f",
   "metadata": {},
   "outputs": [
    {
     "data": {
      "text/plain": [
       "['i', '', 'am', '', 'anc']"
      ]
     },
     "execution_count": 289,
     "metadata": {},
     "output_type": "execute_result"
    }
   ],
   "source": [
    "'i  am  anc'.split(' ')"
   ]
  },
  {
   "cell_type": "markdown",
   "id": "f8936e09-6e19-457d-80e9-f1367f871498",
   "metadata": {},
   "source": [
    "## rjust(),ljust(),center()"
   ]
  },
  {
   "cell_type": "code",
   "execution_count": 292,
   "id": "3d701b3e-03ae-4793-874c-c35b72c66785",
   "metadata": {},
   "outputs": [
    {
     "data": {
      "text/plain": [
       "'  i am anc'"
      ]
     },
     "execution_count": 292,
     "metadata": {},
     "output_type": "execute_result"
    }
   ],
   "source": [
    "'i am anc'.rjust(10)"
   ]
  },
  {
   "cell_type": "code",
   "execution_count": 294,
   "id": "7080a3ad-7fec-49b5-a73d-577fdac3cc6b",
   "metadata": {},
   "outputs": [
    {
     "data": {
      "text/plain": [
       "'i am anc  '"
      ]
     },
     "execution_count": 294,
     "metadata": {},
     "output_type": "execute_result"
    }
   ],
   "source": [
    "'i am anc'.ljust(10)"
   ]
  },
  {
   "cell_type": "code",
   "execution_count": 300,
   "id": "b81be532-60fd-42fe-95c9-1a5f25acba27",
   "metadata": {},
   "outputs": [
    {
     "data": {
      "text/plain": [
       "'      i am anc      '"
      ]
     },
     "execution_count": 300,
     "metadata": {},
     "output_type": "execute_result"
    }
   ],
   "source": [
    "'i am anc'.center(20)"
   ]
  },
  {
   "cell_type": "code",
   "execution_count": 302,
   "id": "75ab547c-0c81-41ec-ba09-77b87a78073a",
   "metadata": {},
   "outputs": [
    {
     "data": {
      "text/plain": [
       "'**i am anc'"
      ]
     },
     "execution_count": 302,
     "metadata": {},
     "output_type": "execute_result"
    }
   ],
   "source": [
    "'i am anc'.rjust(10,'*')"
   ]
  },
  {
   "cell_type": "code",
   "execution_count": 306,
   "id": "0606bd24-53ea-4810-8b66-7feb2b04eee5",
   "metadata": {},
   "outputs": [
    {
     "data": {
      "text/plain": [
       "'......i am anc......'"
      ]
     },
     "execution_count": 306,
     "metadata": {},
     "output_type": "execute_result"
    }
   ],
   "source": [
    "'i am anc'.center(20,'.')"
   ]
  },
  {
   "cell_type": "markdown",
   "id": "fcf4cccf-a475-4d8e-a2d5-83e19ff5e15b",
   "metadata": {},
   "source": [
    "## strip(),rstrip(),lstrip()"
   ]
  },
  {
   "cell_type": "code",
   "execution_count": 309,
   "id": "2669f6b2-cc8d-413f-99e1-c962b3cb941e",
   "metadata": {},
   "outputs": [
    {
     "data": {
      "text/plain": [
       "'i am anc'"
      ]
     },
     "execution_count": 309,
     "metadata": {},
     "output_type": "execute_result"
    }
   ],
   "source": [
    "abc=\"   i am anc    \"\n",
    "abc.strip()"
   ]
  },
  {
   "cell_type": "code",
   "execution_count": 311,
   "id": "12c3987f-9556-463c-af3b-c8e73f827d6f",
   "metadata": {},
   "outputs": [
    {
     "data": {
      "text/plain": [
       "'   i am anc'"
      ]
     },
     "execution_count": 311,
     "metadata": {},
     "output_type": "execute_result"
    }
   ],
   "source": [
    "abc.rstrip()"
   ]
  },
  {
   "cell_type": "code",
   "execution_count": 313,
   "id": "00538b59-2173-49d7-a134-37758c95ce36",
   "metadata": {},
   "outputs": [
    {
     "data": {
      "text/plain": [
       "'i am anc    '"
      ]
     },
     "execution_count": 313,
     "metadata": {},
     "output_type": "execute_result"
    }
   ],
   "source": [
    "abc.lstrip()"
   ]
  },
  {
   "cell_type": "markdown",
   "id": "b4ef5848-68a7-4013-ac1d-607735725be4",
   "metadata": {},
   "source": [
    "## count() and replace()"
   ]
  },
  {
   "cell_type": "code",
   "execution_count": 320,
   "id": "f8e79c59-1bd6-4044-b2b4-c206486982e9",
   "metadata": {},
   "outputs": [
    {
     "data": {
      "text/plain": [
       "3"
      ]
     },
     "execution_count": 320,
     "metadata": {},
     "output_type": "execute_result"
    }
   ],
   "source": [
    "a=\"13564767756\"\n",
    "a.count('7')"
   ]
  },
  {
   "cell_type": "code",
   "execution_count": 322,
   "id": "813cafb7-d88f-43bf-91a7-2a753d95cb8d",
   "metadata": {},
   "outputs": [
    {
     "data": {
      "text/plain": [
       "4"
      ]
     },
     "execution_count": 322,
     "metadata": {},
     "output_type": "execute_result"
    }
   ],
   "source": [
    "a1=\"you are the man of your words you are the man of your words\"\n",
    "a1.count('you')"
   ]
  },
  {
   "cell_type": "code",
   "execution_count": 324,
   "id": "055c573d-a8eb-4965-ad5c-e68e58385494",
   "metadata": {},
   "outputs": [
    {
     "data": {
      "text/plain": [
       "4"
      ]
     },
     "execution_count": 324,
     "metadata": {},
     "output_type": "execute_result"
    }
   ],
   "source": [
    "a1.count('a')"
   ]
  },
  {
   "cell_type": "code",
   "execution_count": 330,
   "id": "47e5619a-0f1c-4ef6-9e0b-823959122dd8",
   "metadata": {},
   "outputs": [
    {
     "data": {
      "text/plain": [
       "3"
      ]
     },
     "execution_count": 330,
     "metadata": {},
     "output_type": "execute_result"
    }
   ],
   "source": [
    "a1.count('a',5)"
   ]
  },
  {
   "cell_type": "code",
   "execution_count": 334,
   "id": "159dcfd1-3ce3-4faf-af7b-d9d3bd8e4d41",
   "metadata": {},
   "outputs": [
    {
     "data": {
      "text/plain": [
       "'we am anc'"
      ]
     },
     "execution_count": 334,
     "metadata": {},
     "output_type": "execute_result"
    }
   ],
   "source": [
    "a2=\"i am anc\"\n",
    "a2.replace('i',\"we\")"
   ]
  },
  {
   "cell_type": "code",
   "execution_count": 344,
   "id": "a7f3ce43-0531-408e-a75b-54ba0e31905b",
   "metadata": {},
   "outputs": [
    {
     "data": {
      "text/plain": [
       "'bc bc ca ab bc ca'"
      ]
     },
     "execution_count": 344,
     "metadata": {},
     "output_type": "execute_result"
    }
   ],
   "source": [
    "a3=\"ab bc ca ab bc ca\"\n",
    "a3.replace(\"ab\",\"bc\",1)"
   ]
  },
  {
   "cell_type": "code",
   "execution_count": null,
   "id": "c03fbdff-449f-48ec-93ec-468ec6a3804d",
   "metadata": {},
   "outputs": [],
   "source": []
  }
 ],
 "metadata": {
  "kernelspec": {
   "display_name": "Python 3 (ipykernel)",
   "language": "python",
   "name": "python3"
  },
  "language_info": {
   "codemirror_mode": {
    "name": "ipython",
    "version": 3
   },
   "file_extension": ".py",
   "mimetype": "text/x-python",
   "name": "python",
   "nbconvert_exporter": "python",
   "pygments_lexer": "ipython3",
   "version": "3.12.7"
  }
 },
 "nbformat": 4,
 "nbformat_minor": 5
}

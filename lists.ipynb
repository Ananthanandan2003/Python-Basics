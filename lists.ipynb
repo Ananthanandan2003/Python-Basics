{
 "cells": [
  {
   "cell_type": "markdown",
   "id": "cf3685af-d626-464b-9771-ca6ee5c8a7f5",
   "metadata": {},
   "source": [
    "## list creation\n",
    "\n"
   ]
  },
  {
   "cell_type": "code",
   "execution_count": 2,
   "id": "ad000ca8-c45c-4cd7-a622-6a5acaec53e4",
   "metadata": {},
   "outputs": [],
   "source": [
    "l1=[]"
   ]
  },
  {
   "cell_type": "code",
   "execution_count": 3,
   "id": "7b12cefe-723a-4304-bcca-ad852c9030de",
   "metadata": {},
   "outputs": [
    {
     "name": "stdout",
     "output_type": "stream",
     "text": [
      "<class 'list'>\n"
     ]
    }
   ],
   "source": [
    "print(type(l1))"
   ]
  },
  {
   "cell_type": "code",
   "execution_count": 4,
   "id": "83857f3f-2a54-49d1-bf2d-d7f03c1bdfb9",
   "metadata": {},
   "outputs": [],
   "source": [
    "l2=[1,2,3]"
   ]
  },
  {
   "cell_type": "code",
   "execution_count": 5,
   "id": "936d3171-8071-427c-839b-da0e6b3c6df1",
   "metadata": {},
   "outputs": [],
   "source": [
    "l3=[1.5,2.345,3.42]"
   ]
  },
  {
   "cell_type": "code",
   "execution_count": 6,
   "id": "584f5c48-a582-4dfc-8a1d-694a3492fbfd",
   "metadata": {},
   "outputs": [],
   "source": [
    "l4=['a','b','c']"
   ]
  },
  {
   "cell_type": "code",
   "execution_count": 7,
   "id": "97ad754e-4abc-48ca-a143-564bc8449a52",
   "metadata": {},
   "outputs": [],
   "source": [
    "l5=[1,1.25,'anc',[10,20]]"
   ]
  },
  {
   "cell_type": "code",
   "execution_count": 8,
   "id": "ee8636e9-d7f0-4cac-88bf-e3e9b941f963",
   "metadata": {},
   "outputs": [],
   "source": [
    "l6=['anc',25,{'abc','hello'}]"
   ]
  },
  {
   "cell_type": "code",
   "execution_count": 9,
   "id": "3d13a75d-97df-4fc9-a0a6-e5de32cfeced",
   "metadata": {},
   "outputs": [
    {
     "data": {
      "text/plain": [
       "4"
      ]
     },
     "execution_count": 9,
     "metadata": {},
     "output_type": "execute_result"
    }
   ],
   "source": [
    "len(l5)"
   ]
  },
  {
   "cell_type": "code",
   "execution_count": 10,
   "id": "25c00349-455c-4d1f-b0d6-064e596fd8e1",
   "metadata": {},
   "outputs": [
    {
     "data": {
      "text/plain": [
       "3"
      ]
     },
     "execution_count": 10,
     "metadata": {},
     "output_type": "execute_result"
    }
   ],
   "source": [
    "len(l6)"
   ]
  },
  {
   "cell_type": "markdown",
   "id": "a17fa870-a878-4a57-b7f5-1d08461f3930",
   "metadata": {},
   "source": [
    "## list indexing\n"
   ]
  },
  {
   "cell_type": "code",
   "execution_count": 12,
   "id": "a4b01766-c7d6-4af5-bdec-f926c0b70a83",
   "metadata": {},
   "outputs": [
    {
     "data": {
      "text/plain": [
       "1.5"
      ]
     },
     "execution_count": 12,
     "metadata": {},
     "output_type": "execute_result"
    }
   ],
   "source": [
    "l3[0]"
   ]
  },
  {
   "cell_type": "code",
   "execution_count": 13,
   "id": "dbfcd01e-33ed-41f6-b469-3999f47c4dfd",
   "metadata": {},
   "outputs": [
    {
     "data": {
      "text/plain": [
       "'anc'"
      ]
     },
     "execution_count": 13,
     "metadata": {},
     "output_type": "execute_result"
    }
   ],
   "source": [
    "l6[0]"
   ]
  },
  {
   "cell_type": "code",
   "execution_count": 14,
   "id": "584c776b-28b2-456f-b882-da0c0eb5c9d4",
   "metadata": {},
   "outputs": [
    {
     "data": {
      "text/plain": [
       "'c'"
      ]
     },
     "execution_count": 14,
     "metadata": {},
     "output_type": "execute_result"
    }
   ],
   "source": [
    "l6[0][2]"
   ]
  },
  {
   "cell_type": "code",
   "execution_count": 15,
   "id": "cc761bcf-be73-44b1-b52a-6ca036a43541",
   "metadata": {},
   "outputs": [
    {
     "data": {
      "text/plain": [
       "[10, 20]"
      ]
     },
     "execution_count": 15,
     "metadata": {},
     "output_type": "execute_result"
    }
   ],
   "source": [
    "l5[-1]"
   ]
  },
  {
   "cell_type": "markdown",
   "id": "195b9045-1677-4575-82bc-ef2dfff9e886",
   "metadata": {},
   "source": [
    "## list slicing"
   ]
  },
  {
   "cell_type": "code",
   "execution_count": 17,
   "id": "015f061b-d1a7-4725-8063-93176e7e64eb",
   "metadata": {},
   "outputs": [],
   "source": [
    "l1_=['a','b','c','d','e','f','g','h']"
   ]
  },
  {
   "cell_type": "code",
   "execution_count": 18,
   "id": "622dae70-e31d-44d0-9ba6-41a3e0b422fd",
   "metadata": {},
   "outputs": [
    {
     "data": {
      "text/plain": [
       "['a', 'b', 'c', 'd']"
      ]
     },
     "execution_count": 18,
     "metadata": {},
     "output_type": "execute_result"
    }
   ],
   "source": [
    "l1_[0:4]"
   ]
  },
  {
   "cell_type": "code",
   "execution_count": 19,
   "id": "bf2e215b-394f-4259-baab-1d9b021bc074",
   "metadata": {},
   "outputs": [
    {
     "data": {
      "text/plain": [
       "['c', 'd', 'e', 'f', 'g']"
      ]
     },
     "execution_count": 19,
     "metadata": {},
     "output_type": "execute_result"
    }
   ],
   "source": [
    "l1_[2:7]"
   ]
  },
  {
   "cell_type": "code",
   "execution_count": 20,
   "id": "8d94ae0b-6247-4616-8469-d0c70fed14cd",
   "metadata": {},
   "outputs": [
    {
     "data": {
      "text/plain": [
       "['a', 'b']"
      ]
     },
     "execution_count": 20,
     "metadata": {},
     "output_type": "execute_result"
    }
   ],
   "source": [
    "l1_[:2]"
   ]
  },
  {
   "cell_type": "code",
   "execution_count": 21,
   "id": "6865acf5-1d80-41f7-b625-83ca26267458",
   "metadata": {},
   "outputs": [
    {
     "data": {
      "text/plain": [
       "['a', 'b', 'c', 'd', 'e', 'f', 'g', 'h']"
      ]
     },
     "execution_count": 21,
     "metadata": {},
     "output_type": "execute_result"
    }
   ],
   "source": [
    "l1_[:]"
   ]
  },
  {
   "cell_type": "code",
   "execution_count": 22,
   "id": "5bceaae5-4db3-4ce6-9a40-3e5b955f58a2",
   "metadata": {},
   "outputs": [
    {
     "data": {
      "text/plain": [
       "['f', 'g', 'h']"
      ]
     },
     "execution_count": 22,
     "metadata": {},
     "output_type": "execute_result"
    }
   ],
   "source": [
    "l1_[-3:]"
   ]
  },
  {
   "cell_type": "code",
   "execution_count": 23,
   "id": "f124a6c3-eb52-4647-a6fd-8e015b74b25a",
   "metadata": {},
   "outputs": [
    {
     "data": {
      "text/plain": [
       "['e', 'f', 'g']"
      ]
     },
     "execution_count": 23,
     "metadata": {},
     "output_type": "execute_result"
    }
   ],
   "source": [
    "l1_[-4:-1]"
   ]
  },
  {
   "cell_type": "markdown",
   "id": "9fa613c9-9eff-42fc-8059-1fffbce474c6",
   "metadata": {},
   "source": [
    "## add,remove,change items"
   ]
  },
  {
   "cell_type": "code",
   "execution_count": 25,
   "id": "bf12e8fc-ce02-4399-8edc-b5e4647be3ec",
   "metadata": {},
   "outputs": [
    {
     "data": {
      "text/plain": [
       "['a', 'b', 'c', 'd', 'e', 'f', 'g', 'h']"
      ]
     },
     "execution_count": 25,
     "metadata": {},
     "output_type": "execute_result"
    }
   ],
   "source": [
    "l1_"
   ]
  },
  {
   "cell_type": "code",
   "execution_count": 26,
   "id": "77d2a466-7af7-49a7-af71-d6e31a618ade",
   "metadata": {},
   "outputs": [
    {
     "data": {
      "text/plain": [
       "['a', 'b', 'c', 'd', 'e', 'f', 'g', 'h', 'abc']"
      ]
     },
     "execution_count": 26,
     "metadata": {},
     "output_type": "execute_result"
    }
   ],
   "source": [
    "l1_.append('abc')\n",
    "l1_"
   ]
  },
  {
   "cell_type": "code",
   "execution_count": 27,
   "id": "28dacec1-1ece-42e8-9968-45eb066a3e2e",
   "metadata": {},
   "outputs": [
    {
     "data": {
      "text/plain": [
       "['a', 'b', 'c', 'd', 'e', 'xyz', 'f', 'g', 'h', 'abc']"
      ]
     },
     "execution_count": 27,
     "metadata": {},
     "output_type": "execute_result"
    }
   ],
   "source": [
    "l1_.insert(5,'xyz')\n",
    "l1_"
   ]
  },
  {
   "cell_type": "code",
   "execution_count": 28,
   "id": "04079784-af55-4a6d-8946-11fe1c9e2191",
   "metadata": {},
   "outputs": [
    {
     "data": {
      "text/plain": [
       "['a', 'b', 'c', 'd', 'xyz', 'f', 'g', 'h', 'abc']"
      ]
     },
     "execution_count": 28,
     "metadata": {},
     "output_type": "execute_result"
    }
   ],
   "source": [
    "l1_.remove('e')\n",
    "l1_"
   ]
  },
  {
   "cell_type": "code",
   "execution_count": 29,
   "id": "76d4dec1-86f6-439c-ab65-64c3b6923c81",
   "metadata": {},
   "outputs": [
    {
     "data": {
      "text/plain": [
       "['a', 'b', 'c', 'd', 'xyz', 'f', 'g', 'h']"
      ]
     },
     "execution_count": 29,
     "metadata": {},
     "output_type": "execute_result"
    }
   ],
   "source": [
    "l1_.pop()\n",
    "l1_"
   ]
  },
  {
   "cell_type": "code",
   "execution_count": 30,
   "id": "4beca2b3-c8e1-4dca-b6b8-af2fec51b80c",
   "metadata": {},
   "outputs": [
    {
     "data": {
      "text/plain": [
       "['a', 'b', 'c', 'xyz', 'f', 'g', 'h']"
      ]
     },
     "execution_count": 30,
     "metadata": {},
     "output_type": "execute_result"
    }
   ],
   "source": [
    "l1_.pop(3)\n",
    "l1_"
   ]
  },
  {
   "cell_type": "code",
   "execution_count": 31,
   "id": "e94a080a-c1eb-4c7f-bd06-75b1983092a5",
   "metadata": {},
   "outputs": [],
   "source": [
    "del l1_[6]"
   ]
  },
  {
   "cell_type": "code",
   "execution_count": 32,
   "id": "d229d2d6-0b8f-482d-a511-7c7eb6f91af0",
   "metadata": {},
   "outputs": [
    {
     "data": {
      "text/plain": [
       "['a', 'b', 'c', 'xyz', 'f', 'g']"
      ]
     },
     "execution_count": 32,
     "metadata": {},
     "output_type": "execute_result"
    }
   ],
   "source": [
    "l1_"
   ]
  },
  {
   "cell_type": "code",
   "execution_count": 33,
   "id": "78f48993-6325-4210-aa9e-2accbf1ee99b",
   "metadata": {},
   "outputs": [
    {
     "data": {
      "text/plain": [
       "[3, 'b', 'c', 'xyz', 'f', 'g']"
      ]
     },
     "execution_count": 33,
     "metadata": {},
     "output_type": "execute_result"
    }
   ],
   "source": [
    "l1_[0]=3\n",
    "l1_"
   ]
  },
  {
   "cell_type": "code",
   "execution_count": 34,
   "id": "aa786354-0ff2-4489-ae1d-314d52850871",
   "metadata": {},
   "outputs": [
    {
     "data": {
      "text/plain": [
       "[]"
      ]
     },
     "execution_count": 34,
     "metadata": {},
     "output_type": "execute_result"
    }
   ],
   "source": [
    "l1_.clear()\n",
    "l1_"
   ]
  },
  {
   "cell_type": "code",
   "execution_count": 35,
   "id": "12f52fda-ba07-4c21-8b18-6112bb12ba4d",
   "metadata": {},
   "outputs": [
    {
     "ename": "NameError",
     "evalue": "name 'l1_' is not defined",
     "output_type": "error",
     "traceback": [
      "\u001b[1;31m---------------------------------------------------------------------------\u001b[0m",
      "\u001b[1;31mNameError\u001b[0m                                 Traceback (most recent call last)",
      "Cell \u001b[1;32mIn[35], line 2\u001b[0m\n\u001b[0;32m      1\u001b[0m \u001b[38;5;28;01mdel\u001b[39;00m l1_\n\u001b[1;32m----> 2\u001b[0m l1_\n",
      "\u001b[1;31mNameError\u001b[0m: name 'l1_' is not defined"
     ]
    }
   ],
   "source": [
    "del l1_\n",
    "l1_"
   ]
  },
  {
   "cell_type": "markdown",
   "id": "3d8f5436-6ba2-4942-947c-4c926bc376f3",
   "metadata": {},
   "source": [
    "## copy list"
   ]
  },
  {
   "cell_type": "code",
   "execution_count": 36,
   "id": "975933cc-b031-4534-93f8-f2caa5ab5a9c",
   "metadata": {},
   "outputs": [],
   "source": [
    "ab=[1,'abc','bca',[1,6],3,5,1+2j]"
   ]
  },
  {
   "cell_type": "code",
   "execution_count": 38,
   "id": "d9d6cc92-6db2-4cbe-81dd-5ca473fcdfef",
   "metadata": {},
   "outputs": [
    {
     "data": {
      "text/plain": [
       "[1, 'abc', 'bca', [1, 6], 3, 5, (1+2j)]"
      ]
     },
     "execution_count": 38,
     "metadata": {},
     "output_type": "execute_result"
    }
   ],
   "source": [
    "bc=ab.copy()\n",
    "bc"
   ]
  },
  {
   "cell_type": "code",
   "execution_count": 40,
   "id": "50eb1c7b-3fd0-40af-a2fd-ed5ebf35b654",
   "metadata": {},
   "outputs": [
    {
     "data": {
      "text/plain": [
       "2247949722496"
      ]
     },
     "execution_count": 40,
     "metadata": {},
     "output_type": "execute_result"
    }
   ],
   "source": [
    "id(ab)"
   ]
  },
  {
   "cell_type": "code",
   "execution_count": 42,
   "id": "8efa7596-6255-441e-ac44-dd33afef1291",
   "metadata": {},
   "outputs": [
    {
     "data": {
      "text/plain": [
       "2247935451584"
      ]
     },
     "execution_count": 42,
     "metadata": {},
     "output_type": "execute_result"
    }
   ],
   "source": [
    "id(bc)"
   ]
  },
  {
   "cell_type": "markdown",
   "id": "58c9dc85-0a1e-41a4-92a7-d8cc1e2dbbca",
   "metadata": {},
   "source": [
    "## join list"
   ]
  },
  {
   "cell_type": "code",
   "execution_count": 44,
   "id": "3b063bfd-2997-48f6-a14a-b331a1888c3e",
   "metadata": {},
   "outputs": [
    {
     "data": {
      "text/plain": [
       "[1, 'abc', 'bca', [1, 6], 3, 5, (1+2j)]"
      ]
     },
     "execution_count": 44,
     "metadata": {},
     "output_type": "execute_result"
    }
   ],
   "source": [
    "ab"
   ]
  },
  {
   "cell_type": "code",
   "execution_count": 46,
   "id": "77b8cb96-dd13-40a3-8e24-697e53d6d220",
   "metadata": {},
   "outputs": [
    {
     "data": {
      "text/plain": [
       "[1, 2, 3, 4]"
      ]
     },
     "execution_count": 46,
     "metadata": {},
     "output_type": "execute_result"
    }
   ],
   "source": [
    "ca=[1,2,3,4]\n",
    "ca"
   ]
  },
  {
   "cell_type": "code",
   "execution_count": 48,
   "id": "eaa11f1b-6f6e-4569-b2e7-d5c775b5a5b2",
   "metadata": {},
   "outputs": [
    {
     "data": {
      "text/plain": [
       "[1, 'abc', 'bca', [1, 6], 3, 5, (1+2j), 1, 2, 3, 4]"
      ]
     },
     "execution_count": 48,
     "metadata": {},
     "output_type": "execute_result"
    }
   ],
   "source": [
    "dc=ab+ca\n",
    "dc"
   ]
  },
  {
   "cell_type": "code",
   "execution_count": 50,
   "id": "049dc66d-53b8-4ab7-8fbc-e1b6c74bfc6e",
   "metadata": {},
   "outputs": [
    {
     "data": {
      "text/plain": [
       "[1, 'abc', 'bca', [1, 6], 3, 5, (1+2j), 1, 2, 3, 4]"
      ]
     },
     "execution_count": 50,
     "metadata": {},
     "output_type": "execute_result"
    }
   ],
   "source": [
    "ab.extend(ca)\n",
    "ab"
   ]
  },
  {
   "cell_type": "markdown",
   "id": "4ebd47b8-7cdc-4204-bd5a-94f10b76c9c2",
   "metadata": {},
   "source": [
    "## list membership"
   ]
  },
  {
   "cell_type": "code",
   "execution_count": 52,
   "id": "319d7b4a-9199-4aac-88b9-aaeb209d2f82",
   "metadata": {},
   "outputs": [
    {
     "data": {
      "text/plain": [
       "[1, 'abc', 'bca', [1, 6], 3, 5, (1+2j), 1, 2, 3, 4]"
      ]
     },
     "execution_count": 52,
     "metadata": {},
     "output_type": "execute_result"
    }
   ],
   "source": [
    "ab"
   ]
  },
  {
   "cell_type": "code",
   "execution_count": 56,
   "id": "03433810-d612-4094-8fc6-8c2998d2432d",
   "metadata": {},
   "outputs": [
    {
     "data": {
      "text/plain": [
       "True"
      ]
     },
     "execution_count": 56,
     "metadata": {},
     "output_type": "execute_result"
    }
   ],
   "source": [
    "'abc' in ab"
   ]
  },
  {
   "cell_type": "code",
   "execution_count": 58,
   "id": "e525730d-9ffe-4e29-b91e-552655dfccde",
   "metadata": {},
   "outputs": [
    {
     "data": {
      "text/plain": [
       "True"
      ]
     },
     "execution_count": 58,
     "metadata": {},
     "output_type": "execute_result"
    }
   ],
   "source": [
    "1 in ab"
   ]
  },
  {
   "cell_type": "code",
   "execution_count": 60,
   "id": "0f684b4b-0517-4ae9-8212-7a18830e9100",
   "metadata": {},
   "outputs": [
    {
     "data": {
      "text/plain": [
       "False"
      ]
     },
     "execution_count": 60,
     "metadata": {},
     "output_type": "execute_result"
    }
   ],
   "source": [
    "7 in ab"
   ]
  },
  {
   "cell_type": "code",
   "execution_count": 68,
   "id": "454ea6fd-3daf-4409-8d96-bd2a53347891",
   "metadata": {},
   "outputs": [
    {
     "name": "stdout",
     "output_type": "stream",
     "text": [
      "True\n"
     ]
    }
   ],
   "source": [
    "if 1 in ab:\n",
    "    print (True)\n",
    "else:\n",
    "    print(False)\n"
   ]
  },
  {
   "cell_type": "code",
   "execution_count": 70,
   "id": "1099cecb-6b95-4951-89e2-c2f7184d822a",
   "metadata": {},
   "outputs": [
    {
     "name": "stdout",
     "output_type": "stream",
     "text": [
      "False\n"
     ]
    }
   ],
   "source": [
    "if 7 in ab:\n",
    "    print(True)\n",
    "else:\n",
    "    print(False)\n",
    "    "
   ]
  },
  {
   "cell_type": "markdown",
   "id": "cca7f43b-bdc0-4821-a14e-453ee8beb128",
   "metadata": {},
   "source": [
    "## reverse and sort list"
   ]
  },
  {
   "cell_type": "code",
   "execution_count": 73,
   "id": "659e7ae8-5414-4994-8ed4-b5cc8023e9aa",
   "metadata": {},
   "outputs": [
    {
     "data": {
      "text/plain": [
       "[1, 'abc', 'bca', [1, 6], 3, 5, (1+2j), 1, 2, 3, 4]"
      ]
     },
     "execution_count": 73,
     "metadata": {},
     "output_type": "execute_result"
    }
   ],
   "source": [
    "ab"
   ]
  },
  {
   "cell_type": "code",
   "execution_count": 75,
   "id": "641d2ee0-f6f2-4ef4-bd87-37faab9c39b5",
   "metadata": {},
   "outputs": [
    {
     "data": {
      "text/plain": [
       "[4, 3, 2, 1, (1+2j), 5, 3, [1, 6], 'bca', 'abc', 1]"
      ]
     },
     "execution_count": 75,
     "metadata": {},
     "output_type": "execute_result"
    }
   ],
   "source": [
    "ab.reverse()\n",
    "ab"
   ]
  },
  {
   "cell_type": "code",
   "execution_count": 77,
   "id": "16a864cc-d7ca-4f52-8d89-6dd42a016339",
   "metadata": {},
   "outputs": [
    {
     "data": {
      "text/plain": [
       "[1, 'abc', 'bca', [1, 6], 3, 5, (1+2j), 1, 2, 3, 4]"
      ]
     },
     "execution_count": 77,
     "metadata": {},
     "output_type": "execute_result"
    }
   ],
   "source": [
    "ab[::-1]"
   ]
  },
  {
   "cell_type": "code",
   "execution_count": 79,
   "id": "13becab0-77f8-4bd2-98d8-35d94d844862",
   "metadata": {},
   "outputs": [
    {
     "data": {
      "text/plain": [
       "[5, 95, 77, 4444, 888]"
      ]
     },
     "execution_count": 79,
     "metadata": {},
     "output_type": "execute_result"
    }
   ],
   "source": [
    "s1=[5,95,77,4444,888]\n",
    "s1"
   ]
  },
  {
   "cell_type": "code",
   "execution_count": 81,
   "id": "18454571-45b9-4efb-8036-375304a18d92",
   "metadata": {},
   "outputs": [],
   "source": [
    "s1.sort()"
   ]
  },
  {
   "cell_type": "code",
   "execution_count": 83,
   "id": "84fb475e-7cdb-45dd-9929-8c0b7ba87ff3",
   "metadata": {},
   "outputs": [
    {
     "data": {
      "text/plain": [
       "[5, 77, 95, 888, 4444]"
      ]
     },
     "execution_count": 83,
     "metadata": {},
     "output_type": "execute_result"
    }
   ],
   "source": [
    "s1"
   ]
  },
  {
   "cell_type": "code",
   "execution_count": 85,
   "id": "2b1f8726-7590-4504-bc99-f94879773f72",
   "metadata": {},
   "outputs": [
    {
     "data": {
      "text/plain": [
       "[4444, 888, 95, 77, 5]"
      ]
     },
     "execution_count": 85,
     "metadata": {},
     "output_type": "execute_result"
    }
   ],
   "source": [
    "s1.sort(reverse=True)\n",
    "s1"
   ]
  },
  {
   "cell_type": "code",
   "execution_count": 87,
   "id": "9d03e3c0-6bba-4766-bc7b-6a5341a49d14",
   "metadata": {},
   "outputs": [
    {
     "data": {
      "text/plain": [
       "[4444, 888, 95, 77, 5]"
      ]
     },
     "execution_count": 87,
     "metadata": {},
     "output_type": "execute_result"
    }
   ],
   "source": [
    "s1"
   ]
  },
  {
   "cell_type": "code",
   "execution_count": 89,
   "id": "0a2f04f5-834e-444d-a794-58fa5c262f97",
   "metadata": {},
   "outputs": [
    {
     "data": {
      "text/plain": [
       "[5, 77, 95, 888, 4444]"
      ]
     },
     "execution_count": 89,
     "metadata": {},
     "output_type": "execute_result"
    }
   ],
   "source": [
    "sorted(s1)"
   ]
  },
  {
   "cell_type": "code",
   "execution_count": 91,
   "id": "e286c0ca-6f0d-4afc-bef7-e1b9a024bb5e",
   "metadata": {},
   "outputs": [
    {
     "data": {
      "text/plain": [
       "[4444, 888, 95, 77, 5]"
      ]
     },
     "execution_count": 91,
     "metadata": {},
     "output_type": "execute_result"
    }
   ],
   "source": [
    "s1"
   ]
  },
  {
   "cell_type": "markdown",
   "id": "070a959b-e602-4778-aa8c-ef7c1f615f0a",
   "metadata": {},
   "source": [
    "## loop through a list"
   ]
  },
  {
   "cell_type": "code",
   "execution_count": 96,
   "id": "4d5d8bb5-d4e3-40b5-b561-52fb3c1b4038",
   "metadata": {},
   "outputs": [
    {
     "data": {
      "text/plain": [
       "[4444, 888, 95, 77, 5]"
      ]
     },
     "execution_count": 96,
     "metadata": {},
     "output_type": "execute_result"
    }
   ],
   "source": [
    "s1"
   ]
  },
  {
   "cell_type": "code",
   "execution_count": 98,
   "id": "51fc156c-96cf-449a-b715-9e8808897673",
   "metadata": {},
   "outputs": [
    {
     "name": "stdout",
     "output_type": "stream",
     "text": [
      "4444\n",
      "888\n",
      "95\n",
      "77\n",
      "5\n"
     ]
    }
   ],
   "source": [
    "for i in s1:\n",
    "    print(i)"
   ]
  },
  {
   "cell_type": "code",
   "execution_count": 102,
   "id": "c8f3605c-4bfc-4bac-bf41-58356685788b",
   "metadata": {},
   "outputs": [
    {
     "name": "stdout",
     "output_type": "stream",
     "text": [
      "(0, 4444)\n",
      "(1, 888)\n",
      "(2, 95)\n",
      "(3, 77)\n",
      "(4, 5)\n"
     ]
    }
   ],
   "source": [
    "for i in enumerate(s1):\n",
    "    print(i)"
   ]
  },
  {
   "cell_type": "markdown",
   "id": "b5b06beb-c8d3-4866-bb62-3ee8acc931fd",
   "metadata": {},
   "source": [
    "## count"
   ]
  },
  {
   "cell_type": "code",
   "execution_count": 105,
   "id": "a73975d7-e8e0-4480-8421-6cdda166e1a7",
   "metadata": {},
   "outputs": [
    {
     "data": {
      "text/plain": [
       "[4, 3, 2, 1, (1+2j), 5, 3, [1, 6], 'bca', 'abc', 1]"
      ]
     },
     "execution_count": 105,
     "metadata": {},
     "output_type": "execute_result"
    }
   ],
   "source": [
    "ab"
   ]
  },
  {
   "cell_type": "code",
   "execution_count": 109,
   "id": "57887991-018a-4994-86a4-97b2f467af24",
   "metadata": {},
   "outputs": [
    {
     "data": {
      "text/plain": [
       "2"
      ]
     },
     "execution_count": 109,
     "metadata": {},
     "output_type": "execute_result"
    }
   ],
   "source": [
    "ab.count(1)\n"
   ]
  },
  {
   "cell_type": "code",
   "execution_count": 111,
   "id": "0dec0f7a-dce3-431e-84c8-1cc1030586a9",
   "metadata": {},
   "outputs": [
    {
     "data": {
      "text/plain": [
       "2"
      ]
     },
     "execution_count": 111,
     "metadata": {},
     "output_type": "execute_result"
    }
   ],
   "source": [
    "ab.count(3)"
   ]
  },
  {
   "cell_type": "code",
   "execution_count": 113,
   "id": "5ee056f6-9cf7-4b2d-9246-43bd4c292e59",
   "metadata": {},
   "outputs": [
    {
     "data": {
      "text/plain": [
       "0"
      ]
     },
     "execution_count": 113,
     "metadata": {},
     "output_type": "execute_result"
    }
   ],
   "source": [
    "ab.count(9)"
   ]
  },
  {
   "cell_type": "markdown",
   "id": "24243e72-a7a1-42be-8b54-fc47444f94b6",
   "metadata": {},
   "source": [
    "## all/any"
   ]
  },
  {
   "cell_type": "code",
   "execution_count": 116,
   "id": "954f698a-7470-4f63-8680-a4199847062c",
   "metadata": {},
   "outputs": [
    {
     "data": {
      "text/plain": [
       "[4444, 888, 95, 77, 5]"
      ]
     },
     "execution_count": 116,
     "metadata": {},
     "output_type": "execute_result"
    }
   ],
   "source": [
    "s1"
   ]
  },
  {
   "cell_type": "code",
   "execution_count": 118,
   "id": "5c6050e7-2c25-4e82-b5e1-0b4c818ed6c6",
   "metadata": {},
   "outputs": [
    {
     "data": {
      "text/plain": [
       "True"
      ]
     },
     "execution_count": 118,
     "metadata": {},
     "output_type": "execute_result"
    }
   ],
   "source": [
    "all(s1)"
   ]
  },
  {
   "cell_type": "code",
   "execution_count": 132,
   "id": "02148ed2-f119-4ebf-bc54-63d4e726ae3f",
   "metadata": {},
   "outputs": [
    {
     "data": {
      "text/plain": [
       "False"
      ]
     },
     "execution_count": 132,
     "metadata": {},
     "output_type": "execute_result"
    }
   ],
   "source": [
    "s2=[1,2,0,5, True]\n",
    "all(s2)"
   ]
  },
  {
   "cell_type": "code",
   "execution_count": 126,
   "id": "abbbd888-81cc-415a-9636-49d77b06a9ce",
   "metadata": {},
   "outputs": [
    {
     "data": {
      "text/plain": [
       "True"
      ]
     },
     "execution_count": 126,
     "metadata": {},
     "output_type": "execute_result"
    }
   ],
   "source": [
    "s3=[1,3,4,True,False,0]\n",
    "any(s3)"
   ]
  },
  {
   "cell_type": "code",
   "execution_count": 128,
   "id": "15bfa551-d998-4c90-91c9-c185a2396474",
   "metadata": {},
   "outputs": [
    {
     "data": {
      "text/plain": [
       "False"
      ]
     },
     "execution_count": 128,
     "metadata": {},
     "output_type": "execute_result"
    }
   ],
   "source": [
    "all(s3)"
   ]
  },
  {
   "cell_type": "code",
   "execution_count": 130,
   "id": "e14db5df-8eab-47c7-ab9a-5be5d7a14725",
   "metadata": {},
   "outputs": [
    {
     "data": {
      "text/plain": [
       "False"
      ]
     },
     "execution_count": 130,
     "metadata": {},
     "output_type": "execute_result"
    }
   ],
   "source": [
    "s4=[1,3,4,False]\n",
    "all(s4)"
   ]
  },
  {
   "cell_type": "code",
   "execution_count": 134,
   "id": "f7415380-dbdc-4e7a-804f-50ae92a85be5",
   "metadata": {},
   "outputs": [
    {
     "data": {
      "text/plain": [
       "True"
      ]
     },
     "execution_count": 134,
     "metadata": {},
     "output_type": "execute_result"
    }
   ],
   "source": [
    "any(s4)"
   ]
  },
  {
   "cell_type": "code",
   "execution_count": null,
   "id": "846d4d46-cf90-4cd5-862a-b9f437cd5511",
   "metadata": {},
   "outputs": [],
   "source": []
  }
 ],
 "metadata": {
  "kernelspec": {
   "display_name": "Python 3 (ipykernel)",
   "language": "python",
   "name": "python3"
  },
  "language_info": {
   "codemirror_mode": {
    "name": "ipython",
    "version": 3
   },
   "file_extension": ".py",
   "mimetype": "text/x-python",
   "name": "python",
   "nbconvert_exporter": "python",
   "pygments_lexer": "ipython3",
   "version": "3.12.7"
  }
 },
 "nbformat": 4,
 "nbformat_minor": 5
}

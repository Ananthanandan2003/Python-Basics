{
 "cells": [
  {
   "cell_type": "markdown",
   "id": "74981cea-0794-4948-b163-bf2fa615fe00",
   "metadata": {},
   "source": [
    "# TYPE CASTING"
   ]
  },
  {
   "cell_type": "markdown",
   "id": "deba0f45-3aa7-410c-9a68-ffe5fccfa837",
   "metadata": {},
   "source": [
    "## 1. type cast from other datatype to integer"
   ]
  },
  {
   "cell_type": "code",
   "execution_count": 8,
   "id": "b878186d-5e78-4658-aaa5-c79594e240b9",
   "metadata": {},
   "outputs": [
    {
     "data": {
      "text/plain": [
       "112"
      ]
     },
     "execution_count": 8,
     "metadata": {},
     "output_type": "execute_result"
    }
   ],
   "source": [
    "int(112.21)"
   ]
  },
  {
   "cell_type": "code",
   "execution_count": 12,
   "id": "8cc3f5aa-686a-4cf2-b5d5-4af4fbfafbee",
   "metadata": {},
   "outputs": [
    {
     "data": {
      "text/plain": [
       "1"
      ]
     },
     "execution_count": 12,
     "metadata": {},
     "output_type": "execute_result"
    }
   ],
   "source": [
    "int(True)"
   ]
  },
  {
   "cell_type": "code",
   "execution_count": 14,
   "id": "4335740b-63fa-4ffe-9bec-a88e7b0ace72",
   "metadata": {},
   "outputs": [
    {
     "data": {
      "text/plain": [
       "0"
      ]
     },
     "execution_count": 14,
     "metadata": {},
     "output_type": "execute_result"
    }
   ],
   "source": [
    "int(False)"
   ]
  },
  {
   "cell_type": "code",
   "execution_count": 16,
   "id": "ef5393aa-9c1f-4b52-a5d7-b63366bd6bd5",
   "metadata": {},
   "outputs": [
    {
     "data": {
      "text/plain": [
       "10"
      ]
     },
     "execution_count": 16,
     "metadata": {},
     "output_type": "execute_result"
    }
   ],
   "source": [
    "int('10')"
   ]
  },
  {
   "cell_type": "code",
   "execution_count": 18,
   "id": "8577b91b-5989-4c7c-8220-3cc32bbd7933",
   "metadata": {},
   "outputs": [
    {
     "ename": "ValueError",
     "evalue": "invalid literal for int() with base 10: 'in'",
     "output_type": "error",
     "traceback": [
      "\u001b[1;31m---------------------------------------------------------------------------\u001b[0m",
      "\u001b[1;31mValueError\u001b[0m                                Traceback (most recent call last)",
      "Cell \u001b[1;32mIn[18], line 1\u001b[0m\n\u001b[1;32m----> 1\u001b[0m \u001b[38;5;28mint\u001b[39m(\u001b[38;5;124m'\u001b[39m\u001b[38;5;124min\u001b[39m\u001b[38;5;124m'\u001b[39m)\n",
      "\u001b[1;31mValueError\u001b[0m: invalid literal for int() with base 10: 'in'"
     ]
    }
   ],
   "source": [
    "int('in')"
   ]
  },
  {
   "cell_type": "code",
   "execution_count": 22,
   "id": "6a034501-279c-4bf0-965f-bed94d3134d2",
   "metadata": {},
   "outputs": [
    {
     "ename": "TypeError",
     "evalue": "int() argument must be a string, a bytes-like object or a real number, not 'complex'",
     "output_type": "error",
     "traceback": [
      "\u001b[1;31m---------------------------------------------------------------------------\u001b[0m",
      "\u001b[1;31mTypeError\u001b[0m                                 Traceback (most recent call last)",
      "Cell \u001b[1;32mIn[22], line 1\u001b[0m\n\u001b[1;32m----> 1\u001b[0m \u001b[38;5;28mint\u001b[39m(\u001b[38;5;241m3\u001b[39m\u001b[38;5;241m+\u001b[39m\u001b[38;5;241m3\u001b[39mj)\n",
      "\u001b[1;31mTypeError\u001b[0m: int() argument must be a string, a bytes-like object or a real number, not 'complex'"
     ]
    }
   ],
   "source": [
    "int(3+3j)"
   ]
  },
  {
   "cell_type": "markdown",
   "id": "bcc34a53-92bf-4a51-a94b-813763351691",
   "metadata": {},
   "source": [
    " ## 2.type cast from other datatype to string"
   ]
  },
  {
   "cell_type": "code",
   "execution_count": 29,
   "id": "2777861e-c75b-431a-90c1-36458b0b8147",
   "metadata": {},
   "outputs": [
    {
     "data": {
      "text/plain": [
       "'18'"
      ]
     },
     "execution_count": 29,
     "metadata": {},
     "output_type": "execute_result"
    }
   ],
   "source": [
    "str(18)"
   ]
  },
  {
   "cell_type": "code",
   "execution_count": 31,
   "id": "57d02299-b638-43c6-9644-c47757e31728",
   "metadata": {},
   "outputs": [
    {
     "data": {
      "text/plain": [
       "'12.302'"
      ]
     },
     "execution_count": 31,
     "metadata": {},
     "output_type": "execute_result"
    }
   ],
   "source": [
    "str(12.302)"
   ]
  },
  {
   "cell_type": "code",
   "execution_count": 33,
   "id": "38ba2015-1158-481f-a0ba-f4dee0543e28",
   "metadata": {},
   "outputs": [
    {
     "data": {
      "text/plain": [
       "'12.3'"
      ]
     },
     "execution_count": 33,
     "metadata": {},
     "output_type": "execute_result"
    }
   ],
   "source": [
    "str(12.30)"
   ]
  },
  {
   "cell_type": "code",
   "execution_count": 36,
   "id": "1e323d23-62c9-4145-b68f-b38dcbec95c0",
   "metadata": {},
   "outputs": [
    {
     "data": {
      "text/plain": [
       "'True'"
      ]
     },
     "execution_count": 36,
     "metadata": {},
     "output_type": "execute_result"
    }
   ],
   "source": [
    "str(True)"
   ]
  },
  {
   "cell_type": "code",
   "execution_count": 38,
   "id": "9f0307f6-cab2-45b6-ab69-54a938035843",
   "metadata": {},
   "outputs": [
    {
     "data": {
      "text/plain": [
       "'False'"
      ]
     },
     "execution_count": 38,
     "metadata": {},
     "output_type": "execute_result"
    }
   ],
   "source": [
    "str(False)"
   ]
  },
  {
   "cell_type": "code",
   "execution_count": 40,
   "id": "bb684183-12d8-4227-a888-9e6a863939a4",
   "metadata": {},
   "outputs": [
    {
     "data": {
      "text/plain": [
       "'(4+7j)'"
      ]
     },
     "execution_count": 40,
     "metadata": {},
     "output_type": "execute_result"
    }
   ],
   "source": [
    "str(4+7j)"
   ]
  },
  {
   "cell_type": "markdown",
   "id": "52e6ab66-8a32-4a2d-b97d-e3e38de45a0f",
   "metadata": {},
   "source": [
    "## 3.type cast from other datatype to float"
   ]
  },
  {
   "cell_type": "code",
   "execution_count": 43,
   "id": "e713b319-365e-4637-bea6-ff9800f23787",
   "metadata": {},
   "outputs": [
    {
     "data": {
      "text/plain": [
       "35.0"
      ]
     },
     "execution_count": 43,
     "metadata": {},
     "output_type": "execute_result"
    }
   ],
   "source": [
    "float(35)"
   ]
  },
  {
   "cell_type": "code",
   "execution_count": 45,
   "id": "576a53f2-36f0-45db-9ece-e916f04779f6",
   "metadata": {},
   "outputs": [
    {
     "data": {
      "text/plain": [
       "123.0"
      ]
     },
     "execution_count": 45,
     "metadata": {},
     "output_type": "execute_result"
    }
   ],
   "source": [
    "float(\"123\")"
   ]
  },
  {
   "cell_type": "code",
   "execution_count": 47,
   "id": "dbc77d27-f161-471f-b7dd-b69d1f800613",
   "metadata": {},
   "outputs": [
    {
     "ename": "ValueError",
     "evalue": "could not convert string to float: 'abc'",
     "output_type": "error",
     "traceback": [
      "\u001b[1;31m---------------------------------------------------------------------------\u001b[0m",
      "\u001b[1;31mValueError\u001b[0m                                Traceback (most recent call last)",
      "Cell \u001b[1;32mIn[47], line 1\u001b[0m\n\u001b[1;32m----> 1\u001b[0m \u001b[38;5;28mfloat\u001b[39m(\u001b[38;5;124m'\u001b[39m\u001b[38;5;124mabc\u001b[39m\u001b[38;5;124m'\u001b[39m)\n",
      "\u001b[1;31mValueError\u001b[0m: could not convert string to float: 'abc'"
     ]
    }
   ],
   "source": [
    "float('abc')"
   ]
  },
  {
   "cell_type": "code",
   "execution_count": 49,
   "id": "c27a11c9-5b07-4d14-8c6c-523fb4464dbf",
   "metadata": {},
   "outputs": [
    {
     "ename": "TypeError",
     "evalue": "float() argument must be a string or a real number, not 'complex'",
     "output_type": "error",
     "traceback": [
      "\u001b[1;31m---------------------------------------------------------------------------\u001b[0m",
      "\u001b[1;31mTypeError\u001b[0m                                 Traceback (most recent call last)",
      "Cell \u001b[1;32mIn[49], line 1\u001b[0m\n\u001b[1;32m----> 1\u001b[0m \u001b[38;5;28mfloat\u001b[39m(\u001b[38;5;241m2\u001b[39mj)\n",
      "\u001b[1;31mTypeError\u001b[0m: float() argument must be a string or a real number, not 'complex'"
     ]
    }
   ],
   "source": [
    "float(2j)"
   ]
  },
  {
   "cell_type": "markdown",
   "id": "d14d1775-d5bb-40f4-9ad5-d36fc32a8542",
   "metadata": {},
   "source": [
    "## 4. type cast from other datatype to bool\n"
   ]
  },
  {
   "cell_type": "code",
   "execution_count": 54,
   "id": "a515cdc2-8abf-414b-9084-204f96c33698",
   "metadata": {},
   "outputs": [
    {
     "data": {
      "text/plain": [
       "True"
      ]
     },
     "execution_count": 54,
     "metadata": {},
     "output_type": "execute_result"
    }
   ],
   "source": [
    "bool(111)"
   ]
  },
  {
   "cell_type": "code",
   "execution_count": 56,
   "id": "6a6b4d4f-2279-4a46-a8e3-a14df75e2a2a",
   "metadata": {},
   "outputs": [
    {
     "data": {
      "text/plain": [
       "True"
      ]
     },
     "execution_count": 56,
     "metadata": {},
     "output_type": "execute_result"
    }
   ],
   "source": [
    "bool(-22)"
   ]
  },
  {
   "cell_type": "code",
   "execution_count": 58,
   "id": "47ef2dc8-dce8-4824-ba3e-a1bd7ffe2226",
   "metadata": {},
   "outputs": [
    {
     "data": {
      "text/plain": [
       "False"
      ]
     },
     "execution_count": 58,
     "metadata": {},
     "output_type": "execute_result"
    }
   ],
   "source": [
    "bool()"
   ]
  },
  {
   "cell_type": "code",
   "execution_count": 60,
   "id": "1f7033b6-fcda-41a9-9425-0dbaaa0d1284",
   "metadata": {},
   "outputs": [
    {
     "data": {
      "text/plain": [
       "False"
      ]
     },
     "execution_count": 60,
     "metadata": {},
     "output_type": "execute_result"
    }
   ],
   "source": [
    "bool(0)"
   ]
  },
  {
   "cell_type": "code",
   "execution_count": 62,
   "id": "5c1d5cdd-d09d-4f63-8d22-cfea54848328",
   "metadata": {},
   "outputs": [
    {
     "data": {
      "text/plain": [
       "True"
      ]
     },
     "execution_count": 62,
     "metadata": {},
     "output_type": "execute_result"
    }
   ],
   "source": [
    "bool(\"2\")"
   ]
  },
  {
   "cell_type": "code",
   "execution_count": 64,
   "id": "f58a5594-0799-459b-a535-5cf2cc6641e5",
   "metadata": {},
   "outputs": [
    {
     "data": {
      "text/plain": [
       "True"
      ]
     },
     "execution_count": 64,
     "metadata": {},
     "output_type": "execute_result"
    }
   ],
   "source": [
    "bool('abc')"
   ]
  },
  {
   "cell_type": "code",
   "execution_count": 66,
   "id": "d251f98d-683e-4350-aedd-736d79f6c04a",
   "metadata": {},
   "outputs": [
    {
     "data": {
      "text/plain": [
       "True"
      ]
     },
     "execution_count": 66,
     "metadata": {},
     "output_type": "execute_result"
    }
   ],
   "source": [
    "bool(2+9j)"
   ]
  },
  {
   "cell_type": "markdown",
   "id": "8bb92326-effe-4c72-95a0-89fcc3f487c2",
   "metadata": {},
   "source": [
    "## 5. type cast from other datatype to complex"
   ]
  },
  {
   "cell_type": "code",
   "execution_count": 69,
   "id": "1878ee6c-5c7d-4630-b55d-00d81b7c59b9",
   "metadata": {},
   "outputs": [
    {
     "data": {
      "text/plain": [
       "(111+0j)"
      ]
     },
     "execution_count": 69,
     "metadata": {},
     "output_type": "execute_result"
    }
   ],
   "source": [
    "complex(111)"
   ]
  },
  {
   "cell_type": "code",
   "execution_count": 71,
   "id": "1c694f36-df87-473a-a676-cf52c0209cca",
   "metadata": {},
   "outputs": [
    {
     "data": {
      "text/plain": [
       "(-12+0j)"
      ]
     },
     "execution_count": 71,
     "metadata": {},
     "output_type": "execute_result"
    }
   ],
   "source": [
    "complex(-12)"
   ]
  },
  {
   "cell_type": "code",
   "execution_count": 73,
   "id": "25aff595-64d7-48f2-9559-1de180616877",
   "metadata": {},
   "outputs": [
    {
     "data": {
      "text/plain": [
       "(23+22j)"
      ]
     },
     "execution_count": 73,
     "metadata": {},
     "output_type": "execute_result"
    }
   ],
   "source": [
    "complex(23,22)"
   ]
  },
  {
   "cell_type": "code",
   "execution_count": 75,
   "id": "85372fcc-a238-4dd1-8887-a71959863480",
   "metadata": {},
   "outputs": [
    {
     "data": {
      "text/plain": [
       "(1.2+3.4j)"
      ]
     },
     "execution_count": 75,
     "metadata": {},
     "output_type": "execute_result"
    }
   ],
   "source": [
    "complex(1.2,3.4)"
   ]
  },
  {
   "cell_type": "code",
   "execution_count": 77,
   "id": "bdc83560-b801-4983-88f3-cc22c482934e",
   "metadata": {},
   "outputs": [
    {
     "data": {
      "text/plain": [
       "(1+0j)"
      ]
     },
     "execution_count": 77,
     "metadata": {},
     "output_type": "execute_result"
    }
   ],
   "source": [
    "complex(True,False)"
   ]
  },
  {
   "cell_type": "code",
   "execution_count": 79,
   "id": "ce374193-2e19-4357-9a5c-4f17dbfbb714",
   "metadata": {},
   "outputs": [
    {
     "ename": "ValueError",
     "evalue": "complex() arg is a malformed string",
     "output_type": "error",
     "traceback": [
      "\u001b[1;31m---------------------------------------------------------------------------\u001b[0m",
      "\u001b[1;31mValueError\u001b[0m                                Traceback (most recent call last)",
      "Cell \u001b[1;32mIn[79], line 1\u001b[0m\n\u001b[1;32m----> 1\u001b[0m \u001b[38;5;28mcomplex\u001b[39m(\u001b[38;5;124m'\u001b[39m\u001b[38;5;124mc\u001b[39m\u001b[38;5;124m'\u001b[39m)\n",
      "\u001b[1;31mValueError\u001b[0m: complex() arg is a malformed string"
     ]
    }
   ],
   "source": [
    "complex('c')"
   ]
  },
  {
   "cell_type": "code",
   "execution_count": 81,
   "id": "f548f890-bdab-4ddd-b9c1-6b1dd132b332",
   "metadata": {},
   "outputs": [
    {
     "ename": "TypeError",
     "evalue": "complex() can't take second arg if first is a string",
     "output_type": "error",
     "traceback": [
      "\u001b[1;31m---------------------------------------------------------------------------\u001b[0m",
      "\u001b[1;31mTypeError\u001b[0m                                 Traceback (most recent call last)",
      "Cell \u001b[1;32mIn[81], line 1\u001b[0m\n\u001b[1;32m----> 1\u001b[0m \u001b[38;5;28mcomplex\u001b[39m(\u001b[38;5;124m'\u001b[39m\u001b[38;5;124mc\u001b[39m\u001b[38;5;124m'\u001b[39m,\u001b[38;5;124m'\u001b[39m\u001b[38;5;124md\u001b[39m\u001b[38;5;124m'\u001b[39m)\n",
      "\u001b[1;31mTypeError\u001b[0m: complex() can't take second arg if first is a string"
     ]
    }
   ],
   "source": [
    "complex('c','d')"
   ]
  },
  {
   "cell_type": "code",
   "execution_count": 83,
   "id": "86266419-8cd1-458d-be65-53e185964316",
   "metadata": {},
   "outputs": [
    {
     "data": {
      "text/plain": [
       "(10+0j)"
      ]
     },
     "execution_count": 83,
     "metadata": {},
     "output_type": "execute_result"
    }
   ],
   "source": [
    "complex('10')"
   ]
  },
  {
   "cell_type": "code",
   "execution_count": 85,
   "id": "80cd589e-e5c6-488f-b3c2-e95fb1e55d15",
   "metadata": {},
   "outputs": [
    {
     "ename": "TypeError",
     "evalue": "complex() can't take second arg if first is a string",
     "output_type": "error",
     "traceback": [
      "\u001b[1;31m---------------------------------------------------------------------------\u001b[0m",
      "\u001b[1;31mTypeError\u001b[0m                                 Traceback (most recent call last)",
      "Cell \u001b[1;32mIn[85], line 1\u001b[0m\n\u001b[1;32m----> 1\u001b[0m \u001b[38;5;28mcomplex\u001b[39m(\u001b[38;5;124m'\u001b[39m\u001b[38;5;124m10\u001b[39m\u001b[38;5;124m'\u001b[39m,\u001b[38;5;124m'\u001b[39m\u001b[38;5;124m20\u001b[39m\u001b[38;5;124m'\u001b[39m)\n",
      "\u001b[1;31mTypeError\u001b[0m: complex() can't take second arg if first is a string"
     ]
    }
   ],
   "source": [
    "complex('10','20')"
   ]
  },
  {
   "cell_type": "markdown",
   "id": "1f2afdea-e793-4519-b941-7b308ceab649",
   "metadata": {},
   "source": [
    "# operators"
   ]
  },
  {
   "cell_type": "markdown",
   "id": "ac694b54-d84b-4d73-9e9a-4cc6caf05d39",
   "metadata": {},
   "source": [
    "## 1. Arithmetic operators"
   ]
  },
  {
   "cell_type": "code",
   "execution_count": 89,
   "id": "a5486d60-ac18-4c62-a726-116c737b9b13",
   "metadata": {},
   "outputs": [],
   "source": [
    "a=2\n",
    "b=8"
   ]
  },
  {
   "cell_type": "code",
   "execution_count": 91,
   "id": "3f8ce82d-480d-467b-9852-4322c81b8b0f",
   "metadata": {},
   "outputs": [
    {
     "data": {
      "text/plain": [
       "10"
      ]
     },
     "execution_count": 91,
     "metadata": {},
     "output_type": "execute_result"
    }
   ],
   "source": [
    "a+b"
   ]
  },
  {
   "cell_type": "code",
   "execution_count": 93,
   "id": "2ce06ded-c59c-4e04-8ce6-0a6eba04442b",
   "metadata": {},
   "outputs": [
    {
     "data": {
      "text/plain": [
       "-6"
      ]
     },
     "execution_count": 93,
     "metadata": {},
     "output_type": "execute_result"
    }
   ],
   "source": [
    "a-b"
   ]
  },
  {
   "cell_type": "code",
   "execution_count": 95,
   "id": "6feea4c0-4656-4e26-aa1f-3baea8f707ce",
   "metadata": {},
   "outputs": [
    {
     "data": {
      "text/plain": [
       "16"
      ]
     },
     "execution_count": 95,
     "metadata": {},
     "output_type": "execute_result"
    }
   ],
   "source": [
    "a*b"
   ]
  },
  {
   "cell_type": "code",
   "execution_count": 97,
   "id": "0dc546a6-8062-4171-94d2-db90ded07b8b",
   "metadata": {},
   "outputs": [
    {
     "data": {
      "text/plain": [
       "0.25"
      ]
     },
     "execution_count": 97,
     "metadata": {},
     "output_type": "execute_result"
    }
   ],
   "source": [
    "a/b"
   ]
  },
  {
   "cell_type": "code",
   "execution_count": 99,
   "id": "5c5f65de-dc0e-4fec-acd7-143270c340ea",
   "metadata": {},
   "outputs": [
    {
     "data": {
      "text/plain": [
       "0"
      ]
     },
     "execution_count": 99,
     "metadata": {},
     "output_type": "execute_result"
    }
   ],
   "source": [
    "a//b"
   ]
  },
  {
   "cell_type": "code",
   "execution_count": 101,
   "id": "80bba21b-a88a-4c14-9a10-80a5da7c1602",
   "metadata": {},
   "outputs": [
    {
     "data": {
      "text/plain": [
       "256"
      ]
     },
     "execution_count": 101,
     "metadata": {},
     "output_type": "execute_result"
    }
   ],
   "source": [
    "a**b"
   ]
  },
  {
   "cell_type": "code",
   "execution_count": 103,
   "id": "9945066b-af05-42cd-854f-3e32ef62e248",
   "metadata": {},
   "outputs": [
    {
     "data": {
      "text/plain": [
       "2"
      ]
     },
     "execution_count": 103,
     "metadata": {},
     "output_type": "execute_result"
    }
   ],
   "source": [
    "a%b"
   ]
  },
  {
   "cell_type": "markdown",
   "id": "2fbee247-4b4f-4b4c-b047-c4bada89d6ea",
   "metadata": {},
   "source": [
    "## 2. Assignment operators"
   ]
  },
  {
   "cell_type": "code",
   "execution_count": 225,
   "id": "a165e900-7f5e-452f-8290-f17f2b2f9ec0",
   "metadata": {},
   "outputs": [],
   "source": [
    "a=30"
   ]
  },
  {
   "cell_type": "code",
   "execution_count": 227,
   "id": "4a8cf23a-3ebd-4d12-b72e-e1a206fd96d0",
   "metadata": {},
   "outputs": [
    {
     "data": {
      "text/plain": [
       "30"
      ]
     },
     "execution_count": 227,
     "metadata": {},
     "output_type": "execute_result"
    }
   ],
   "source": [
    "a"
   ]
  },
  {
   "cell_type": "code",
   "execution_count": 229,
   "id": "be481d95-4465-49fe-9705-ebfdbf6b38b6",
   "metadata": {},
   "outputs": [
    {
     "data": {
      "text/plain": [
       "40"
      ]
     },
     "execution_count": 229,
     "metadata": {},
     "output_type": "execute_result"
    }
   ],
   "source": [
    "a+=10\n",
    "a"
   ]
  },
  {
   "cell_type": "code",
   "execution_count": 231,
   "id": "edaf3866-f1ff-4685-af37-1e0ab394845e",
   "metadata": {},
   "outputs": [
    {
     "data": {
      "text/plain": [
       "30"
      ]
     },
     "execution_count": 231,
     "metadata": {},
     "output_type": "execute_result"
    }
   ],
   "source": [
    "a-=10\n",
    "a"
   ]
  },
  {
   "cell_type": "code",
   "execution_count": 233,
   "id": "2dc4d6ff-12d4-43bf-9a83-c9b5a1f3bfef",
   "metadata": {},
   "outputs": [
    {
     "data": {
      "text/plain": [
       "300"
      ]
     },
     "execution_count": 233,
     "metadata": {},
     "output_type": "execute_result"
    }
   ],
   "source": [
    "a*=10\n",
    "a"
   ]
  },
  {
   "cell_type": "code",
   "execution_count": 235,
   "id": "6b070c8c-d293-409e-a5ae-5c8a1bb41f7d",
   "metadata": {},
   "outputs": [
    {
     "data": {
      "text/plain": [
       "30.0"
      ]
     },
     "execution_count": 235,
     "metadata": {},
     "output_type": "execute_result"
    }
   ],
   "source": [
    "a/=10\n",
    "a"
   ]
  },
  {
   "cell_type": "code",
   "execution_count": 237,
   "id": "9e8af44f-0a5d-462f-a3f1-50618224e328",
   "metadata": {},
   "outputs": [
    {
     "data": {
      "text/plain": [
       "3.0"
      ]
     },
     "execution_count": 237,
     "metadata": {},
     "output_type": "execute_result"
    }
   ],
   "source": [
    "a//=10\n",
    "a"
   ]
  },
  {
   "cell_type": "code",
   "execution_count": 239,
   "id": "b40912f2-fa37-48a7-875b-51c676194f94",
   "metadata": {},
   "outputs": [
    {
     "data": {
      "text/plain": [
       "3.0"
      ]
     },
     "execution_count": 239,
     "metadata": {},
     "output_type": "execute_result"
    }
   ],
   "source": [
    "a%=10\n",
    "a"
   ]
  },
  {
   "cell_type": "code",
   "execution_count": 241,
   "id": "2b6e0630-172e-4d0d-9ea3-20748af1b02f",
   "metadata": {},
   "outputs": [
    {
     "data": {
      "text/plain": [
       "59049.0"
      ]
     },
     "execution_count": 241,
     "metadata": {},
     "output_type": "execute_result"
    }
   ],
   "source": [
    "a**=10\n",
    "a"
   ]
  },
  {
   "cell_type": "code",
   "execution_count": 215,
   "id": "07056b1c-2161-4cbc-aff1-d8f13c2b0ede",
   "metadata": {},
   "outputs": [],
   "source": [
    "b=20"
   ]
  },
  {
   "cell_type": "code",
   "execution_count": 243,
   "id": "f33e64c0-4fae-412f-8767-821e01edda3f",
   "metadata": {},
   "outputs": [
    {
     "data": {
      "text/plain": [
       "59069.0"
      ]
     },
     "execution_count": 243,
     "metadata": {},
     "output_type": "execute_result"
    }
   ],
   "source": [
    "c=a+b\n",
    "c"
   ]
  },
  {
   "cell_type": "markdown",
   "id": "b05b7139-bc6c-42fe-8efa-3e4e8838c3c2",
   "metadata": {},
   "source": [
    "## 3. Relational operators"
   ]
  },
  {
   "cell_type": "code",
   "execution_count": 246,
   "id": "dc541c18-b430-4ddf-be86-3866e9d5c21b",
   "metadata": {},
   "outputs": [],
   "source": [
    "a=2\n",
    "b=3"
   ]
  },
  {
   "cell_type": "code",
   "execution_count": 248,
   "id": "f50598da-e9c8-435b-ac80-d4da5db7b5bf",
   "metadata": {},
   "outputs": [
    {
     "data": {
      "text/plain": [
       "False"
      ]
     },
     "execution_count": 248,
     "metadata": {},
     "output_type": "execute_result"
    }
   ],
   "source": [
    "a>b"
   ]
  },
  {
   "cell_type": "code",
   "execution_count": 250,
   "id": "44a73d24-bb3e-4c01-9014-4dabd0523e0d",
   "metadata": {},
   "outputs": [
    {
     "data": {
      "text/plain": [
       "True"
      ]
     },
     "execution_count": 250,
     "metadata": {},
     "output_type": "execute_result"
    }
   ],
   "source": [
    "a<b"
   ]
  },
  {
   "cell_type": "code",
   "execution_count": 252,
   "id": "42232b05-53b1-46dd-ba40-1630af746f8b",
   "metadata": {},
   "outputs": [
    {
     "data": {
      "text/plain": [
       "False"
      ]
     },
     "execution_count": 252,
     "metadata": {},
     "output_type": "execute_result"
    }
   ],
   "source": [
    "a==b"
   ]
  },
  {
   "cell_type": "code",
   "execution_count": 254,
   "id": "a5c3a3a1-a5e5-4057-a734-1f4b5f72e83c",
   "metadata": {},
   "outputs": [],
   "source": [
    "a=3\n",
    "b=3"
   ]
  },
  {
   "cell_type": "code",
   "execution_count": 256,
   "id": "10f98716-9a32-4b2d-ab4d-6e7daff97ac2",
   "metadata": {},
   "outputs": [
    {
     "data": {
      "text/plain": [
       "True"
      ]
     },
     "execution_count": 256,
     "metadata": {},
     "output_type": "execute_result"
    }
   ],
   "source": [
    "a>=b"
   ]
  },
  {
   "cell_type": "code",
   "execution_count": 258,
   "id": "03052b92-d377-4546-87e6-cd6a981f3826",
   "metadata": {},
   "outputs": [
    {
     "data": {
      "text/plain": [
       "True"
      ]
     },
     "execution_count": 258,
     "metadata": {},
     "output_type": "execute_result"
    }
   ],
   "source": [
    "a<=b"
   ]
  },
  {
   "cell_type": "code",
   "execution_count": 260,
   "id": "027fffd8-8cfd-433c-94d8-ea07244abdd8",
   "metadata": {},
   "outputs": [
    {
     "data": {
      "text/plain": [
       "False"
      ]
     },
     "execution_count": 260,
     "metadata": {},
     "output_type": "execute_result"
    }
   ],
   "source": [
    "a!=b"
   ]
  },
  {
   "cell_type": "markdown",
   "id": "7384692c-a0f0-45ca-ab7d-65cd431aa5ec",
   "metadata": {},
   "source": [
    "## 4.logical operators"
   ]
  },
  {
   "cell_type": "code",
   "execution_count": 267,
   "id": "e0c9d518-9dfe-49c0-874e-9641b2c30cd4",
   "metadata": {},
   "outputs": [],
   "source": [
    "a=6\n",
    "b=4"
   ]
  },
  {
   "cell_type": "code",
   "execution_count": 269,
   "id": "7b486c28-ec14-46d4-9ca5-3fe2081ce235",
   "metadata": {},
   "outputs": [
    {
     "data": {
      "text/plain": [
       "False"
      ]
     },
     "execution_count": 269,
     "metadata": {},
     "output_type": "execute_result"
    }
   ],
   "source": [
    "a>3 and b<4"
   ]
  },
  {
   "cell_type": "code",
   "execution_count": 271,
   "id": "740ce60d-a1b7-4ca9-8894-a430fb7ae2fc",
   "metadata": {},
   "outputs": [
    {
     "data": {
      "text/plain": [
       "False"
      ]
     },
     "execution_count": 271,
     "metadata": {},
     "output_type": "execute_result"
    }
   ],
   "source": [
    "a<3 and b<=4"
   ]
  },
  {
   "cell_type": "code",
   "execution_count": 273,
   "id": "5675673c-0faf-4f3a-be66-a54c76bcd709",
   "metadata": {},
   "outputs": [
    {
     "data": {
      "text/plain": [
       "True"
      ]
     },
     "execution_count": 273,
     "metadata": {},
     "output_type": "execute_result"
    }
   ],
   "source": [
    "a>3 and b==4"
   ]
  },
  {
   "cell_type": "code",
   "execution_count": 275,
   "id": "3842fece-c48f-4193-bb1d-026af9f6ad1d",
   "metadata": {},
   "outputs": [
    {
     "data": {
      "text/plain": [
       "True"
      ]
     },
     "execution_count": 275,
     "metadata": {},
     "output_type": "execute_result"
    }
   ],
   "source": [
    "a>4 or b<9"
   ]
  },
  {
   "cell_type": "code",
   "execution_count": 277,
   "id": "e4450b2a-7fc0-4141-916c-d9a051c75b21",
   "metadata": {},
   "outputs": [
    {
     "data": {
      "text/plain": [
       "False"
      ]
     },
     "execution_count": 277,
     "metadata": {},
     "output_type": "execute_result"
    }
   ],
   "source": [
    "a<4 or b>9"
   ]
  },
  {
   "cell_type": "code",
   "execution_count": 279,
   "id": "4830a698-6ef2-499e-95ba-145ccdcd22b0",
   "metadata": {},
   "outputs": [
    {
     "data": {
      "text/plain": [
       "True"
      ]
     },
     "execution_count": 279,
     "metadata": {},
     "output_type": "execute_result"
    }
   ],
   "source": [
    "a>4 or b<9"
   ]
  },
  {
   "cell_type": "code",
   "execution_count": 281,
   "id": "048d58cf-d652-46f1-abb4-876f0d81e750",
   "metadata": {},
   "outputs": [
    {
     "data": {
      "text/plain": [
       "True"
      ]
     },
     "execution_count": 281,
     "metadata": {},
     "output_type": "execute_result"
    }
   ],
   "source": [
    "a<4 or b<9"
   ]
  },
  {
   "cell_type": "code",
   "execution_count": 13,
   "id": "c3a7a970-de19-46b0-9dc3-2ba6012d80dd",
   "metadata": {},
   "outputs": [
    {
     "data": {
      "text/plain": [
       "'na'"
      ]
     },
     "execution_count": 13,
     "metadata": {},
     "output_type": "execute_result"
    }
   ],
   "source": [
    "abc=\"ananth\"\n",
    "abc[-5:-3]\n"
   ]
  },
  {
   "cell_type": "code",
   "execution_count": 15,
   "id": "7d371e74-c89a-4d90-8344-4628b5839561",
   "metadata": {},
   "outputs": [
    {
     "data": {
      "text/plain": [
       "'htnana'"
      ]
     },
     "execution_count": 15,
     "metadata": {},
     "output_type": "execute_result"
    }
   ],
   "source": [
    "abc[::-1]"
   ]
  },
  {
   "cell_type": "code",
   "execution_count": 17,
   "id": "e1231dce-57b5-4ecd-9f1e-ea49b4be3535",
   "metadata": {},
   "outputs": [
    {
     "data": {
      "text/plain": [
       "'aat'"
      ]
     },
     "execution_count": 17,
     "metadata": {},
     "output_type": "execute_result"
    }
   ],
   "source": [
    "abc[0:6:2]"
   ]
  },
  {
   "cell_type": "code",
   "execution_count": 3,
   "id": "fad7cf4a-d7df-456d-9772-fcc4b147dcb8",
   "metadata": {},
   "outputs": [
    {
     "data": {
      "text/plain": [
       "'g'"
      ]
     },
     "execution_count": 3,
     "metadata": {},
     "output_type": "execute_result"
    }
   ],
   "source": [
    "st=\"goodmorning\"\n",
    "st[0]"
   ]
  },
  {
   "cell_type": "code",
   "execution_count": 5,
   "id": "fe2d5d95-a38d-41cb-908e-503cb0b10bbf",
   "metadata": {},
   "outputs": [
    {
     "data": {
      "text/plain": [
       "'n'"
      ]
     },
     "execution_count": 5,
     "metadata": {},
     "output_type": "execute_result"
    }
   ],
   "source": [
    "st[-2]"
   ]
  },
  {
   "cell_type": "code",
   "execution_count": 7,
   "id": "96965b8c-e6ba-442a-83f8-a74dd872f1c4",
   "metadata": {},
   "outputs": [
    {
     "ename": "IndexError",
     "evalue": "string index out of range",
     "output_type": "error",
     "traceback": [
      "\u001b[1;31m---------------------------------------------------------------------------\u001b[0m",
      "\u001b[1;31mIndexError\u001b[0m                                Traceback (most recent call last)",
      "Cell \u001b[1;32mIn[7], line 1\u001b[0m\n\u001b[1;32m----> 1\u001b[0m st[\u001b[38;5;241m12\u001b[39m]\n",
      "\u001b[1;31mIndexError\u001b[0m: string index out of range"
     ]
    }
   ],
   "source": [
    "st[12]"
   ]
  },
  {
   "cell_type": "code",
   "execution_count": 9,
   "id": "b74a368c-cf2a-4660-9cf5-fd07fc98d051",
   "metadata": {},
   "outputs": [
    {
     "data": {
      "text/plain": [
       "'i'"
      ]
     },
     "execution_count": 9,
     "metadata": {},
     "output_type": "execute_result"
    }
   ],
   "source": [
    "st[8]"
   ]
  },
  {
   "cell_type": "markdown",
   "id": "ad043599-99d8-4c17-b3da-bfa390f109ad",
   "metadata": {},
   "source": [
    "## slicing"
   ]
  },
  {
   "cell_type": "code",
   "execution_count": 12,
   "id": "0b79f5de-9685-45d5-a129-95996cac16d6",
   "metadata": {},
   "outputs": [
    {
     "data": {
      "text/plain": [
       "'twitter'"
      ]
     },
     "execution_count": 12,
     "metadata": {},
     "output_type": "execute_result"
    }
   ],
   "source": [
    "st1=\"twitter\"\n",
    "st1[:]"
   ]
  },
  {
   "cell_type": "code",
   "execution_count": 14,
   "id": "49972bb7-2ae7-40e0-9d30-a2652d834273",
   "metadata": {},
   "outputs": [
    {
     "data": {
      "text/plain": [
       "'tter'"
      ]
     },
     "execution_count": 14,
     "metadata": {},
     "output_type": "execute_result"
    }
   ],
   "source": [
    "st1[3:7]"
   ]
  },
  {
   "cell_type": "code",
   "execution_count": 18,
   "id": "3041cb23-3a1b-4b2b-a9bb-8d8dbbe18efb",
   "metadata": {},
   "outputs": [
    {
     "data": {
      "text/plain": [
       "'te'"
      ]
     },
     "execution_count": 18,
     "metadata": {},
     "output_type": "execute_result"
    }
   ],
   "source": [
    "st1[-3:-1]"
   ]
  },
  {
   "cell_type": "code",
   "execution_count": 26,
   "id": "ddc5a7d3-ecdb-4636-b124-d4fc05e22cbb",
   "metadata": {},
   "outputs": [
    {
     "data": {
      "text/plain": [
       "'treat'"
      ]
     },
     "execution_count": 26,
     "metadata": {},
     "output_type": "execute_result"
    }
   ],
   "source": [
    "st2=\"great\"\n",
    "'t'+st2[1:]"
   ]
  },
  {
   "cell_type": "code",
   "execution_count": 30,
   "id": "d692e658-963f-43a7-a6b1-0554f6231102",
   "metadata": {},
   "outputs": [
    {
     "data": {
      "text/plain": [
       "'grea'"
      ]
     },
     "execution_count": 30,
     "metadata": {},
     "output_type": "execute_result"
    }
   ],
   "source": [
    "st2[:len(st2)-1]"
   ]
  },
  {
   "cell_type": "code",
   "execution_count": 32,
   "id": "abe24440-5624-40c6-b350-8ecc3ee18ec2",
   "metadata": {},
   "outputs": [
    {
     "data": {
      "text/plain": [
       "'great'"
      ]
     },
     "execution_count": 32,
     "metadata": {},
     "output_type": "execute_result"
    }
   ],
   "source": [
    "st2[:6]"
   ]
  },
  {
   "cell_type": "code",
   "execution_count": 36,
   "id": "90b7f458-997d-4e11-bc66-d381fe2819bb",
   "metadata": {},
   "outputs": [
    {
     "data": {
      "text/plain": [
       "'rea'"
      ]
     },
     "execution_count": 36,
     "metadata": {},
     "output_type": "execute_result"
    }
   ],
   "source": [
    "st2[-4:-1]"
   ]
  },
  {
   "cell_type": "code",
   "execution_count": 38,
   "id": "d3e4c0ea-bd72-4047-8d9e-6200ec098b83",
   "metadata": {},
   "outputs": [
    {
     "data": {
      "text/plain": [
       "'taerg'"
      ]
     },
     "execution_count": 38,
     "metadata": {},
     "output_type": "execute_result"
    }
   ],
   "source": [
    "st2[::-1]"
   ]
  },
  {
   "cell_type": "code",
   "execution_count": 40,
   "id": "b54f855a-12a4-4faa-a7b5-468d441aa3e1",
   "metadata": {},
   "outputs": [
    {
     "data": {
      "text/plain": [
       "'tit'"
      ]
     },
     "execution_count": 40,
     "metadata": {},
     "output_type": "execute_result"
    }
   ],
   "source": [
    "st1[0:5:2]"
   ]
  },
  {
   "cell_type": "code",
   "execution_count": 42,
   "id": "d9c89993-d1a1-4f69-a395-7e068740de8a",
   "metadata": {},
   "outputs": [
    {
     "data": {
      "text/plain": [
       "'wt'"
      ]
     },
     "execution_count": 42,
     "metadata": {},
     "output_type": "execute_result"
    }
   ],
   "source": [
    "st1[1:5:3]"
   ]
  },
  {
   "cell_type": "code",
   "execution_count": 44,
   "id": "c6071934-7daa-4708-8c5a-c853de15b022",
   "metadata": {},
   "outputs": [
    {
     "data": {
      "text/plain": [
       "7"
      ]
     },
     "execution_count": 44,
     "metadata": {},
     "output_type": "execute_result"
    }
   ],
   "source": [
    "len(st1)"
   ]
  },
  {
   "cell_type": "code",
   "execution_count": 46,
   "id": "8bc8509d-fb46-44a4-922d-76ff8a70fd34",
   "metadata": {},
   "outputs": [
    {
     "name": "stdout",
     "output_type": "stream",
     "text": [
      "g\n",
      "r\n",
      "e\n",
      "a\n",
      "t\n"
     ]
    }
   ],
   "source": [
    "for i in st2:\n",
    "    print(i)"
   ]
  },
  {
   "cell_type": "code",
   "execution_count": 48,
   "id": "d92f51f6-0aeb-4a2a-86e4-d19df9d3f988",
   "metadata": {},
   "outputs": [
    {
     "data": {
      "text/plain": [
       "'Great'"
      ]
     },
     "execution_count": 48,
     "metadata": {},
     "output_type": "execute_result"
    }
   ],
   "source": [
    "st2.capitalize()"
   ]
  },
  {
   "cell_type": "code",
   "execution_count": 50,
   "id": "016b879e-6c3a-4213-9fbf-9454ff0e2440",
   "metadata": {},
   "outputs": [
    {
     "data": {
      "text/plain": [
       "'great'"
      ]
     },
     "execution_count": 50,
     "metadata": {},
     "output_type": "execute_result"
    }
   ],
   "source": [
    "st2.lower()"
   ]
  },
  {
   "cell_type": "code",
   "execution_count": 52,
   "id": "de608039-2eb7-4d51-970c-6943ab283a26",
   "metadata": {},
   "outputs": [
    {
     "data": {
      "text/plain": [
       "'GREAT'"
      ]
     },
     "execution_count": 52,
     "metadata": {},
     "output_type": "execute_result"
    }
   ],
   "source": [
    "st2.upper()"
   ]
  },
  {
   "cell_type": "code",
   "execution_count": 56,
   "id": "e37da9f2-e881-4a0b-8c3a-8160ce83e68c",
   "metadata": {},
   "outputs": [],
   "source": [
    "st3=\"ananth nandan\""
   ]
  },
  {
   "cell_type": "code",
   "execution_count": 58,
   "id": "d48a0218-b371-465e-8916-de349f08bf1b",
   "metadata": {},
   "outputs": [
    {
     "data": {
      "text/plain": [
       "'Ananth Nandan'"
      ]
     },
     "execution_count": 58,
     "metadata": {},
     "output_type": "execute_result"
    }
   ],
   "source": [
    "st3.title()"
   ]
  },
  {
   "cell_type": "code",
   "execution_count": 60,
   "id": "6b421d64-aaf4-4baa-a598-8b1a2b3c1cf1",
   "metadata": {},
   "outputs": [
    {
     "data": {
      "text/plain": [
       "'gOOD mORNING'"
      ]
     },
     "execution_count": 60,
     "metadata": {},
     "output_type": "execute_result"
    }
   ],
   "source": [
    "aw=\"Good Morning\"\n",
    "aw.swapcase()"
   ]
  },
  {
   "cell_type": "code",
   "execution_count": 78,
   "id": "53e7eae9-be65-4ef1-9216-cf77aeb197c3",
   "metadata": {},
   "outputs": [
    {
     "name": "stdout",
     "output_type": "stream",
     "text": [
      "the addition of 12 and 13 is 25\n"
     ]
    }
   ],
   "source": [
    "n1=12\n",
    "n2=13\n",
    "sum=n1+n2\n",
    "print(\"the addition of\",n1,\"and\",n2,\"is\",sum)"
   ]
  },
  {
   "cell_type": "code",
   "execution_count": 82,
   "id": "52af8af3-21d3-4ef3-88bf-2454458757f0",
   "metadata": {},
   "outputs": [
    {
     "name": "stdout",
     "output_type": "stream",
     "text": [
      "my name is ananth and i am 20 and i am from NYC\n"
     ]
    }
   ],
   "source": [
    "city=\"NYC\"\n",
    "name=\"ananth\"\n",
    "age=20\n",
    "print(\"my name is\",name,\"and i am\" ,age, \"and i am from\",city)\n"
   ]
  },
  {
   "cell_type": "code",
   "execution_count": 114,
   "id": "9e1e0e89-c6d1-4f27-bc1a-6363b3f5a763",
   "metadata": {},
   "outputs": [
    {
     "name": "stdout",
     "output_type": "stream",
     "text": [
      "the addition of 12 and 13 is 25\n"
     ]
    }
   ],
   "source": [
    "n1=12\n",
    "n2=13\n",
    "sum=n1+n2\n",
    "print(\"the addition of {} and {} is {}\".format(n1,n2,sum))\n"
   ]
  },
  {
   "cell_type": "code",
   "execution_count": 86,
   "id": "88c2cd7f-4473-46aa-b2d1-200c27189a80",
   "metadata": {},
   "outputs": [
    {
     "name": "stdout",
     "output_type": "stream",
     "text": [
      "my name is ananth, i am 20 years old , i am from NYC\n"
     ]
    }
   ],
   "source": [
    "city=\"NYC\"\n",
    "name=\"ananth\"\n",
    "age=20\n",
    "print('my name is {}, i am {} years old , i am from {}'.format(name,age,city))"
   ]
  },
  {
   "cell_type": "code",
   "execution_count": 94,
   "id": "8fc0aff6-9a24-430d-9d10-2f1193e9fad9",
   "metadata": {},
   "outputs": [
    {
     "name": "stdout",
     "output_type": "stream",
     "text": [
      "the avg of 200,35,333,is= 189.33333333333334 or 189.33\n"
     ]
    }
   ],
   "source": [
    "n1=200\n",
    "n2=35\n",
    "n3=333\n",
    "avg=(n1+n2+n3)/3\n",
    "avg1=round((n1+n2+n3)/3,2)\n",
    "print('the avg of {},{},{},is= {} or {}'.format(n1,n2,n3,avg,avg1))"
   ]
  },
  {
   "cell_type": "code",
   "execution_count": 100,
   "id": "35411e41-71ad-4f66-b2dc-d6214ecfb6d7",
   "metadata": {},
   "outputs": [
    {
     "name": "stdout",
     "output_type": "stream",
     "text": [
      "the addition of 12 and 13 is 25\n"
     ]
    }
   ],
   "source": [
    "n1=12\n",
    "n2=13\n",
    "sum=n1+n2\n",
    "print(f'the addition of {n1} and {n2} is {sum}')"
   ]
  },
  {
   "cell_type": "code",
   "execution_count": 108,
   "id": "86de1833-467e-4ee9-8e8c-3b2f17e13e81",
   "metadata": {},
   "outputs": [
    {
     "name": "stdout",
     "output_type": "stream",
     "text": [
      "the avg of 200, 35, 333 is= 189.33333333333334 or 189.33\n"
     ]
    }
   ],
   "source": [
    "n1=200\n",
    "n2=35\n",
    "n3=333\n",
    "avg=(n1+n2+n3)/3\n",
    "avg1=round((n1+n2+n3)/3,2)\n",
    "print(f'the avg of {n1}, {n2}, {n3} is= {avg} or {avg1}')"
   ]
  },
  {
   "cell_type": "code",
   "execution_count": 116,
   "id": "db9bbe70-a8ad-41e8-803b-7f5e1f3b31f4",
   "metadata": {},
   "outputs": [
    {
     "name": "stdout",
     "output_type": "stream",
     "text": [
      "the addition of 12 and 13 is 25\n",
      "the addition of 12 and 13 is 25\n",
      "the addition of 12 and 13 is 25\n"
     ]
    }
   ],
   "source": [
    "n1=12\n",
    "n2=13\n",
    "sum=n1+n2\n",
    "print(f'the addition of {n1} and {n2} is {sum}')\n",
    "print(\"the addition of {} and {} is {}\".format(n1,n2,sum))\n",
    "print(\"the addition of\",n1,\"and\",n2,\"is\",sum)\n"
   ]
  },
  {
   "cell_type": "code",
   "execution_count": 118,
   "id": "fa2c8a0b-73d9-48d7-9ccc-13a448354bcb",
   "metadata": {},
   "outputs": [
    {
     "name": "stdout",
     "output_type": "stream",
     "text": [
      "hello\n",
      "good morning\n"
     ]
    }
   ],
   "source": [
    "print('hello')\n",
    "print('good morning')\n"
   ]
  },
  {
   "cell_type": "code",
   "execution_count": 3,
   "id": "1af80c95-f9ad-4573-91b7-755e0fc90561",
   "metadata": {},
   "outputs": [
    {
     "name": "stdout",
     "output_type": "stream",
     "text": [
      "hello good morning\n"
     ]
    }
   ],
   "source": [
    "print('hello',end=\" \")\n",
    "print('good morning')"
   ]
  },
  {
   "cell_type": "code",
   "execution_count": 128,
   "id": "314b34bd-a341-4fdd-9caa-47f581cb0600",
   "metadata": {},
   "outputs": [
    {
     "name": "stdout",
     "output_type": "stream",
     "text": [
      "hibipi\n"
     ]
    }
   ],
   "source": [
    "print('hi', 'bi','pi', sep=\"\")"
   ]
  },
  {
   "cell_type": "code",
   "execution_count": 130,
   "id": "f8c9fc16-3d60-4e85-9ed2-f8956fd44719",
   "metadata": {},
   "outputs": [
    {
     "name": "stdout",
     "output_type": "stream",
     "text": [
      "hi--->bi--->pi\n"
     ]
    }
   ],
   "source": [
    "print('hi', 'bi','pi', sep=\"--->\")"
   ]
  },
  {
   "cell_type": "code",
   "execution_count": 136,
   "id": "52e66ec8-be47-4a8d-815b-49d106505279",
   "metadata": {},
   "outputs": [
    {
     "name": "stdout",
     "output_type": "stream",
     "text": [
      "hi@bi@pi\n"
     ]
    }
   ],
   "source": [
    "print('hi', 'bi','pi', sep=\"@\")"
   ]
  },
  {
   "cell_type": "code",
   "execution_count": 140,
   "id": "bac960b6-3ad3-44b5-8a45-b209fecdaae9",
   "metadata": {},
   "outputs": [
    {
     "name": "stdout",
     "output_type": "stream",
     "text": [
      "5.\n"
     ]
    }
   ],
   "source": [
    "print(5,'.',sep='')"
   ]
  },
  {
   "cell_type": "code",
   "execution_count": 154,
   "id": "53dc7d4d-1413-4d0b-b5f6-db3ebfa2fd50",
   "metadata": {},
   "outputs": [
    {
     "name": "stdout",
     "output_type": "stream",
     "text": [
      "11 12 13.\n"
     ]
    }
   ],
   "source": [
    "print(11,12,end=' ')\n",
    "print(13,'.',sep='')\n"
   ]
  },
  {
   "cell_type": "code",
   "execution_count": 3,
   "id": "bc71003e-55a3-49b6-b04e-94f8b5e96e74",
   "metadata": {},
   "outputs": [
    {
     "data": {
      "text/plain": [
       "[10, 20]"
      ]
     },
     "execution_count": 3,
     "metadata": {},
     "output_type": "execute_result"
    }
   ],
   "source": [
    "l1=[]\n",
    "l1.append(10)\n",
    "l1.append(20)\n",
    "l1"
   ]
  },
  {
   "cell_type": "code",
   "execution_count": 5,
   "id": "87d21111-d420-4899-a3e1-50d336bb5d39",
   "metadata": {},
   "outputs": [
    {
     "data": {
      "text/plain": [
       "[10, 20]"
      ]
     },
     "execution_count": 5,
     "metadata": {},
     "output_type": "execute_result"
    }
   ],
   "source": [
    "l2=l1.copy()\n",
    "l2"
   ]
  },
  {
   "cell_type": "code",
   "execution_count": 7,
   "id": "bf1a5d96-1633-4630-b506-1d654ad95d8d",
   "metadata": {},
   "outputs": [
    {
     "data": {
      "text/plain": [
       "True"
      ]
     },
     "execution_count": 7,
     "metadata": {},
     "output_type": "execute_result"
    }
   ],
   "source": [
    "l1==l2"
   ]
  },
  {
   "cell_type": "code",
   "execution_count": 9,
   "id": "5a2fda5d-e33a-483c-8126-7a506da4f4e3",
   "metadata": {},
   "outputs": [
    {
     "data": {
      "text/plain": [
       "[]"
      ]
     },
     "execution_count": 9,
     "metadata": {},
     "output_type": "execute_result"
    }
   ],
   "source": [
    "l1.clear()\n",
    "l1"
   ]
  },
  {
   "cell_type": "code",
   "execution_count": 11,
   "id": "5c72701b-9e5c-4f5f-829e-44534c6c9a9b",
   "metadata": {},
   "outputs": [
    {
     "ename": "NameError",
     "evalue": "name 'l1' is not defined",
     "output_type": "error",
     "traceback": [
      "\u001b[1;31m---------------------------------------------------------------------------\u001b[0m",
      "\u001b[1;31mNameError\u001b[0m                                 Traceback (most recent call last)",
      "Cell \u001b[1;32mIn[11], line 2\u001b[0m\n\u001b[0;32m      1\u001b[0m \u001b[38;5;28;01mdel\u001b[39;00m l1\n\u001b[1;32m----> 2\u001b[0m l1\n",
      "\u001b[1;31mNameError\u001b[0m: name 'l1' is not defined"
     ]
    }
   ],
   "source": [
    "del l1\n",
    "l1"
   ]
  },
  {
   "cell_type": "code",
   "execution_count": 13,
   "id": "1749bcf8-105c-4ab1-883d-3c926da7da8d",
   "metadata": {},
   "outputs": [
    {
     "data": {
      "text/plain": [
       "['1']"
      ]
     },
     "execution_count": 13,
     "metadata": {},
     "output_type": "execute_result"
    }
   ],
   "source": [
    "l=list(\"1\")\n",
    "l"
   ]
  },
  {
   "cell_type": "code",
   "execution_count": 15,
   "id": "77e5ad5e-8d29-4179-9a82-1f97789c098b",
   "metadata": {},
   "outputs": [
    {
     "data": {
      "text/plain": [
       "2"
      ]
     },
     "execution_count": 15,
     "metadata": {},
     "output_type": "execute_result"
    }
   ],
   "source": [
    "len(l2)"
   ]
  },
  {
   "cell_type": "code",
   "execution_count": 17,
   "id": "e139830a-cfec-4a55-b51e-21cf9adc25bc",
   "metadata": {},
   "outputs": [
    {
     "name": "stdout",
     "output_type": "stream",
     "text": [
      "2281245261120\n"
     ]
    }
   ],
   "source": [
    "print(id(l2))"
   ]
  },
  {
   "cell_type": "code",
   "execution_count": 19,
   "id": "c864e9c8-941d-4f4d-9c91-1711bae581ad",
   "metadata": {},
   "outputs": [
    {
     "data": {
      "text/plain": [
       "[10, 20, 'nit']"
      ]
     },
     "execution_count": 19,
     "metadata": {},
     "output_type": "execute_result"
    }
   ],
   "source": [
    "l2.append('nit')\n",
    "l2"
   ]
  },
  {
   "cell_type": "code",
   "execution_count": 21,
   "id": "ac87e07b-db1b-4b7b-8256-a12624d5e88d",
   "metadata": {},
   "outputs": [],
   "source": [
    "l2.remove('nit')"
   ]
  },
  {
   "cell_type": "code",
   "execution_count": 39,
   "id": "b7e7fea3-bc9b-4272-8dbb-71ef77bd1d59",
   "metadata": {},
   "outputs": [
    {
     "data": {
      "text/plain": [
       "[10, 20, 'nit']"
      ]
     },
     "execution_count": 39,
     "metadata": {},
     "output_type": "execute_result"
    }
   ],
   "source": [
    "l2"
   ]
  },
  {
   "cell_type": "code",
   "execution_count": 23,
   "id": "1e13854d-2a5e-423d-92e0-59529eb7577d",
   "metadata": {},
   "outputs": [
    {
     "data": {
      "text/plain": [
       "[10, 20]"
      ]
     },
     "execution_count": 23,
     "metadata": {},
     "output_type": "execute_result"
    }
   ],
   "source": [
    "l2[:]"
   ]
  },
  {
   "cell_type": "code",
   "execution_count": 27,
   "id": "d5801619-e951-460e-9e20-9075041cc4c0",
   "metadata": {},
   "outputs": [],
   "source": [
    "l2.append(1+2j)"
   ]
  },
  {
   "cell_type": "code",
   "execution_count": 29,
   "id": "4339606c-16a6-4cd2-92aa-c36f5041821c",
   "metadata": {},
   "outputs": [
    {
     "data": {
      "text/plain": [
       "[10, 20, (1+2j), [1, 2, 3]]"
      ]
     },
     "execution_count": 29,
     "metadata": {},
     "output_type": "execute_result"
    }
   ],
   "source": [
    "l2.append([1,2,3])\n",
    "l2"
   ]
  },
  {
   "cell_type": "code",
   "execution_count": null,
   "id": "ad47a749-4abe-456b-9827-23b74a68c256",
   "metadata": {},
   "outputs": [],
   "source": []
  }
 ],
 "metadata": {
  "kernelspec": {
   "display_name": "Python 3 (ipykernel)",
   "language": "python",
   "name": "python3"
  },
  "language_info": {
   "codemirror_mode": {
    "name": "ipython",
    "version": 3
   },
   "file_extension": ".py",
   "mimetype": "text/x-python",
   "name": "python",
   "nbconvert_exporter": "python",
   "pygments_lexer": "ipython3",
   "version": "3.12.7"
  }
 },
 "nbformat": 4,
 "nbformat_minor": 5
}

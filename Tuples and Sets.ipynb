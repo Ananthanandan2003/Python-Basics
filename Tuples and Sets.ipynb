{
 "cells": [
  {
   "cell_type": "markdown",
   "id": "1b16ff80-ae33-4b5a-8d36-fd97b401efa3",
   "metadata": {},
   "source": [
    "# Tuple "
   ]
  },
  {
   "cell_type": "markdown",
   "id": "67b64a94-d4ad-429f-977d-bcc49a8a3e44",
   "metadata": {},
   "source": [
    "## creation,Indexing and Slicing"
   ]
  },
  {
   "cell_type": "code",
   "execution_count": 2,
   "id": "46c172a4-cdbb-413e-9964-7cb96b87a200",
   "metadata": {},
   "outputs": [
    {
     "data": {
      "text/plain": [
       "()"
      ]
     },
     "execution_count": 2,
     "metadata": {},
     "output_type": "execute_result"
    }
   ],
   "source": [
    "t=()\n",
    "t"
   ]
  },
  {
   "cell_type": "code",
   "execution_count": 4,
   "id": "18f2cbd1-ed06-41aa-9f54-9e7753d31310",
   "metadata": {},
   "outputs": [
    {
     "data": {
      "text/plain": [
       "tuple"
      ]
     },
     "execution_count": 4,
     "metadata": {},
     "output_type": "execute_result"
    }
   ],
   "source": [
    "type(t)"
   ]
  },
  {
   "cell_type": "code",
   "execution_count": 6,
   "id": "488c8b6c-410d-4cb8-939d-8cbda4cd95fb",
   "metadata": {},
   "outputs": [
    {
     "data": {
      "text/plain": [
       "(1, 2, 3, 4, 4)"
      ]
     },
     "execution_count": 6,
     "metadata": {},
     "output_type": "execute_result"
    }
   ],
   "source": [
    "t=(1,2,3,4,4)\n",
    "t"
   ]
  },
  {
   "cell_type": "code",
   "execution_count": 8,
   "id": "60e0a289-5eea-4726-814f-b979ec41863d",
   "metadata": {},
   "outputs": [
    {
     "data": {
      "text/plain": [
       "(1, 2.3, 'abc', [33, 44], (10, 20), (1+2j), {'ab', 'bc'})"
      ]
     },
     "execution_count": 8,
     "metadata": {},
     "output_type": "execute_result"
    }
   ],
   "source": [
    "t=(1,2.3,'abc',[33,44],(10,20),1+2j,{'ab','bc'})\n",
    "t"
   ]
  },
  {
   "cell_type": "code",
   "execution_count": 10,
   "id": "2bfbd549-4848-4b38-a8cb-5487d40b412e",
   "metadata": {},
   "outputs": [
    {
     "data": {
      "text/plain": [
       "7"
      ]
     },
     "execution_count": 10,
     "metadata": {},
     "output_type": "execute_result"
    }
   ],
   "source": [
    "len(t)"
   ]
  },
  {
   "cell_type": "code",
   "execution_count": 12,
   "id": "858af679-535d-48d9-901e-bdbe7522e73d",
   "metadata": {},
   "outputs": [
    {
     "data": {
      "text/plain": [
       "1"
      ]
     },
     "execution_count": 12,
     "metadata": {},
     "output_type": "execute_result"
    }
   ],
   "source": [
    "t[0]"
   ]
  },
  {
   "cell_type": "code",
   "execution_count": 14,
   "id": "b8864356-2019-4379-b1a2-190173ccebcc",
   "metadata": {},
   "outputs": [
    {
     "data": {
      "text/plain": [
       "'abc'"
      ]
     },
     "execution_count": 14,
     "metadata": {},
     "output_type": "execute_result"
    }
   ],
   "source": [
    "t[2]"
   ]
  },
  {
   "cell_type": "code",
   "execution_count": 16,
   "id": "fd3e5c35-5411-4c53-933c-2d74ad98fbb3",
   "metadata": {},
   "outputs": [
    {
     "data": {
      "text/plain": [
       "{'ab', 'bc'}"
      ]
     },
     "execution_count": 16,
     "metadata": {},
     "output_type": "execute_result"
    }
   ],
   "source": [
    "t[-1]"
   ]
  },
  {
   "cell_type": "code",
   "execution_count": 18,
   "id": "354b5ad0-6de9-41b9-9c7a-cf3c540be7a0",
   "metadata": {},
   "outputs": [
    {
     "data": {
      "text/plain": [
       "(1, 2.3, 'abc', [33, 44], (10, 20), (1+2j), {'ab', 'bc'})"
      ]
     },
     "execution_count": 18,
     "metadata": {},
     "output_type": "execute_result"
    }
   ],
   "source": [
    "t[:]"
   ]
  },
  {
   "cell_type": "markdown",
   "id": "58450779-1923-441a-bd3d-8d04196c9c3b",
   "metadata": {},
   "source": [
    "t[2][2]"
   ]
  },
  {
   "cell_type": "code",
   "execution_count": 24,
   "id": "5f020bf3-6996-4cb8-a793-db91605b0639",
   "metadata": {},
   "outputs": [
    {
     "data": {
      "text/plain": [
       "({'ab', 'bc'}, (1+2j), (10, 20), [33, 44], 'abc', 2.3, 1)"
      ]
     },
     "execution_count": 24,
     "metadata": {},
     "output_type": "execute_result"
    }
   ],
   "source": [
    "t[::-1]"
   ]
  },
  {
   "cell_type": "code",
   "execution_count": 26,
   "id": "3348176f-5efc-4a9e-a980-2acf1c188b27",
   "metadata": {},
   "outputs": [
    {
     "data": {
      "text/plain": [
       "('abc', [33, 44], (10, 20), (1+2j), {'ab', 'bc'})"
      ]
     },
     "execution_count": 26,
     "metadata": {},
     "output_type": "execute_result"
    }
   ],
   "source": [
    "t[2:7]"
   ]
  },
  {
   "cell_type": "code",
   "execution_count": 28,
   "id": "5e446c9f-eda5-4c02-af03-a1fce1ade6a7",
   "metadata": {},
   "outputs": [
    {
     "data": {
      "text/plain": [
       "(2.3, 'abc', [33, 44], (10, 20))"
      ]
     },
     "execution_count": 28,
     "metadata": {},
     "output_type": "execute_result"
    }
   ],
   "source": [
    "t[-6:-2]"
   ]
  },
  {
   "cell_type": "code",
   "execution_count": 30,
   "id": "ab5531af-a6ee-4c0a-b9e0-733efa5527f9",
   "metadata": {},
   "outputs": [
    {
     "data": {
      "text/plain": [
       "(1, 2.3, 'abc', [33, 44])"
      ]
     },
     "execution_count": 30,
     "metadata": {},
     "output_type": "execute_result"
    }
   ],
   "source": [
    "t[:-3]"
   ]
  },
  {
   "cell_type": "code",
   "execution_count": 32,
   "id": "a34ccd85-1f56-4cb0-b072-33eb28b6470b",
   "metadata": {},
   "outputs": [
    {
     "data": {
      "text/plain": [
       "('abc', [33, 44], (10, 20), (1+2j), {'ab', 'bc'})"
      ]
     },
     "execution_count": 32,
     "metadata": {},
     "output_type": "execute_result"
    }
   ],
   "source": [
    "t[2:]"
   ]
  },
  {
   "cell_type": "markdown",
   "id": "914507dc-95f4-49b8-8240-637863723166",
   "metadata": {},
   "source": [
    "## Loop through a tuple"
   ]
  },
  {
   "cell_type": "code",
   "execution_count": 45,
   "id": "c378088d-fcfc-4bf0-9b70-11bc9f291cf1",
   "metadata": {},
   "outputs": [
    {
     "data": {
      "text/plain": [
       "(1, 2.3, 'abc', [33, 44], (10, 20), (1+2j), {'ab', 'bc'})"
      ]
     },
     "execution_count": 45,
     "metadata": {},
     "output_type": "execute_result"
    }
   ],
   "source": [
    "t"
   ]
  },
  {
   "cell_type": "code",
   "execution_count": 47,
   "id": "520da3d8-0a8b-4e17-9da5-eadaa412489a",
   "metadata": {},
   "outputs": [
    {
     "name": "stdout",
     "output_type": "stream",
     "text": [
      "1\n",
      "2.3\n",
      "abc\n",
      "[33, 44]\n",
      "(10, 20)\n",
      "(1+2j)\n",
      "{'bc', 'ab'}\n"
     ]
    }
   ],
   "source": [
    "for i in t:\n",
    "    print(i)"
   ]
  },
  {
   "cell_type": "code",
   "execution_count": 49,
   "id": "01801b08-e1e9-41da-a789-166504f07d3a",
   "metadata": {},
   "outputs": [
    {
     "name": "stdout",
     "output_type": "stream",
     "text": [
      "(0, 1)\n",
      "(1, 2.3)\n",
      "(2, 'abc')\n",
      "(3, [33, 44])\n",
      "(4, (10, 20))\n",
      "(5, (1+2j))\n",
      "(6, {'bc', 'ab'})\n"
     ]
    }
   ],
   "source": [
    "for i in enumerate(t):\n",
    "    print(i)"
   ]
  },
  {
   "cell_type": "markdown",
   "id": "5760dbf3-8b18-474f-8c67-88126093674f",
   "metadata": {},
   "source": [
    "## Membership, Index position and sorting"
   ]
  },
  {
   "cell_type": "code",
   "execution_count": 54,
   "id": "c4314fa7-c439-4418-a47c-0a5db89b955d",
   "metadata": {},
   "outputs": [
    {
     "data": {
      "text/plain": [
       "(1, 2.3, 'abc', [33, 44], (10, 20), (1+2j), {'ab', 'bc'})"
      ]
     },
     "execution_count": 54,
     "metadata": {},
     "output_type": "execute_result"
    }
   ],
   "source": [
    "t"
   ]
  },
  {
   "cell_type": "code",
   "execution_count": 60,
   "id": "2f0452ac-840e-4e92-84a9-f93b0feb105a",
   "metadata": {},
   "outputs": [
    {
     "data": {
      "text/plain": [
       "True"
      ]
     },
     "execution_count": 60,
     "metadata": {},
     "output_type": "execute_result"
    }
   ],
   "source": [
    "'abc' in t"
   ]
  },
  {
   "cell_type": "code",
   "execution_count": 62,
   "id": "18771cac-00f5-4be2-9bb9-aa417faf9e21",
   "metadata": {},
   "outputs": [
    {
     "data": {
      "text/plain": [
       "False"
      ]
     },
     "execution_count": 62,
     "metadata": {},
     "output_type": "execute_result"
    }
   ],
   "source": [
    "'bcd' in t"
   ]
  },
  {
   "cell_type": "code",
   "execution_count": 72,
   "id": "c90e0697-8b6d-4aa7-8533-64ca4d90b307",
   "metadata": {},
   "outputs": [
    {
     "name": "stdout",
     "output_type": "stream",
     "text": [
      "True\n"
     ]
    }
   ],
   "source": [
    "if 1 in t:\n",
    "    print(\"True\")\n",
    "else:\n",
    "    print(\"False\")   "
   ]
  },
  {
   "cell_type": "code",
   "execution_count": 66,
   "id": "c6b6b773-ed86-497e-8b25-d5d737429efb",
   "metadata": {},
   "outputs": [
    {
     "data": {
      "text/plain": [
       "0"
      ]
     },
     "execution_count": 66,
     "metadata": {},
     "output_type": "execute_result"
    }
   ],
   "source": [
    "t.index(1)"
   ]
  },
  {
   "cell_type": "code",
   "execution_count": 68,
   "id": "219dda91-e767-4ab0-9970-4b47ac0fb0d4",
   "metadata": {},
   "outputs": [
    {
     "data": {
      "text/plain": [
       "2"
      ]
     },
     "execution_count": 68,
     "metadata": {},
     "output_type": "execute_result"
    }
   ],
   "source": [
    "t.index('abc')"
   ]
  },
  {
   "cell_type": "code",
   "execution_count": 75,
   "id": "4c57460a-f8d0-487f-970d-4600989e6602",
   "metadata": {},
   "outputs": [
    {
     "data": {
      "text/plain": [
       "(1, 2.3, 'abc', [33, 44], (10, 20), (1+2j), {'ab', 'bc'})"
      ]
     },
     "execution_count": 75,
     "metadata": {},
     "output_type": "execute_result"
    }
   ],
   "source": [
    "t"
   ]
  },
  {
   "cell_type": "code",
   "execution_count": 79,
   "id": "293191cf-519a-4b58-8640-42eb26e6de34",
   "metadata": {},
   "outputs": [
    {
     "data": {
      "text/plain": [
       "[1, 2, 3, 4, 4, 5, 7]"
      ]
     },
     "execution_count": 79,
     "metadata": {},
     "output_type": "execute_result"
    }
   ],
   "source": [
    "t1=(1,3,4,5,7,4,2)\n",
    "sorted(t1)"
   ]
  },
  {
   "cell_type": "code",
   "execution_count": 81,
   "id": "dec3a44c-a7ee-434f-8c55-2224c2dba291",
   "metadata": {},
   "outputs": [
    {
     "data": {
      "text/plain": [
       "[7, 5, 4, 4, 3, 2, 1]"
      ]
     },
     "execution_count": 81,
     "metadata": {},
     "output_type": "execute_result"
    }
   ],
   "source": [
    "sorted(t1, reverse=True)"
   ]
  },
  {
   "cell_type": "markdown",
   "id": "20c399e2-43b9-48a4-b857-21499ca54207",
   "metadata": {},
   "source": [
    "### if we wanna perform list methods with tuple , we need to convert tuple to list"
   ]
  },
  {
   "cell_type": "code",
   "execution_count": 85,
   "id": "2e7532fc-b061-4c6f-bc2e-d9cd640d5130",
   "metadata": {},
   "outputs": [
    {
     "data": {
      "text/plain": [
       "(1, 2.3, 'abc', [33, 44], (10, 20), (1+2j), {'ab', 'bc'})"
      ]
     },
     "execution_count": 85,
     "metadata": {},
     "output_type": "execute_result"
    }
   ],
   "source": [
    "t"
   ]
  },
  {
   "cell_type": "code",
   "execution_count": 87,
   "id": "af841777-0319-41a8-9b78-f453723045b1",
   "metadata": {},
   "outputs": [],
   "source": [
    "l=list(t)"
   ]
  },
  {
   "cell_type": "code",
   "execution_count": 89,
   "id": "6b7d4966-ec11-4a81-a49e-1229d9bf9f67",
   "metadata": {},
   "outputs": [
    {
     "data": {
      "text/plain": [
       "[1, 2.3, 'abc', [33, 44], (10, 20), (1+2j), {'ab', 'bc'}]"
      ]
     },
     "execution_count": 89,
     "metadata": {},
     "output_type": "execute_result"
    }
   ],
   "source": [
    "l"
   ]
  },
  {
   "cell_type": "code",
   "execution_count": 92,
   "id": "4a40f5ab-39de-457a-8e3d-ec24217c1902",
   "metadata": {},
   "outputs": [],
   "source": [
    "# Now we can perform list opeartions"
   ]
  },
  {
   "cell_type": "code",
   "execution_count": 94,
   "id": "466ba36d-21fe-424e-9463-998c6a131bb1",
   "metadata": {},
   "outputs": [
    {
     "data": {
      "text/plain": [
       "[1, 2.3, 'abc', [33, 44], (10, 20), (1+2j), {'ab', 'bc'}, 2]"
      ]
     },
     "execution_count": 94,
     "metadata": {},
     "output_type": "execute_result"
    }
   ],
   "source": [
    "l.append(2)\n",
    "l"
   ]
  },
  {
   "cell_type": "markdown",
   "id": "a4a45ed5-6763-41b8-9129-a3a49ff25aea",
   "metadata": {},
   "source": [
    "# SETS"
   ]
  },
  {
   "cell_type": "code",
   "execution_count": 100,
   "id": "8622de98-93b6-4718-8716-bbec7b105add",
   "metadata": {},
   "outputs": [
    {
     "data": {
      "text/plain": [
       "{}"
      ]
     },
     "execution_count": 100,
     "metadata": {},
     "output_type": "execute_result"
    }
   ],
   "source": [
    "s={}\n",
    "s"
   ]
  },
  {
   "cell_type": "code",
   "execution_count": 102,
   "id": "fc4a5bac-a29c-413c-b0ac-83321e8abdaa",
   "metadata": {},
   "outputs": [
    {
     "data": {
      "text/plain": [
       "dict"
      ]
     },
     "execution_count": 102,
     "metadata": {},
     "output_type": "execute_result"
    }
   ],
   "source": [
    "type(s)"
   ]
  },
  {
   "cell_type": "code",
   "execution_count": 122,
   "id": "1fbde800-a274-4e51-9ec3-a83684bb5a7f",
   "metadata": {},
   "outputs": [
    {
     "data": {
      "text/plain": [
       "set()"
      ]
     },
     "execution_count": 122,
     "metadata": {},
     "output_type": "execute_result"
    }
   ],
   "source": [
    "s_=set()\n",
    "s_"
   ]
  },
  {
   "cell_type": "code",
   "execution_count": 124,
   "id": "188912e8-1a87-4ffe-8b77-0cdafe121764",
   "metadata": {},
   "outputs": [
    {
     "data": {
      "text/plain": [
       "set"
      ]
     },
     "execution_count": 124,
     "metadata": {},
     "output_type": "execute_result"
    }
   ],
   "source": [
    "type(s_)"
   ]
  },
  {
   "cell_type": "code",
   "execution_count": 104,
   "id": "f4b96c57-7ba1-4b4e-ba4b-1c53a6f3594d",
   "metadata": {},
   "outputs": [
    {
     "data": {
      "text/plain": [
       "set"
      ]
     },
     "execution_count": 104,
     "metadata": {},
     "output_type": "execute_result"
    }
   ],
   "source": [
    "s={1,2,3,4,5}\n",
    "type(s)"
   ]
  },
  {
   "cell_type": "code",
   "execution_count": 106,
   "id": "14a02c88-0b0e-481e-a1ae-6b86c99c6088",
   "metadata": {},
   "outputs": [
    {
     "data": {
      "text/plain": [
       "{1, 2, 3}"
      ]
     },
     "execution_count": 106,
     "metadata": {},
     "output_type": "execute_result"
    }
   ],
   "source": [
    "s1={1,2,3,1}\n",
    "s1"
   ]
  },
  {
   "cell_type": "code",
   "execution_count": 108,
   "id": "72818f7e-e3d6-46d0-a1d4-22722825e8a0",
   "metadata": {},
   "outputs": [
    {
     "data": {
      "text/plain": [
       "{(1+3j), (10, 20), 1, 2.5, 'abc'}"
      ]
     },
     "execution_count": 108,
     "metadata": {},
     "output_type": "execute_result"
    }
   ],
   "source": [
    "s2={1,2.5,'abc',(10,20),1+3j}\n",
    "s2"
   ]
  },
  {
   "cell_type": "code",
   "execution_count": 110,
   "id": "5ebf8f9f-5cb5-4bd0-8e86-bb82d2b8a282",
   "metadata": {},
   "outputs": [
    {
     "data": {
      "text/plain": [
       "{1, 2, 3, 4}"
      ]
     },
     "execution_count": 110,
     "metadata": {},
     "output_type": "execute_result"
    }
   ],
   "source": [
    "s1.add(4)\n",
    "s1"
   ]
  },
  {
   "cell_type": "code",
   "execution_count": 112,
   "id": "652089cc-f475-4a21-95cf-7222ae659755",
   "metadata": {},
   "outputs": [
    {
     "data": {
      "text/plain": [
       "{1, 2, 3, 4}"
      ]
     },
     "execution_count": 112,
     "metadata": {},
     "output_type": "execute_result"
    }
   ],
   "source": [
    "s3=s1.copy()\n",
    "s3"
   ]
  },
  {
   "cell_type": "code",
   "execution_count": 114,
   "id": "252eea3f-068f-4318-8a6b-b961cedaade2",
   "metadata": {},
   "outputs": [
    {
     "ename": "TypeError",
     "evalue": "'set' object is not subscriptable",
     "output_type": "error",
     "traceback": [
      "\u001b[1;31m---------------------------------------------------------------------------\u001b[0m",
      "\u001b[1;31mTypeError\u001b[0m                                 Traceback (most recent call last)",
      "Cell \u001b[1;32mIn[114], line 1\u001b[0m\n\u001b[1;32m----> 1\u001b[0m s1[\u001b[38;5;241m0\u001b[39m]\n",
      "\u001b[1;31mTypeError\u001b[0m: 'set' object is not subscriptable"
     ]
    }
   ],
   "source": [
    "s1[0]"
   ]
  },
  {
   "cell_type": "code",
   "execution_count": 116,
   "id": "981ae9c7-ea90-451e-9593-fe0b84b1a18b",
   "metadata": {},
   "outputs": [
    {
     "ename": "TypeError",
     "evalue": "'set' object is not subscriptable",
     "output_type": "error",
     "traceback": [
      "\u001b[1;31m---------------------------------------------------------------------------\u001b[0m",
      "\u001b[1;31mTypeError\u001b[0m                                 Traceback (most recent call last)",
      "Cell \u001b[1;32mIn[116], line 1\u001b[0m\n\u001b[1;32m----> 1\u001b[0m s1[:]\n",
      "\u001b[1;31mTypeError\u001b[0m: 'set' object is not subscriptable"
     ]
    }
   ],
   "source": [
    "s1[:]"
   ]
  },
  {
   "cell_type": "code",
   "execution_count": 130,
   "id": "75a724c6-d937-48bb-bce9-f292f047c26c",
   "metadata": {},
   "outputs": [
    {
     "data": {
      "text/plain": [
       "2958193012608"
      ]
     },
     "execution_count": 130,
     "metadata": {},
     "output_type": "execute_result"
    }
   ],
   "source": [
    "id(s3)"
   ]
  },
  {
   "cell_type": "code",
   "execution_count": 118,
   "id": "629dd204-df7f-441c-bd92-6abf4d5a4b31",
   "metadata": {},
   "outputs": [],
   "source": [
    "s3.clear()"
   ]
  },
  {
   "cell_type": "code",
   "execution_count": 120,
   "id": "a2703a09-7c98-4664-820f-923fb78039fd",
   "metadata": {},
   "outputs": [
    {
     "data": {
      "text/plain": [
       "set()"
      ]
     },
     "execution_count": 120,
     "metadata": {},
     "output_type": "execute_result"
    }
   ],
   "source": [
    "s3"
   ]
  },
  {
   "cell_type": "code",
   "execution_count": 126,
   "id": "011206b3-a836-4388-9441-7e73ca300666",
   "metadata": {},
   "outputs": [
    {
     "data": {
      "text/plain": [
       "5"
      ]
     },
     "execution_count": 126,
     "metadata": {},
     "output_type": "execute_result"
    }
   ],
   "source": [
    "len(s2)"
   ]
  },
  {
   "cell_type": "code",
   "execution_count": 128,
   "id": "ba959c0f-0516-4b52-ab35-46d0113f2d13",
   "metadata": {},
   "outputs": [
    {
     "data": {
      "text/plain": [
       "2958193012608"
      ]
     },
     "execution_count": 128,
     "metadata": {},
     "output_type": "execute_result"
    }
   ],
   "source": [
    "id(s3)"
   ]
  },
  {
   "cell_type": "code",
   "execution_count": 132,
   "id": "1f1ac773-7add-4c5c-8adb-17c162655a98",
   "metadata": {},
   "outputs": [],
   "source": [
    "del s3"
   ]
  },
  {
   "cell_type": "code",
   "execution_count": 134,
   "id": "55327603-a057-4b67-8f10-51316ffbea9b",
   "metadata": {},
   "outputs": [
    {
     "ename": "NameError",
     "evalue": "name 's3' is not defined",
     "output_type": "error",
     "traceback": [
      "\u001b[1;31m---------------------------------------------------------------------------\u001b[0m",
      "\u001b[1;31mNameError\u001b[0m                                 Traceback (most recent call last)",
      "Cell \u001b[1;32mIn[134], line 1\u001b[0m\n\u001b[1;32m----> 1\u001b[0m s3\n",
      "\u001b[1;31mNameError\u001b[0m: name 's3' is not defined"
     ]
    }
   ],
   "source": [
    "s3"
   ]
  },
  {
   "cell_type": "code",
   "execution_count": 136,
   "id": "22a49e13-2da0-4725-8ff5-4b3bc045444f",
   "metadata": {},
   "outputs": [
    {
     "data": {
      "text/plain": [
       "2958193016192"
      ]
     },
     "execution_count": 136,
     "metadata": {},
     "output_type": "execute_result"
    }
   ],
   "source": [
    "s3={1,2,3,4}\n",
    "id(s3)"
   ]
  },
  {
   "cell_type": "code",
   "execution_count": 138,
   "id": "78219cef-08d5-426c-a8a0-2e7c48bba1f1",
   "metadata": {},
   "outputs": [
    {
     "data": {
      "text/plain": [
       "{1, 3, 4}"
      ]
     },
     "execution_count": 138,
     "metadata": {},
     "output_type": "execute_result"
    }
   ],
   "source": [
    "s3.remove(2)\n",
    "s3"
   ]
  },
  {
   "cell_type": "code",
   "execution_count": 142,
   "id": "536d113b-0f54-4e1d-88c5-578c41272d16",
   "metadata": {},
   "outputs": [
    {
     "data": {
      "text/plain": [
       "{3, 4}"
      ]
     },
     "execution_count": 142,
     "metadata": {},
     "output_type": "execute_result"
    }
   ],
   "source": [
    "s3.pop()\n",
    "s3"
   ]
  },
  {
   "cell_type": "code",
   "execution_count": 144,
   "id": "51dd6333-e926-4a84-935f-e933bed2f648",
   "metadata": {},
   "outputs": [
    {
     "data": {
      "text/plain": [
       "{(1+3j), (10, 20), 1, 2.5, 'abc'}"
      ]
     },
     "execution_count": 144,
     "metadata": {},
     "output_type": "execute_result"
    }
   ],
   "source": [
    "s2"
   ]
  },
  {
   "cell_type": "code",
   "execution_count": 146,
   "id": "6a176675-38fc-45e8-99c4-d7176919f18b",
   "metadata": {},
   "outputs": [
    {
     "data": {
      "text/plain": [
       "1"
      ]
     },
     "execution_count": 146,
     "metadata": {},
     "output_type": "execute_result"
    }
   ],
   "source": [
    "s2.pop()"
   ]
  },
  {
   "cell_type": "code",
   "execution_count": 148,
   "id": "adae51bc-0fe1-488e-8e4d-05656a39e184",
   "metadata": {},
   "outputs": [
    {
     "data": {
      "text/plain": [
       "{(1+3j), (10, 20), 2.5, 'abc'}"
      ]
     },
     "execution_count": 148,
     "metadata": {},
     "output_type": "execute_result"
    }
   ],
   "source": [
    "s2"
   ]
  },
  {
   "cell_type": "code",
   "execution_count": 150,
   "id": "ace1977f-6c37-4cdd-9009-915421de9907",
   "metadata": {},
   "outputs": [
    {
     "ename": "TypeError",
     "evalue": "set.pop() takes no arguments (1 given)",
     "output_type": "error",
     "traceback": [
      "\u001b[1;31m---------------------------------------------------------------------------\u001b[0m",
      "\u001b[1;31mTypeError\u001b[0m                                 Traceback (most recent call last)",
      "Cell \u001b[1;32mIn[150], line 1\u001b[0m\n\u001b[1;32m----> 1\u001b[0m s2\u001b[38;5;241m.\u001b[39mpop(\u001b[38;5;241m0\u001b[39m)\n\u001b[0;32m      2\u001b[0m s2\n",
      "\u001b[1;31mTypeError\u001b[0m: set.pop() takes no arguments (1 given)"
     ]
    }
   ],
   "source": [
    "s2.pop(0)\n",
    "s2"
   ]
  },
  {
   "cell_type": "code",
   "execution_count": null,
   "id": "c40e20aa-661a-454e-8a5a-b338d5920c9b",
   "metadata": {},
   "outputs": [],
   "source": []
  }
 ],
 "metadata": {
  "kernelspec": {
   "display_name": "Python 3 (ipykernel)",
   "language": "python",
   "name": "python3"
  },
  "language_info": {
   "codemirror_mode": {
    "name": "ipython",
    "version": 3
   },
   "file_extension": ".py",
   "mimetype": "text/x-python",
   "name": "python",
   "nbconvert_exporter": "python",
   "pygments_lexer": "ipython3",
   "version": "3.12.7"
  }
 },
 "nbformat": 4,
 "nbformat_minor": 5
}
